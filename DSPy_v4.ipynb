{
 "cells": [
  {
   "cell_type": "code",
   "execution_count": 1,
   "id": "7ffa6869-2a19-42bf-9a1c-1fe45573d4e7",
   "metadata": {},
   "outputs": [],
   "source": [
    "# pip install openinference-instrumentation-dspy dspy\n",
    "# pip install openinference-instrumentation-litellm arize-phoenix litellm"
   ]
  },
  {
   "cell_type": "code",
   "execution_count": 2,
   "id": "f542a8cd-56aa-44fc-a187-a65be8a517bc",
   "metadata": {},
   "outputs": [
    {
     "name": "stderr",
     "output_type": "stream",
     "text": [
      "/usr/lib/python3/dist-packages/scipy/__init__.py:146: UserWarning: A NumPy version >=1.17.3 and <1.25.0 is required for this version of SciPy (detected version 1.26.0\n",
      "  warnings.warn(f\"A NumPy version >={np_minversion} and <{np_maxversion}\"\n"
     ]
    },
    {
     "name": "stdout",
     "output_type": "stream",
     "text": [
      "🌍 To view the Phoenix app in your browser, visit http://localhost:6006/\n",
      "📖 For more information on how to use Phoenix, check out https://docs.arize.com/phoenix\n",
      "http://localhost:6006/\n",
      "🔭 OpenTelemetry Tracing Details 🔭\n",
      "|  Phoenix Project: LLMs\n",
      "|  Span Processor: SimpleSpanProcessor\n",
      "|  Collector Endpoint: localhost:4317\n",
      "|  Transport: gRPC\n",
      "|  Transport Headers: {'user-agent': '****'}\n",
      "|  \n",
      "|  Using a default SpanProcessor. `add_span_processor` will overwrite this default.\n",
      "|  \n",
      "|  `register` has set this TracerProvider as the global OpenTelemetry default.\n",
      "|  To disable this behavior, call `register` with `set_global_tracer_provider=False`.\n",
      "\n"
     ]
    },
    {
     "data": {
      "text/html": [
       "<div>\n",
       "<style scoped>\n",
       "    .dataframe tbody tr th:only-of-type {\n",
       "        vertical-align: middle;\n",
       "    }\n",
       "\n",
       "    .dataframe tbody tr th {\n",
       "        vertical-align: top;\n",
       "    }\n",
       "\n",
       "    .dataframe thead th {\n",
       "        text-align: right;\n",
       "    }\n",
       "</style>\n",
       "<table border=\"1\" class=\"dataframe\">\n",
       "  <thead>\n",
       "    <tr style=\"text-align: right;\">\n",
       "      <th></th>\n",
       "      <th>index</th>\n",
       "      <th>Question</th>\n",
       "      <th>Recommendation</th>\n",
       "    </tr>\n",
       "  </thead>\n",
       "  <tbody>\n",
       "    <tr>\n",
       "      <th>0</th>\n",
       "      <td>0</td>\n",
       "      <td>How does one determine the optimal DMARC polic...</td>\n",
       "      <td>Determining the optimal DMARC policy for a dom...</td>\n",
       "    </tr>\n",
       "    <tr>\n",
       "      <th>1</th>\n",
       "      <td>1</td>\n",
       "      <td>How does the err tag in a DMARC record handle ...</td>\n",
       "      <td>In the context of email authentication protoco...</td>\n",
       "    </tr>\n",
       "    <tr>\n",
       "      <th>2</th>\n",
       "      <td>2</td>\n",
       "      <td>How does the presence or absence of the l tag ...</td>\n",
       "      <td>The l tag in a DMARC record plays a crucial ro...</td>\n",
       "    </tr>\n",
       "    <tr>\n",
       "      <th>3</th>\n",
       "      <td>3</td>\n",
       "      <td>How does the rua tag in a DMARC record enable ...</td>\n",
       "      <td>The rua tag in a DMARC record plays a crucial ...</td>\n",
       "    </tr>\n",
       "    <tr>\n",
       "      <th>4</th>\n",
       "      <td>4</td>\n",
       "      <td>Can the mode tag in a DMARC record be omitted,...</td>\n",
       "      <td>In the context of DKIM, DMARC, and SPF, the mo...</td>\n",
       "    </tr>\n",
       "  </tbody>\n",
       "</table>\n",
       "</div>"
      ],
      "text/plain": [
       "   index                                           Question  \\\n",
       "0      0  How does one determine the optimal DMARC polic...   \n",
       "1      1  How does the err tag in a DMARC record handle ...   \n",
       "2      2  How does the presence or absence of the l tag ...   \n",
       "3      3  How does the rua tag in a DMARC record enable ...   \n",
       "4      4  Can the mode tag in a DMARC record be omitted,...   \n",
       "\n",
       "                                      Recommendation  \n",
       "0  Determining the optimal DMARC policy for a dom...  \n",
       "1  In the context of email authentication protoco...  \n",
       "2  The l tag in a DMARC record plays a crucial ro...  \n",
       "3  The rua tag in a DMARC record plays a crucial ...  \n",
       "4  In the context of DKIM, DMARC, and SPF, the mo...  "
      ]
     },
     "execution_count": 2,
     "metadata": {},
     "output_type": "execute_result"
    }
   ],
   "source": [
    "import pandas as pd\n",
    "import gc\n",
    "import torch\n",
    "from datasets import Dataset\n",
    "from tqdm.notebook import tqdm\n",
    "import random\n",
    "from dspy.datasets import DataLoader\n",
    "random.seed(42)\n",
    "dl = DataLoader()\n",
    "from sklearn.model_selection import train_test_split\n",
    "import warnings\n",
    "warnings.filterwarnings('ignore')\n",
    "from dspy.teleprompt import BootstrapFewShot\n",
    "import phoenix as px\n",
    "phoenix_session = px.launch_app()\n",
    "print(phoenix_session.url)\n",
    "from openinference.instrumentation.dspy import DSPyInstrumentor\n",
    "from openinference.instrumentation.litellm import LiteLLMInstrumentor\n",
    "from phoenix.otel import register\n",
    "\n",
    "tracer_provider = register(project_name='LLMs')\n",
    "\n",
    "file_path = 'cleaned_concatenated.csv'\n",
    "df = pd.read_csv(file_path)\n",
    "df.head()"
   ]
  },
  {
   "cell_type": "code",
   "execution_count": 3,
   "id": "cfd15a6d-be66-4fa1-bded-d15d1cdbb8de",
   "metadata": {},
   "outputs": [],
   "source": [
    "import langwatch\n",
    "# sk-lw-4rp0bjgnXJZGGKZ4gjCKVZpHxUfiY4U0bel4PLSlDeJisYpy\n",
    "# langwatch.login()\n",
    "langwatch.api_key = 'sk-lw-4rp0bjgnXJZGGKZ4gjCKVZpHxUfiY4U0bel4PLSlDeJisYpy'"
   ]
  },
  {
   "cell_type": "code",
   "execution_count": 4,
   "id": "ffee26d9-682d-4933-aef2-9727dd9f274a",
   "metadata": {},
   "outputs": [],
   "source": [
    "# https://dspy.ai/learn/optimization/overview/    # 20% train, 80% test\n",
    "trainset_df, devset_df = train_test_split(df, test_size=0.1, random_state=42)  \n",
    "\n",
    "trainset_df = Dataset.from_pandas(trainset_df)\n",
    "devset_df = Dataset.from_pandas(devset_df)"
   ]
  },
  {
   "cell_type": "code",
   "execution_count": 5,
   "id": "9b75a4a2-4b63-4cb9-98a4-d242e6379c1d",
   "metadata": {},
   "outputs": [
    {
     "data": {
      "text/plain": [
       "(145, 4)"
      ]
     },
     "execution_count": 5,
     "metadata": {},
     "output_type": "execute_result"
    }
   ],
   "source": [
    "trainset_df.shape"
   ]
  },
  {
   "cell_type": "code",
   "execution_count": 6,
   "id": "5c3ebe64-0170-47e4-bcad-a06b10ba688e",
   "metadata": {},
   "outputs": [
    {
     "data": {
      "text/plain": [
       "(17, 4)"
      ]
     },
     "execution_count": 6,
     "metadata": {},
     "output_type": "execute_result"
    }
   ],
   "source": [
    "devset_df.shape"
   ]
  },
  {
   "cell_type": "code",
   "execution_count": 7,
   "id": "bab57564-f8b4-4f39-9572-e2f901949fbe",
   "metadata": {},
   "outputs": [],
   "source": [
    "import dspy\n",
    "# llm_model = dspy.LM('ollama_chat/llama3.2', api_base='http://localhost:11434', api_key='')\n",
    "# dspy.configure(lm=llm_model)"
   ]
  },
  {
   "cell_type": "code",
   "execution_count": 8,
   "id": "754c2985-514a-4045-a1c2-a800dfec7bf5",
   "metadata": {},
   "outputs": [],
   "source": [
    "trainset, devset=[],[]\n",
    "\n",
    "for i,ex in enumerate(trainset_df):\n",
    "    example = dspy.Example(question = ex[\"Question\"], answer=ex[\"Recommendation\"]).with_inputs('question')\n",
    "    trainset.append(example)\n",
    "\n",
    "for i,ex in enumerate(devset_df):\n",
    "    example = dspy.Example(question = ex[\"Question\"], answer=ex[\"Recommendation\"]).with_inputs('question')\n",
    "    devset.append(example)"
   ]
  },
  {
   "cell_type": "code",
   "execution_count": 9,
   "id": "8a769594-e99c-4d95-a3a1-63f5a103a501",
   "metadata": {},
   "outputs": [],
   "source": [
    "# temp\n",
    "# trainset = dl.sample(trainset, n=30)"
   ]
  },
  {
   "cell_type": "code",
   "execution_count": 10,
   "id": "8bd954e3-ebca-4665-bc3a-f31b6289e3ee",
   "metadata": {},
   "outputs": [],
   "source": [
    "trainset = trainset[:10]\n",
    "devset = devset[:5]"
   ]
  },
  {
   "cell_type": "code",
   "execution_count": 11,
   "id": "8c732541-2630-4348-b54a-84933cb485e5",
   "metadata": {},
   "outputs": [],
   "source": [
    "LLMinstruction = \"\"\"Evaluate the provided answer using the following instructions:\n",
    "    \n",
    "    **Instructions:**\n",
    "    **Scoring**: Assign:\n",
    "        - **1** if all criteria are met\n",
    "        - **0** if any criterion is unmet\n",
    "        \n",
    "    **Response Format:**\n",
    "        - **Score**: Either 1 or 0.\n",
    "        \n",
    "    **Evaluation Criteria:**\n",
    "        - **Accuracy**: Are the facts correct and aligned with email security standards (e.g., DMARC, SPF, DKIM)?\n",
    "        - **Clarity**: Is the response concise, well-structured, and easy to understand?\n",
    "        - **Completeness**: Does it fully address the question and cover all relevant aspects?\n",
    "        - **Relevance**: Is the answer tailored to the specific question and email security domain?\n",
    "        - **Actionability**: Does it provide clear, practical steps or solutions?\n",
    "        - **Technical Depth**: Are technical terms accurate and appropriate tools mentioned?\n",
    "        - **Deliverability Impact**: Does it balance security and email deliverability?\n",
    "        - **Efficiency**: Is the explanation concise without redundancy?\n",
    "        - **Insightfulness**: Does it help identify issues or suggest proactive improvements?\n",
    "        - **Usability**: Is it adaptable to both technical and non-technical users with real-world examples?\"\"\"\n",
    "\n",
    "class llmJudge(dspy.Signature):\n",
    "    \"\"\"You are an expert evaluator responsible for assessing whether a given answer meets the specified evaluation criteria.\"\"\"\n",
    "\n",
    "    instruction = dspy.InputField(desc=\"Instructions to Evaluate the provided answer\")\n",
    "    question = dspy.InputField(desc=\"Question to be answered\")\n",
    "    answer = dspy.InputField(desc=\"Answer for the question\")\n",
    "    factually_correct = dspy.OutputField(desc=\"Assign: 1 if all criteria are met, 0 if any criterion is unmet\")\n",
    "\n",
    "judge = dspy.ChainOfThought(llmJudge)\n",
    "\n",
    "def llm_metric(example, pred):\n",
    "    factual = judge(instruction=LLMinstruction, question=example.question, answer=pred.answer)\n",
    "    return factual.factually_correct"
   ]
  },
  {
   "cell_type": "code",
   "execution_count": 12,
   "id": "ec58f0b5-7ff8-4c39-8122-b281ac618233",
   "metadata": {},
   "outputs": [],
   "source": [
    "def llmscore(outputs):\n",
    "    return sum([1 if '1' in llm_metric(output[0],output[1]) else 0 for output in tqdm(outputs)])/len(outputs)"
   ]
  },
  {
   "cell_type": "code",
   "execution_count": 13,
   "id": "cf84c8a0-5f01-44fa-a277-7a8abec22f23",
   "metadata": {},
   "outputs": [
    {
     "name": "stderr",
     "output_type": "stream",
     "text": [
      "2025-01-16 20:14:40.311414: I tensorflow/core/util/port.cc:153] oneDNN custom operations are on. You may see slightly different numerical results due to floating-point round-off errors from different computation orders. To turn them off, set the environment variable `TF_ENABLE_ONEDNN_OPTS=0`.\n",
      "2025-01-16 20:14:40.326328: E external/local_xla/xla/stream_executor/cuda/cuda_fft.cc:477] Unable to register cuFFT factory: Attempting to register factory for plugin cuFFT when one has already been registered\n",
      "WARNING: All log messages before absl::InitializeLog() is called are written to STDERR\n",
      "E0000 00:00:1737038680.345944  212405 cuda_dnn.cc:8310] Unable to register cuDNN factory: Attempting to register factory for plugin cuDNN when one has already been registered\n",
      "E0000 00:00:1737038680.351782  212405 cuda_blas.cc:1418] Unable to register cuBLAS factory: Attempting to register factory for plugin cuBLAS when one has already been registered\n",
      "2025-01-16 20:14:40.372168: I tensorflow/core/platform/cpu_feature_guard.cc:210] This TensorFlow binary is optimized to use available CPU instructions in performance-critical operations.\n",
      "To enable the following instructions: AVX2 AVX_VNNI FMA, in other operations, rebuild TensorFlow with the appropriate compiler flags.\n"
     ]
    }
   ],
   "source": [
    "from semscore import EmbeddingModelWrapper\n",
    "from statistics import mean\n",
    "em = EmbeddingModelWrapper()\n",
    "def SemScore(example, pred, trace=None):\n",
    "    similarities = em.get_similarities(\n",
    "        em.get_embeddings([example.answer]),\n",
    "        em.get_embeddings([pred.answer]),\n",
    "    )\n",
    "    \n",
    "    return mean(similarities)"
   ]
  },
  {
   "cell_type": "code",
   "execution_count": 14,
   "id": "5368beb7-56c3-43fd-b75c-e575bc716cf5",
   "metadata": {},
   "outputs": [],
   "source": [
    "from dspy.evaluate import Evaluate\n",
    "evaluate_program = Evaluate(devset=devset, metric= SemScore, \n",
    "                            num_threads=1, \n",
    "                            display_progress=True, \n",
    "                            display_table=5,return_outputs=True)"
   ]
  },
  {
   "cell_type": "code",
   "execution_count": 15,
   "id": "25bb4d3b-4213-458c-abc8-a25084023b3f",
   "metadata": {},
   "outputs": [],
   "source": [
    "def save_table(output,name):\n",
    "    temp_df = [{'Question':out[0].question,'True_Answer':out[0].answer,'Pred_Answer':out[1].answer,'Score':out[2]} for out in output]\n",
    "    temp_df = pd.DataFrame(temp_df)\n",
    "    temp_df.to_csv(f\"{name}.csv\",index=False)"
   ]
  },
  {
   "cell_type": "markdown",
   "id": "37227e95-cf6b-49af-b748-735edb55fc31",
   "metadata": {},
   "source": [
    "<div style=\"background-color: yellow; padding: 10px; border-radius: 5px; font-size: 18px; font-weight: bold;\">\n",
    "    Using **Predict** Module\n",
    "</div>"
   ]
  },
  {
   "cell_type": "markdown",
   "id": "544149b2-b2a5-4f46-bc10-0259c4261b2e",
   "metadata": {},
   "source": [
    "# Zero Shot"
   ]
  },
  {
   "cell_type": "code",
   "execution_count": 16,
   "id": "0c37831e-3071-432a-b62d-d799e980f076",
   "metadata": {},
   "outputs": [],
   "source": [
    "class ZS_GenerateAnswer(dspy.Signature):\n",
    "    \"\"\"\n",
    "    You are an expert in email security. Your goal is to give Recommendation to the user based on their Question.\n",
    "    \"\"\"\n",
    "    question = dspy.InputField(desc=\"User's Question about email security\") \n",
    "    answer = dspy.OutputField(desc=\"The expert's ideal Recommendation to the Question\")\n",
    "\n",
    "class ZS_PredictModel(dspy.Module):\n",
    "    def __init__(self):\n",
    "        self.predict = dspy.Predict(ZS_GenerateAnswer)\n",
    "    def forward(self, question):\n",
    "        return self.predict(question=question)"
   ]
  },
  {
   "cell_type": "markdown",
   "id": "1a43496a-7048-4594-a0d8-00b063118781",
   "metadata": {},
   "source": [
    "# Few Shot"
   ]
  },
  {
   "cell_type": "code",
   "execution_count": 17,
   "id": "b4576e62-b7a9-43e7-a90b-14e34547cd40",
   "metadata": {},
   "outputs": [],
   "source": [
    "class FewShotGenerateAnswer(dspy.Signature):\n",
    "    \"\"\"\n",
    "    You are an expert in email security. Your goal is to give Recommendation to the user based on their Question.\n",
    "    \"\"\"\n",
    "    example = dspy.InputField(desc=\"Few Examples\") \n",
    "    question = dspy.InputField(desc=\"User's Question about email security\") \n",
    "    answer = dspy.OutputField(desc=\"The expert's ideal Recommendation to the Question\")\n",
    "\n",
    "class FewShot_PredictModel(dspy.Module):\n",
    "    def __init__(self, examples):\n",
    "        self.predict = dspy.Predict(FewShotGenerateAnswer)\n",
    "        self.fewExamples = examples  # Few-shot examples\n",
    "\n",
    "    def forward(self, question):\n",
    "        return self.predict(example=self.fewExamples,question=question)"
   ]
  },
  {
   "cell_type": "code",
   "execution_count": 18,
   "id": "9fc95f68-ff8a-44e7-a11e-cab121d4a001",
   "metadata": {},
   "outputs": [],
   "source": [
    "import random\n",
    "from dspy.datasets import DataLoader\n",
    "random.seed(42)\n",
    "dl = DataLoader()\n",
    "# few_shot_examples = random.sample(trainset, 20)\n",
    "\n",
    "# few_shot_examples = dl.sample(trainset, n=1) # `dataset` is a List of dspy.Example\n",
    "\n",
    "few_shot_examples = trainset[0:1]\n",
    "\n",
    "context = \"\"\n",
    "for example in few_shot_examples:\n",
    "    context += f\"Q: {example['question']}\\nA: {example['answer']}\\n\\n\"\n",
    "few_shot_examples = context.strip()"
   ]
  },
  {
   "cell_type": "markdown",
   "id": "08c94eeb-4e7a-44c2-82e2-991dc90ab1ac",
   "metadata": {},
   "source": [
    "<div style=\"background-color: yellow; padding: 10px; border-radius: 5px; font-size: 18px; font-weight: bold;\">\n",
    "    Using **ChainOfThought** Module\n",
    "</div>"
   ]
  },
  {
   "cell_type": "markdown",
   "id": "1498d9bc-f60a-4f9d-a8c7-ecafb42a8252",
   "metadata": {},
   "source": [
    "# Zero Shot"
   ]
  },
  {
   "cell_type": "code",
   "execution_count": 19,
   "id": "8d92f5a8-2a16-4426-abd8-8572649c3ee0",
   "metadata": {},
   "outputs": [],
   "source": [
    "class ZS_GenerateAnswer(dspy.Signature):\n",
    "    \"\"\"\n",
    "    You are an expert in email security. Your goal is to give Recommendation to the user based on their Question.\n",
    "    \"\"\"\n",
    "    question = dspy.InputField(desc=\"User's Question about email security\") \n",
    "    answer = dspy.OutputField(desc=\"The expert's ideal Recommendation to the Question\")\n",
    "\n",
    "class ZS_CotModel(dspy.Module):\n",
    "    def __init__(self):\n",
    "        self.predict = dspy.ChainOfThought(ZS_GenerateAnswer)\n",
    "    def forward(self, question):\n",
    "        return self.predict(question=question)"
   ]
  },
  {
   "cell_type": "markdown",
   "id": "08e6b88b-117f-48ea-b5c5-6ff0e8254bf6",
   "metadata": {},
   "source": [
    "# Few Shot"
   ]
  },
  {
   "cell_type": "code",
   "execution_count": 20,
   "id": "4de8a8c5-e43b-4234-8b3b-796836a3a754",
   "metadata": {},
   "outputs": [],
   "source": [
    "class FewShotGenerateAnswer(dspy.Signature):\n",
    "    \"\"\"\n",
    "    You are an expert in email security. Your goal is to give Recommendation to the user based on their Question.\n",
    "    \"\"\"\n",
    "    question = dspy.InputField(desc=\"User's Question about email security\") \n",
    "    answer = dspy.OutputField(desc=\"The expert's ideal Recommendation to the Question\")\n",
    "\n",
    "class FewShot_CotModel(dspy.Module):\n",
    "    def __init__(self):\n",
    "        self.predict = dspy.ChainOfThought(FewShotGenerateAnswer)\n",
    "\n",
    "    def forward(self, question):\n",
    "        return self.predict(question=question)"
   ]
  },
  {
   "cell_type": "code",
   "execution_count": 21,
   "id": "eb806d96-ed58-4504-af5a-bcc623386e21",
   "metadata": {},
   "outputs": [],
   "source": [
    "results_semscore = []\n",
    "results_llmjudge = []"
   ]
  },
  {
   "cell_type": "markdown",
   "id": "9c015de8-46ac-4f1e-be7f-8784b9dbd138",
   "metadata": {},
   "source": [
    "<div style=\"background-color: orange; padding: 10px; border-radius: 5px; font-size: 18px; font-weight: bold;\">\n",
    "    llama3.2\n",
    "</div>"
   ]
  },
  {
   "cell_type": "code",
   "execution_count": 22,
   "id": "99e2b710-798f-4106-a0b6-18573d8da2c3",
   "metadata": {},
   "outputs": [
    {
     "name": "stdout",
     "output_type": "stream",
     "text": [
      "\n",
      "[LangWatch] Experiment initialized, run_id: run-1\n",
      "[LangWatch] Open https://app.langwatch.ai/nit-SKJiRK/experiments/llm-16jan?runIds=run-1 to track your DSPy training session live\n",
      "\n"
     ]
    },
    {
     "name": "stderr",
     "output_type": "stream",
     "text": [
      " 20%|████████▊                                   | 2/10 [00:00<00:01,  5.19it/s]\n"
     ]
    },
    {
     "name": "stdout",
     "output_type": "stream",
     "text": [
      "Bootstrapped 2 full traces after 2 examples for up to 10 rounds, amounting to 2 attempts.\n",
      "ModelName:****** ollama_chat/llama3.2 ********\n",
      "Average Metric: 4.28 / 5 (85.7%): 100%|███████████| 5/5 [00:00<00:00, 11.35it/s]"
     ]
    },
    {
     "name": "stderr",
     "output_type": "stream",
     "text": [
      "2025/01/16 20:14:45 INFO dspy.evaluate.evaluate: Average Metric: 4.283949315547943 / 5 (85.7%)\n"
     ]
    },
    {
     "name": "stdout",
     "output_type": "stream",
     "text": [
      "\n"
     ]
    },
    {
     "data": {
      "text/html": [
       "<div>\n",
       "<style scoped>\n",
       "    .dataframe tbody tr th:only-of-type {\n",
       "        vertical-align: middle;\n",
       "    }\n",
       "\n",
       "    .dataframe tbody tr th {\n",
       "        vertical-align: top;\n",
       "    }\n",
       "\n",
       "    .dataframe thead th {\n",
       "        text-align: right;\n",
       "    }\n",
       "</style>\n",
       "<table border=\"1\" class=\"dataframe\">\n",
       "  <thead>\n",
       "    <tr style=\"text-align: right;\">\n",
       "      <th></th>\n",
       "      <th>question</th>\n",
       "      <th>example_answer</th>\n",
       "      <th>pred_answer</th>\n",
       "      <th>SemScore</th>\n",
       "    </tr>\n",
       "  </thead>\n",
       "  <tbody>\n",
       "    <tr>\n",
       "      <th>0</th>\n",
       "      <td>What mechanisms does your organization use to prevent unauthorized...</td>\n",
       "      <td>Introduction to SPF Records and Mechanisms =======================...</td>\n",
       "      <td>Our organization employs several mechanisms to prevent unauthorize...</td>\n",
       "      <td>✔️ [0.780]</td>\n",
       "    </tr>\n",
       "    <tr>\n",
       "      <th>1</th>\n",
       "      <td>What is your organization's strategy for handling complex SPF reco...</td>\n",
       "      <td>Introduction to SPF Record Wildcard and Macro Configurations =====...</td>\n",
       "      <td>Our organization follows a structured approach to handle complex S...</td>\n",
       "      <td>✔️ [0.877]</td>\n",
       "    </tr>\n",
       "    <tr>\n",
       "      <th>2</th>\n",
       "      <td>What specific guidelines do you follow to define and configure SPF...</td>\n",
       "      <td>Introduction to SPF Record Scopes ================================...</td>\n",
       "      <td>When defining and configuring SPF (Sender Policy Framework) record...</td>\n",
       "      <td>✔️ [0.903]</td>\n",
       "    </tr>\n",
       "    <tr>\n",
       "      <th>3</th>\n",
       "      <td>How do you ensure that your SPF records are properly propagated to...</td>\n",
       "      <td>Ensuring Proper Propagation and Consistency of SPF Records: A Comp...</td>\n",
       "      <td>To ensure that your SPF records are properly propagated to all DNS...</td>\n",
       "      <td>✔️ [0.872]</td>\n",
       "    </tr>\n",
       "    <tr>\n",
       "      <th>4</th>\n",
       "      <td>How does your organization handle the management of SPF record wil...</td>\n",
       "      <td>Introduction to SPF Record Wildcards and Macros Management =======...</td>\n",
       "      <td>Our organization employs a multi-faceted approach to manage SPF re...</td>\n",
       "      <td>✔️ [0.852]</td>\n",
       "    </tr>\n",
       "  </tbody>\n",
       "</table>\n",
       "</div>"
      ],
      "text/plain": [
       "                                                                question  \\\n",
       "0  What mechanisms does your organization use to prevent unauthorized...   \n",
       "1  What is your organization's strategy for handling complex SPF reco...   \n",
       "2  What specific guidelines do you follow to define and configure SPF...   \n",
       "3  How do you ensure that your SPF records are properly propagated to...   \n",
       "4  How does your organization handle the management of SPF record wil...   \n",
       "\n",
       "                                                          example_answer  \\\n",
       "0  Introduction to SPF Records and Mechanisms =======================...   \n",
       "1  Introduction to SPF Record Wildcard and Macro Configurations =====...   \n",
       "2  Introduction to SPF Record Scopes ================================...   \n",
       "3  Ensuring Proper Propagation and Consistency of SPF Records: A Comp...   \n",
       "4  Introduction to SPF Record Wildcards and Macros Management =======...   \n",
       "\n",
       "                                                             pred_answer  \\\n",
       "0  Our organization employs several mechanisms to prevent unauthorize...   \n",
       "1  Our organization follows a structured approach to handle complex S...   \n",
       "2  When defining and configuring SPF (Sender Policy Framework) record...   \n",
       "3  To ensure that your SPF records are properly propagated to all DNS...   \n",
       "4  Our organization employs a multi-faceted approach to manage SPF re...   \n",
       "\n",
       "     SemScore  \n",
       "0  ✔️ [0.780]  \n",
       "1  ✔️ [0.877]  \n",
       "2  ✔️ [0.903]  \n",
       "3  ✔️ [0.872]  \n",
       "4  ✔️ [0.852]  "
      ]
     },
     "metadata": {},
     "output_type": "display_data"
    },
    {
     "name": "stdout",
     "output_type": "stream",
     "text": [
      "Average Metric: 4.28 / 5 (85.7%): 100%|███████████| 5/5 [00:00<00:00, 19.90it/s]"
     ]
    },
    {
     "name": "stderr",
     "output_type": "stream",
     "text": [
      "2025/01/16 20:14:45 INFO dspy.evaluate.evaluate: Average Metric: 4.283949315547943 / 5 (85.7%)\n"
     ]
    },
    {
     "name": "stdout",
     "output_type": "stream",
     "text": [
      "\n"
     ]
    },
    {
     "data": {
      "text/html": [
       "<div>\n",
       "<style scoped>\n",
       "    .dataframe tbody tr th:only-of-type {\n",
       "        vertical-align: middle;\n",
       "    }\n",
       "\n",
       "    .dataframe tbody tr th {\n",
       "        vertical-align: top;\n",
       "    }\n",
       "\n",
       "    .dataframe thead th {\n",
       "        text-align: right;\n",
       "    }\n",
       "</style>\n",
       "<table border=\"1\" class=\"dataframe\">\n",
       "  <thead>\n",
       "    <tr style=\"text-align: right;\">\n",
       "      <th></th>\n",
       "      <th>question</th>\n",
       "      <th>example_answer</th>\n",
       "      <th>pred_answer</th>\n",
       "      <th>SemScore</th>\n",
       "    </tr>\n",
       "  </thead>\n",
       "  <tbody>\n",
       "    <tr>\n",
       "      <th>0</th>\n",
       "      <td>What mechanisms does your organization use to prevent unauthorized...</td>\n",
       "      <td>Introduction to SPF Records and Mechanisms =======================...</td>\n",
       "      <td>Our organization employs several mechanisms to prevent unauthorize...</td>\n",
       "      <td>✔️ [0.780]</td>\n",
       "    </tr>\n",
       "    <tr>\n",
       "      <th>1</th>\n",
       "      <td>What is your organization's strategy for handling complex SPF reco...</td>\n",
       "      <td>Introduction to SPF Record Wildcard and Macro Configurations =====...</td>\n",
       "      <td>Our organization follows a structured approach to handle complex S...</td>\n",
       "      <td>✔️ [0.877]</td>\n",
       "    </tr>\n",
       "    <tr>\n",
       "      <th>2</th>\n",
       "      <td>What specific guidelines do you follow to define and configure SPF...</td>\n",
       "      <td>Introduction to SPF Record Scopes ================================...</td>\n",
       "      <td>When defining and configuring SPF (Sender Policy Framework) record...</td>\n",
       "      <td>✔️ [0.903]</td>\n",
       "    </tr>\n",
       "    <tr>\n",
       "      <th>3</th>\n",
       "      <td>How do you ensure that your SPF records are properly propagated to...</td>\n",
       "      <td>Ensuring Proper Propagation and Consistency of SPF Records: A Comp...</td>\n",
       "      <td>To ensure that your SPF records are properly propagated to all DNS...</td>\n",
       "      <td>✔️ [0.872]</td>\n",
       "    </tr>\n",
       "    <tr>\n",
       "      <th>4</th>\n",
       "      <td>How does your organization handle the management of SPF record wil...</td>\n",
       "      <td>Introduction to SPF Record Wildcards and Macros Management =======...</td>\n",
       "      <td>Our organization employs a multi-faceted approach to manage SPF re...</td>\n",
       "      <td>✔️ [0.852]</td>\n",
       "    </tr>\n",
       "  </tbody>\n",
       "</table>\n",
       "</div>"
      ],
      "text/plain": [
       "                                                                question  \\\n",
       "0  What mechanisms does your organization use to prevent unauthorized...   \n",
       "1  What is your organization's strategy for handling complex SPF reco...   \n",
       "2  What specific guidelines do you follow to define and configure SPF...   \n",
       "3  How do you ensure that your SPF records are properly propagated to...   \n",
       "4  How does your organization handle the management of SPF record wil...   \n",
       "\n",
       "                                                          example_answer  \\\n",
       "0  Introduction to SPF Records and Mechanisms =======================...   \n",
       "1  Introduction to SPF Record Wildcard and Macro Configurations =====...   \n",
       "2  Introduction to SPF Record Scopes ================================...   \n",
       "3  Ensuring Proper Propagation and Consistency of SPF Records: A Comp...   \n",
       "4  Introduction to SPF Record Wildcards and Macros Management =======...   \n",
       "\n",
       "                                                             pred_answer  \\\n",
       "0  Our organization employs several mechanisms to prevent unauthorize...   \n",
       "1  Our organization follows a structured approach to handle complex S...   \n",
       "2  When defining and configuring SPF (Sender Policy Framework) record...   \n",
       "3  To ensure that your SPF records are properly propagated to all DNS...   \n",
       "4  Our organization employs a multi-faceted approach to manage SPF re...   \n",
       "\n",
       "     SemScore  \n",
       "0  ✔️ [0.780]  \n",
       "1  ✔️ [0.877]  \n",
       "2  ✔️ [0.903]  \n",
       "3  ✔️ [0.872]  \n",
       "4  ✔️ [0.852]  "
      ]
     },
     "metadata": {},
     "output_type": "display_data"
    },
    {
     "name": "stdout",
     "output_type": "stream",
     "text": [
      "Average Metric: 4.07 / 5 (81.4%): 100%|███████████| 5/5 [00:00<00:00, 11.99it/s]"
     ]
    },
    {
     "name": "stderr",
     "output_type": "stream",
     "text": [
      "2025/01/16 20:14:46 INFO dspy.evaluate.evaluate: Average Metric: 4.0686792731285095 / 5 (81.4%)\n"
     ]
    },
    {
     "name": "stdout",
     "output_type": "stream",
     "text": [
      "\n"
     ]
    },
    {
     "data": {
      "text/html": [
       "<div>\n",
       "<style scoped>\n",
       "    .dataframe tbody tr th:only-of-type {\n",
       "        vertical-align: middle;\n",
       "    }\n",
       "\n",
       "    .dataframe tbody tr th {\n",
       "        vertical-align: top;\n",
       "    }\n",
       "\n",
       "    .dataframe thead th {\n",
       "        text-align: right;\n",
       "    }\n",
       "</style>\n",
       "<table border=\"1\" class=\"dataframe\">\n",
       "  <thead>\n",
       "    <tr style=\"text-align: right;\">\n",
       "      <th></th>\n",
       "      <th>question</th>\n",
       "      <th>example_answer</th>\n",
       "      <th>reasoning</th>\n",
       "      <th>pred_answer</th>\n",
       "      <th>SemScore</th>\n",
       "    </tr>\n",
       "  </thead>\n",
       "  <tbody>\n",
       "    <tr>\n",
       "      <th>0</th>\n",
       "      <td>What mechanisms does your organization use to prevent unauthorized...</td>\n",
       "      <td>Introduction to SPF Records and Mechanisms =======================...</td>\n",
       "      <td>Our organization employs several mechanisms to prevent unauthorize...</td>\n",
       "      <td>To implement these mechanisms effectively, we recommend the follow...</td>\n",
       "      <td>✔️ [0.710]</td>\n",
       "    </tr>\n",
       "    <tr>\n",
       "      <th>1</th>\n",
       "      <td>What is your organization's strategy for handling complex SPF reco...</td>\n",
       "      <td>Introduction to SPF Record Wildcard and Macro Configurations =====...</td>\n",
       "      <td>Our organization's strategy for handling complex SPF record wildca...</td>\n",
       "      <td>To ensure proper management of complex SPF record wildcard and mac...</td>\n",
       "      <td>✔️ [0.878]</td>\n",
       "    </tr>\n",
       "    <tr>\n",
       "      <th>2</th>\n",
       "      <td>What specific guidelines do you follow to define and configure SPF...</td>\n",
       "      <td>Introduction to SPF Record Scopes ================================...</td>\n",
       "      <td>When defining and configuring SPF (Sender Policy Framework) record...</td>\n",
       "      <td>To define and configure SPF record scopes for your organization's ...</td>\n",
       "      <td>✔️ [0.757]</td>\n",
       "    </tr>\n",
       "    <tr>\n",
       "      <th>3</th>\n",
       "      <td>How do you ensure that your SPF records are properly propagated to...</td>\n",
       "      <td>Ensuring Proper Propagation and Consistency of SPF Records: A Comp...</td>\n",
       "      <td>To ensure that SPF records are properly propagated to all DNS serv...</td>\n",
       "      <td>To address the issue of SPF record inconsistencies or conflicts, o...</td>\n",
       "      <td>✔️ [0.890]</td>\n",
       "    </tr>\n",
       "    <tr>\n",
       "      <th>4</th>\n",
       "      <td>How does your organization handle the management of SPF record wil...</td>\n",
       "      <td>Introduction to SPF Record Wildcards and Macros Management =======...</td>\n",
       "      <td>Our organization follows a structured approach to managing SPF rec...</td>\n",
       "      <td>To manage SPF record wildcards and macros across multiple domains ...</td>\n",
       "      <td>✔️ [0.833]</td>\n",
       "    </tr>\n",
       "  </tbody>\n",
       "</table>\n",
       "</div>"
      ],
      "text/plain": [
       "                                                                question  \\\n",
       "0  What mechanisms does your organization use to prevent unauthorized...   \n",
       "1  What is your organization's strategy for handling complex SPF reco...   \n",
       "2  What specific guidelines do you follow to define and configure SPF...   \n",
       "3  How do you ensure that your SPF records are properly propagated to...   \n",
       "4  How does your organization handle the management of SPF record wil...   \n",
       "\n",
       "                                                          example_answer  \\\n",
       "0  Introduction to SPF Records and Mechanisms =======================...   \n",
       "1  Introduction to SPF Record Wildcard and Macro Configurations =====...   \n",
       "2  Introduction to SPF Record Scopes ================================...   \n",
       "3  Ensuring Proper Propagation and Consistency of SPF Records: A Comp...   \n",
       "4  Introduction to SPF Record Wildcards and Macros Management =======...   \n",
       "\n",
       "                                                               reasoning  \\\n",
       "0  Our organization employs several mechanisms to prevent unauthorize...   \n",
       "1  Our organization's strategy for handling complex SPF record wildca...   \n",
       "2  When defining and configuring SPF (Sender Policy Framework) record...   \n",
       "3  To ensure that SPF records are properly propagated to all DNS serv...   \n",
       "4  Our organization follows a structured approach to managing SPF rec...   \n",
       "\n",
       "                                                             pred_answer  \\\n",
       "0  To implement these mechanisms effectively, we recommend the follow...   \n",
       "1  To ensure proper management of complex SPF record wildcard and mac...   \n",
       "2  To define and configure SPF record scopes for your organization's ...   \n",
       "3  To address the issue of SPF record inconsistencies or conflicts, o...   \n",
       "4  To manage SPF record wildcards and macros across multiple domains ...   \n",
       "\n",
       "     SemScore  \n",
       "0  ✔️ [0.710]  \n",
       "1  ✔️ [0.878]  \n",
       "2  ✔️ [0.757]  \n",
       "3  ✔️ [0.890]  \n",
       "4  ✔️ [0.833]  "
      ]
     },
     "metadata": {},
     "output_type": "display_data"
    },
    {
     "name": "stdout",
     "output_type": "stream",
     "text": [
      "Average Metric: 4.13 / 5 (82.6%): 100%|███████████| 5/5 [00:00<00:00,  9.79it/s]"
     ]
    },
    {
     "name": "stderr",
     "output_type": "stream",
     "text": [
      "2025/01/16 20:14:46 INFO dspy.evaluate.evaluate: Average Metric: 4.128271520137787 / 5 (82.6%)\n"
     ]
    },
    {
     "name": "stdout",
     "output_type": "stream",
     "text": [
      "\n"
     ]
    },
    {
     "data": {
      "text/html": [
       "<div>\n",
       "<style scoped>\n",
       "    .dataframe tbody tr th:only-of-type {\n",
       "        vertical-align: middle;\n",
       "    }\n",
       "\n",
       "    .dataframe tbody tr th {\n",
       "        vertical-align: top;\n",
       "    }\n",
       "\n",
       "    .dataframe thead th {\n",
       "        text-align: right;\n",
       "    }\n",
       "</style>\n",
       "<table border=\"1\" class=\"dataframe\">\n",
       "  <thead>\n",
       "    <tr style=\"text-align: right;\">\n",
       "      <th></th>\n",
       "      <th>question</th>\n",
       "      <th>example_answer</th>\n",
       "      <th>reasoning</th>\n",
       "      <th>pred_answer</th>\n",
       "      <th>SemScore</th>\n",
       "    </tr>\n",
       "  </thead>\n",
       "  <tbody>\n",
       "    <tr>\n",
       "      <th>0</th>\n",
       "      <td>What mechanisms does your organization use to prevent unauthorized...</td>\n",
       "      <td>Introduction to SPF Records and Mechanisms =======================...</td>\n",
       "      <td>To prevent unauthorized senders from using its domains in the MAIL...</td>\n",
       "      <td>To implement and maintain these mechanisms, an organization can fo...</td>\n",
       "      <td>✔️ [0.723]</td>\n",
       "    </tr>\n",
       "    <tr>\n",
       "      <th>1</th>\n",
       "      <td>What is your organization's strategy for handling complex SPF reco...</td>\n",
       "      <td>Introduction to SPF Record Wildcard and Macro Configurations =====...</td>\n",
       "      <td>Handling complex SPF record wildcard and macro configurations requ...</td>\n",
       "      <td>To ensure complex SPF record wildcard and macro configurations are...</td>\n",
       "      <td>✔️ [0.850]</td>\n",
       "    </tr>\n",
       "    <tr>\n",
       "      <th>2</th>\n",
       "      <td>What specific guidelines do you follow to define and configure SPF...</td>\n",
       "      <td>Introduction to SPF Record Scopes ================================...</td>\n",
       "      <td>To define and configure SPF record scopes for an organization's do...</td>\n",
       "      <td>To configure SPF record scopes, follow these steps: 1. **Identify ...</td>\n",
       "      <td>✔️ [0.829]</td>\n",
       "    </tr>\n",
       "    <tr>\n",
       "      <th>3</th>\n",
       "      <td>How do you ensure that your SPF records are properly propagated to...</td>\n",
       "      <td>Ensuring Proper Propagation and Consistency of SPF Records: A Comp...</td>\n",
       "      <td>Ensuring that SPF records are properly propagated to all DNS serve...</td>\n",
       "      <td>To ensure that SPF records are properly propagated to all DNS serv...</td>\n",
       "      <td>✔️ [0.822]</td>\n",
       "    </tr>\n",
       "    <tr>\n",
       "      <th>4</th>\n",
       "      <td>How does your organization handle the management of SPF record wil...</td>\n",
       "      <td>Introduction to SPF Record Wildcards and Macros Management =======...</td>\n",
       "      <td>Managing SPF record wildcards and macros across multiple domains a...</td>\n",
       "      <td>To manage SPF record wildcards and macros across multiple domains ...</td>\n",
       "      <td>✔️ [0.904]</td>\n",
       "    </tr>\n",
       "  </tbody>\n",
       "</table>\n",
       "</div>"
      ],
      "text/plain": [
       "                                                                question  \\\n",
       "0  What mechanisms does your organization use to prevent unauthorized...   \n",
       "1  What is your organization's strategy for handling complex SPF reco...   \n",
       "2  What specific guidelines do you follow to define and configure SPF...   \n",
       "3  How do you ensure that your SPF records are properly propagated to...   \n",
       "4  How does your organization handle the management of SPF record wil...   \n",
       "\n",
       "                                                          example_answer  \\\n",
       "0  Introduction to SPF Records and Mechanisms =======================...   \n",
       "1  Introduction to SPF Record Wildcard and Macro Configurations =====...   \n",
       "2  Introduction to SPF Record Scopes ================================...   \n",
       "3  Ensuring Proper Propagation and Consistency of SPF Records: A Comp...   \n",
       "4  Introduction to SPF Record Wildcards and Macros Management =======...   \n",
       "\n",
       "                                                               reasoning  \\\n",
       "0  To prevent unauthorized senders from using its domains in the MAIL...   \n",
       "1  Handling complex SPF record wildcard and macro configurations requ...   \n",
       "2  To define and configure SPF record scopes for an organization's do...   \n",
       "3  Ensuring that SPF records are properly propagated to all DNS serve...   \n",
       "4  Managing SPF record wildcards and macros across multiple domains a...   \n",
       "\n",
       "                                                             pred_answer  \\\n",
       "0  To implement and maintain these mechanisms, an organization can fo...   \n",
       "1  To ensure complex SPF record wildcard and macro configurations are...   \n",
       "2  To configure SPF record scopes, follow these steps: 1. **Identify ...   \n",
       "3  To ensure that SPF records are properly propagated to all DNS serv...   \n",
       "4  To manage SPF record wildcards and macros across multiple domains ...   \n",
       "\n",
       "     SemScore  \n",
       "0  ✔️ [0.723]  \n",
       "1  ✔️ [0.850]  \n",
       "2  ✔️ [0.829]  \n",
       "3  ✔️ [0.822]  \n",
       "4  ✔️ [0.904]  "
      ]
     },
     "metadata": {},
     "output_type": "display_data"
    },
    {
     "data": {
      "application/vnd.jupyter.widget-view+json": {
       "model_id": "8870561d7fa446e7af9fa8c66a4ff0f5",
       "version_major": 2,
       "version_minor": 0
      },
      "text/plain": [
       "  0%|          | 0/5 [00:00<?, ?it/s]"
      ]
     },
     "metadata": {},
     "output_type": "display_data"
    },
    {
     "data": {
      "application/vnd.jupyter.widget-view+json": {
       "model_id": "a7aec83ee1f948ccbc3fed10a7860885",
       "version_major": 2,
       "version_minor": 0
      },
      "text/plain": [
       "  0%|          | 0/5 [00:00<?, ?it/s]"
      ]
     },
     "metadata": {},
     "output_type": "display_data"
    },
    {
     "data": {
      "application/vnd.jupyter.widget-view+json": {
       "model_id": "827a440ce9864100bf68eac586e94461",
       "version_major": 2,
       "version_minor": 0
      },
      "text/plain": [
       "  0%|          | 0/5 [00:00<?, ?it/s]"
      ]
     },
     "metadata": {},
     "output_type": "display_data"
    },
    {
     "data": {
      "application/vnd.jupyter.widget-view+json": {
       "model_id": "ab4a6df96f2c4a95b38f74959f29dddc",
       "version_major": 2,
       "version_minor": 0
      },
      "text/plain": [
       "  0%|          | 0/5 [00:00<?, ?it/s]"
      ]
     },
     "metadata": {},
     "output_type": "display_data"
    }
   ],
   "source": [
    "model = dspy.LM('ollama_chat/llama3.2', api_base='http://localhost:11434', api_key='')\n",
    "judge_model = model.copy()\n",
    "dspy.configure(lm=model)\n",
    "\n",
    "with dspy.context(lm = model):\n",
    "\n",
    "    optimizer = BootstrapFewShot(metric=SemScore,max_labeled_demos=2,\n",
    "                             max_bootstrapped_demos=2,\n",
    "                             teacher_settings=dict(lm=model),\n",
    "                             max_rounds=10)\n",
    "\n",
    "    langwatch.dspy.init(experiment=\"LLM_16Jan\", optimizer=optimizer,run_id='run-1')\n",
    "    compiled_cot_fewshot = optimizer.compile(FewShot_CotModel(), trainset=trainset)\n",
    "\n",
    "    print('ModelName:******',dspy.settings.lm.model,'********')\n",
    "\n",
    "    DSPyInstrumentor().instrument(tracer_provider=tracer_provider,skip_dep_check=True)\n",
    "    LiteLLMInstrumentor().instrument(tracer_provider=tracer_provider,skip_dep_check=True)\n",
    "\n",
    "    eval_zeroshot_predict,outputs1 = evaluate_program(ZS_PredictModel())\n",
    "    eval_fewshot_predict,outputs2 = evaluate_program(FewShot_PredictModel(few_shot_examples))\n",
    "\n",
    "    eval_zeroshot_cot,outputs3 = evaluate_program(ZS_CotModel())\n",
    "    eval_fewshot_cot,outputs4 = evaluate_program(compiled_cot_fewshot)\n",
    "\n",
    "    results_semscore.append({\n",
    "        'Model': model.model,\n",
    "        'Zero Shot -Direct': eval_zeroshot_predict,\n",
    "        'Few Shot -Direct': eval_fewshot_predict,\n",
    "        'Zero Shot -COT': eval_zeroshot_cot,\n",
    "        'Few Shot -COT': eval_fewshot_cot\n",
    "    })\n",
    "\n",
    "with dspy.context(lm = judge_model):\n",
    "    results_llmjudge.append({\n",
    "        'Model': model.model,\n",
    "        'Zero Shot -Direct': llmscore(outputs1),\n",
    "        'Few Shot -Direct': llmscore(outputs2),\n",
    "        'Zero Shot -COT': llmscore(outputs3),\n",
    "        'Few Shot -COT': llmscore(outputs4)\n",
    "        })"
   ]
  },
  {
   "cell_type": "markdown",
   "id": "553ba7f0-bdfa-4aea-be5b-81c170c200cb",
   "metadata": {},
   "source": [
    "<div style=\"background-color: orange; padding: 10px; border-radius: 5px; font-size: 18px; font-weight: bold;\">\n",
    "    qwen2\n",
    "</div>"
   ]
  },
  {
   "cell_type": "code",
   "execution_count": 23,
   "id": "fe59b16f-00f3-4a9b-bf1e-858a427a1665",
   "metadata": {},
   "outputs": [
    {
     "name": "stdout",
     "output_type": "stream",
     "text": [
      "\n",
      "[LangWatch] Experiment initialized, run_id: run-1\n",
      "[LangWatch] Open https://app.langwatch.ai/nit-SKJiRK/experiments/llm-16jan?runIds=run-1 to track your DSPy training session live\n",
      "\n"
     ]
    },
    {
     "name": "stderr",
     "output_type": "stream",
     "text": [
      " 20%|████████▊                                   | 2/10 [00:00<00:00, 11.97it/s]"
     ]
    },
    {
     "name": "stdout",
     "output_type": "stream",
     "text": [
      "Bootstrapped 2 full traces after 2 examples for up to 10 rounds, amounting to 2 attempts.\n"
     ]
    },
    {
     "name": "stderr",
     "output_type": "stream",
     "text": [
      "\n",
      "Attempting to instrument while already instrumented\n",
      "Attempting to instrument while already instrumented\n"
     ]
    },
    {
     "name": "stdout",
     "output_type": "stream",
     "text": [
      "ModelName:****** ollama_chat/qwen2:1.5b ********\n",
      "Average Metric: 4.17 / 5 (83.5%): 100%|███████████| 5/5 [00:00<00:00, 15.24it/s]"
     ]
    },
    {
     "name": "stderr",
     "output_type": "stream",
     "text": [
      "2025/01/16 20:14:49 INFO dspy.evaluate.evaluate: Average Metric: 4.17343944311142 / 5 (83.5%)\n"
     ]
    },
    {
     "name": "stdout",
     "output_type": "stream",
     "text": [
      "\n"
     ]
    },
    {
     "data": {
      "text/html": [
       "<div>\n",
       "<style scoped>\n",
       "    .dataframe tbody tr th:only-of-type {\n",
       "        vertical-align: middle;\n",
       "    }\n",
       "\n",
       "    .dataframe tbody tr th {\n",
       "        vertical-align: top;\n",
       "    }\n",
       "\n",
       "    .dataframe thead th {\n",
       "        text-align: right;\n",
       "    }\n",
       "</style>\n",
       "<table border=\"1\" class=\"dataframe\">\n",
       "  <thead>\n",
       "    <tr style=\"text-align: right;\">\n",
       "      <th></th>\n",
       "      <th>question</th>\n",
       "      <th>example_answer</th>\n",
       "      <th>pred_answer</th>\n",
       "      <th>SemScore</th>\n",
       "    </tr>\n",
       "  </thead>\n",
       "  <tbody>\n",
       "    <tr>\n",
       "      <th>0</th>\n",
       "      <td>What mechanisms does your organization use to prevent unauthorized...</td>\n",
       "      <td>Introduction to SPF Records and Mechanisms =======================...</td>\n",
       "      <td>To prevent unauthorized senders from using your domain in the MAIL...</td>\n",
       "      <td>✔️ [0.724]</td>\n",
       "    </tr>\n",
       "    <tr>\n",
       "      <th>1</th>\n",
       "      <td>What is your organization's strategy for handling complex SPF reco...</td>\n",
       "      <td>Introduction to SPF Record Wildcard and Macro Configurations =====...</td>\n",
       "      <td>Managing complex SPF record wildcard and macro configurations requ...</td>\n",
       "      <td>✔️ [0.878]</td>\n",
       "    </tr>\n",
       "    <tr>\n",
       "      <th>2</th>\n",
       "      <td>What specific guidelines do you follow to define and configure SPF...</td>\n",
       "      <td>Introduction to SPF Record Scopes ================================...</td>\n",
       "      <td>To define and configure SPF (Sender Policy Framework) record scope...</td>\n",
       "      <td>✔️ [0.869]</td>\n",
       "    </tr>\n",
       "    <tr>\n",
       "      <th>3</th>\n",
       "      <td>How do you ensure that your SPF records are properly propagated to...</td>\n",
       "      <td>Ensuring Proper Propagation and Consistency of SPF Records: A Comp...</td>\n",
       "      <td>To ensure proper propagation of SPF records, organizations should ...</td>\n",
       "      <td>✔️ [0.878]</td>\n",
       "    </tr>\n",
       "    <tr>\n",
       "      <th>4</th>\n",
       "      <td>How does your organization handle the management of SPF record wil...</td>\n",
       "      <td>Introduction to SPF Record Wildcards and Macros Management =======...</td>\n",
       "      <td>To manage SPF records, organizations can use a combination of wild...</td>\n",
       "      <td>✔️ [0.825]</td>\n",
       "    </tr>\n",
       "  </tbody>\n",
       "</table>\n",
       "</div>"
      ],
      "text/plain": [
       "                                                                question  \\\n",
       "0  What mechanisms does your organization use to prevent unauthorized...   \n",
       "1  What is your organization's strategy for handling complex SPF reco...   \n",
       "2  What specific guidelines do you follow to define and configure SPF...   \n",
       "3  How do you ensure that your SPF records are properly propagated to...   \n",
       "4  How does your organization handle the management of SPF record wil...   \n",
       "\n",
       "                                                          example_answer  \\\n",
       "0  Introduction to SPF Records and Mechanisms =======================...   \n",
       "1  Introduction to SPF Record Wildcard and Macro Configurations =====...   \n",
       "2  Introduction to SPF Record Scopes ================================...   \n",
       "3  Ensuring Proper Propagation and Consistency of SPF Records: A Comp...   \n",
       "4  Introduction to SPF Record Wildcards and Macros Management =======...   \n",
       "\n",
       "                                                             pred_answer  \\\n",
       "0  To prevent unauthorized senders from using your domain in the MAIL...   \n",
       "1  Managing complex SPF record wildcard and macro configurations requ...   \n",
       "2  To define and configure SPF (Sender Policy Framework) record scope...   \n",
       "3  To ensure proper propagation of SPF records, organizations should ...   \n",
       "4  To manage SPF records, organizations can use a combination of wild...   \n",
       "\n",
       "     SemScore  \n",
       "0  ✔️ [0.724]  \n",
       "1  ✔️ [0.878]  \n",
       "2  ✔️ [0.869]  \n",
       "3  ✔️ [0.878]  \n",
       "4  ✔️ [0.825]  "
      ]
     },
     "metadata": {},
     "output_type": "display_data"
    },
    {
     "name": "stdout",
     "output_type": "stream",
     "text": [
      "Average Metric: 4.17 / 5 (83.5%): 100%|███████████| 5/5 [00:00<00:00, 15.59it/s]"
     ]
    },
    {
     "name": "stderr",
     "output_type": "stream",
     "text": [
      "2025/01/16 20:14:50 INFO dspy.evaluate.evaluate: Average Metric: 4.17343944311142 / 5 (83.5%)\n"
     ]
    },
    {
     "name": "stdout",
     "output_type": "stream",
     "text": [
      "\n"
     ]
    },
    {
     "data": {
      "text/html": [
       "<div>\n",
       "<style scoped>\n",
       "    .dataframe tbody tr th:only-of-type {\n",
       "        vertical-align: middle;\n",
       "    }\n",
       "\n",
       "    .dataframe tbody tr th {\n",
       "        vertical-align: top;\n",
       "    }\n",
       "\n",
       "    .dataframe thead th {\n",
       "        text-align: right;\n",
       "    }\n",
       "</style>\n",
       "<table border=\"1\" class=\"dataframe\">\n",
       "  <thead>\n",
       "    <tr style=\"text-align: right;\">\n",
       "      <th></th>\n",
       "      <th>question</th>\n",
       "      <th>example_answer</th>\n",
       "      <th>pred_answer</th>\n",
       "      <th>SemScore</th>\n",
       "    </tr>\n",
       "  </thead>\n",
       "  <tbody>\n",
       "    <tr>\n",
       "      <th>0</th>\n",
       "      <td>What mechanisms does your organization use to prevent unauthorized...</td>\n",
       "      <td>Introduction to SPF Records and Mechanisms =======================...</td>\n",
       "      <td>To prevent unauthorized senders from using your domain in the MAIL...</td>\n",
       "      <td>✔️ [0.724]</td>\n",
       "    </tr>\n",
       "    <tr>\n",
       "      <th>1</th>\n",
       "      <td>What is your organization's strategy for handling complex SPF reco...</td>\n",
       "      <td>Introduction to SPF Record Wildcard and Macro Configurations =====...</td>\n",
       "      <td>Managing complex SPF record wildcard and macro configurations requ...</td>\n",
       "      <td>✔️ [0.878]</td>\n",
       "    </tr>\n",
       "    <tr>\n",
       "      <th>2</th>\n",
       "      <td>What specific guidelines do you follow to define and configure SPF...</td>\n",
       "      <td>Introduction to SPF Record Scopes ================================...</td>\n",
       "      <td>To define and configure SPF (Sender Policy Framework) record scope...</td>\n",
       "      <td>✔️ [0.869]</td>\n",
       "    </tr>\n",
       "    <tr>\n",
       "      <th>3</th>\n",
       "      <td>How do you ensure that your SPF records are properly propagated to...</td>\n",
       "      <td>Ensuring Proper Propagation and Consistency of SPF Records: A Comp...</td>\n",
       "      <td>To ensure proper propagation of SPF records, organizations should ...</td>\n",
       "      <td>✔️ [0.878]</td>\n",
       "    </tr>\n",
       "    <tr>\n",
       "      <th>4</th>\n",
       "      <td>How does your organization handle the management of SPF record wil...</td>\n",
       "      <td>Introduction to SPF Record Wildcards and Macros Management =======...</td>\n",
       "      <td>To manage SPF records, organizations can use a combination of wild...</td>\n",
       "      <td>✔️ [0.825]</td>\n",
       "    </tr>\n",
       "  </tbody>\n",
       "</table>\n",
       "</div>"
      ],
      "text/plain": [
       "                                                                question  \\\n",
       "0  What mechanisms does your organization use to prevent unauthorized...   \n",
       "1  What is your organization's strategy for handling complex SPF reco...   \n",
       "2  What specific guidelines do you follow to define and configure SPF...   \n",
       "3  How do you ensure that your SPF records are properly propagated to...   \n",
       "4  How does your organization handle the management of SPF record wil...   \n",
       "\n",
       "                                                          example_answer  \\\n",
       "0  Introduction to SPF Records and Mechanisms =======================...   \n",
       "1  Introduction to SPF Record Wildcard and Macro Configurations =====...   \n",
       "2  Introduction to SPF Record Scopes ================================...   \n",
       "3  Ensuring Proper Propagation and Consistency of SPF Records: A Comp...   \n",
       "4  Introduction to SPF Record Wildcards and Macros Management =======...   \n",
       "\n",
       "                                                             pred_answer  \\\n",
       "0  To prevent unauthorized senders from using your domain in the MAIL...   \n",
       "1  Managing complex SPF record wildcard and macro configurations requ...   \n",
       "2  To define and configure SPF (Sender Policy Framework) record scope...   \n",
       "3  To ensure proper propagation of SPF records, organizations should ...   \n",
       "4  To manage SPF records, organizations can use a combination of wild...   \n",
       "\n",
       "     SemScore  \n",
       "0  ✔️ [0.724]  \n",
       "1  ✔️ [0.878]  \n",
       "2  ✔️ [0.869]  \n",
       "3  ✔️ [0.878]  \n",
       "4  ✔️ [0.825]  "
      ]
     },
     "metadata": {},
     "output_type": "display_data"
    },
    {
     "name": "stdout",
     "output_type": "stream",
     "text": [
      "Average Metric: 3.44 / 5 (68.8%): 100%|███████████| 5/5 [00:00<00:00,  8.85it/s]"
     ]
    },
    {
     "name": "stderr",
     "output_type": "stream",
     "text": [
      "2025/01/16 20:14:50 INFO dspy.evaluate.evaluate: Average Metric: 3.437988519668579 / 5 (68.8%)\n"
     ]
    },
    {
     "name": "stdout",
     "output_type": "stream",
     "text": [
      "\n"
     ]
    },
    {
     "data": {
      "text/html": [
       "<div>\n",
       "<style scoped>\n",
       "    .dataframe tbody tr th:only-of-type {\n",
       "        vertical-align: middle;\n",
       "    }\n",
       "\n",
       "    .dataframe tbody tr th {\n",
       "        vertical-align: top;\n",
       "    }\n",
       "\n",
       "    .dataframe thead th {\n",
       "        text-align: right;\n",
       "    }\n",
       "</style>\n",
       "<table border=\"1\" class=\"dataframe\">\n",
       "  <thead>\n",
       "    <tr style=\"text-align: right;\">\n",
       "      <th></th>\n",
       "      <th>question</th>\n",
       "      <th>example_answer</th>\n",
       "      <th>reasoning</th>\n",
       "      <th>pred_answer</th>\n",
       "      <th>SemScore</th>\n",
       "    </tr>\n",
       "  </thead>\n",
       "  <tbody>\n",
       "    <tr>\n",
       "      <th>0</th>\n",
       "      <td>What mechanisms does your organization use to prevent unauthorized...</td>\n",
       "      <td>Introduction to SPF Records and Mechanisms =======================...</td>\n",
       "      <td>To prevent unauthorized senders from using your organization's dom...</td>\n",
       "      <td>To prevent unauthorized senders from using your organization's dom...</td>\n",
       "      <td>✔️ [0.628]</td>\n",
       "    </tr>\n",
       "    <tr>\n",
       "      <th>1</th>\n",
       "      <td>What is your organization's strategy for handling complex SPF reco...</td>\n",
       "      <td>Introduction to SPF Record Wildcard and Macro Configurations =====...</td>\n",
       "      <td>Handling complex SPF record wildcard and macro configurations requ...</td>\n",
       "      <td>- Identify the complexity of the configuration - Review existing p...</td>\n",
       "      <td>✔️ [0.285]</td>\n",
       "    </tr>\n",
       "    <tr>\n",
       "      <th>2</th>\n",
       "      <td>What specific guidelines do you follow to define and configure SPF...</td>\n",
       "      <td>Introduction to SPF Record Scopes ================================...</td>\n",
       "      <td>To define and configure SPF (Sender Policy Framework) record scope...</td>\n",
       "      <td>To define and configure SPF record scopes for your organization's ...</td>\n",
       "      <td>✔️ [0.780]</td>\n",
       "    </tr>\n",
       "    <tr>\n",
       "      <th>3</th>\n",
       "      <td>How do you ensure that your SPF records are properly propagated to...</td>\n",
       "      <td>Ensuring Proper Propagation and Consistency of SPF Records: A Comp...</td>\n",
       "      <td>To ensure proper propagation of SPF records, organizations should ...</td>\n",
       "      <td>To ensure proper propagation of SPF records, organizations should ...</td>\n",
       "      <td>✔️ [0.887]</td>\n",
       "    </tr>\n",
       "    <tr>\n",
       "      <th>4</th>\n",
       "      <td>How does your organization handle the management of SPF record wil...</td>\n",
       "      <td>Introduction to SPF Record Wildcards and Macros Management =======...</td>\n",
       "      <td>Managing SPF records can be complex, especially when dealing with ...</td>\n",
       "      <td>To handle the management of SPF record wildcards and macros across...</td>\n",
       "      <td>✔️ [0.857]</td>\n",
       "    </tr>\n",
       "  </tbody>\n",
       "</table>\n",
       "</div>"
      ],
      "text/plain": [
       "                                                                question  \\\n",
       "0  What mechanisms does your organization use to prevent unauthorized...   \n",
       "1  What is your organization's strategy for handling complex SPF reco...   \n",
       "2  What specific guidelines do you follow to define and configure SPF...   \n",
       "3  How do you ensure that your SPF records are properly propagated to...   \n",
       "4  How does your organization handle the management of SPF record wil...   \n",
       "\n",
       "                                                          example_answer  \\\n",
       "0  Introduction to SPF Records and Mechanisms =======================...   \n",
       "1  Introduction to SPF Record Wildcard and Macro Configurations =====...   \n",
       "2  Introduction to SPF Record Scopes ================================...   \n",
       "3  Ensuring Proper Propagation and Consistency of SPF Records: A Comp...   \n",
       "4  Introduction to SPF Record Wildcards and Macros Management =======...   \n",
       "\n",
       "                                                               reasoning  \\\n",
       "0  To prevent unauthorized senders from using your organization's dom...   \n",
       "1  Handling complex SPF record wildcard and macro configurations requ...   \n",
       "2  To define and configure SPF (Sender Policy Framework) record scope...   \n",
       "3  To ensure proper propagation of SPF records, organizations should ...   \n",
       "4  Managing SPF records can be complex, especially when dealing with ...   \n",
       "\n",
       "                                                             pred_answer  \\\n",
       "0  To prevent unauthorized senders from using your organization's dom...   \n",
       "1  - Identify the complexity of the configuration - Review existing p...   \n",
       "2  To define and configure SPF record scopes for your organization's ...   \n",
       "3  To ensure proper propagation of SPF records, organizations should ...   \n",
       "4  To handle the management of SPF record wildcards and macros across...   \n",
       "\n",
       "     SemScore  \n",
       "0  ✔️ [0.628]  \n",
       "1  ✔️ [0.285]  \n",
       "2  ✔️ [0.780]  \n",
       "3  ✔️ [0.887]  \n",
       "4  ✔️ [0.857]  "
      ]
     },
     "metadata": {},
     "output_type": "display_data"
    },
    {
     "name": "stdout",
     "output_type": "stream",
     "text": [
      "Average Metric: 4.46 / 5 (89.2%): 100%|███████████| 5/5 [00:00<00:00, 12.26it/s]"
     ]
    },
    {
     "name": "stderr",
     "output_type": "stream",
     "text": [
      "2025/01/16 20:14:51 INFO dspy.evaluate.evaluate: Average Metric: 4.459033012390137 / 5 (89.2%)\n"
     ]
    },
    {
     "name": "stdout",
     "output_type": "stream",
     "text": [
      "\n"
     ]
    },
    {
     "data": {
      "text/html": [
       "<div>\n",
       "<style scoped>\n",
       "    .dataframe tbody tr th:only-of-type {\n",
       "        vertical-align: middle;\n",
       "    }\n",
       "\n",
       "    .dataframe tbody tr th {\n",
       "        vertical-align: top;\n",
       "    }\n",
       "\n",
       "    .dataframe thead th {\n",
       "        text-align: right;\n",
       "    }\n",
       "</style>\n",
       "<table border=\"1\" class=\"dataframe\">\n",
       "  <thead>\n",
       "    <tr style=\"text-align: right;\">\n",
       "      <th></th>\n",
       "      <th>question</th>\n",
       "      <th>example_answer</th>\n",
       "      <th>reasoning</th>\n",
       "      <th>pred_answer</th>\n",
       "      <th>SemScore</th>\n",
       "    </tr>\n",
       "  </thead>\n",
       "  <tbody>\n",
       "    <tr>\n",
       "      <th>0</th>\n",
       "      <td>What mechanisms does your organization use to prevent unauthorized...</td>\n",
       "      <td>Introduction to SPF Records and Mechanisms =======================...</td>\n",
       "      <td>Not supplied for this particular example.</td>\n",
       "      <td>Preventing Unauthorized Senders from Using Domains in MAIL FROM Co...</td>\n",
       "      <td>✔️ [0.838]</td>\n",
       "    </tr>\n",
       "    <tr>\n",
       "      <th>1</th>\n",
       "      <td>What is your organization's strategy for handling complex SPF reco...</td>\n",
       "      <td>Introduction to SPF Record Wildcard and Macro Configurations =====...</td>\n",
       "      <td>Not supplied for this particular example.</td>\n",
       "      <td>Handling Complex SPF Record Wildcard and Macro Configurations ----...</td>\n",
       "      <td>✔️ [0.916]</td>\n",
       "    </tr>\n",
       "    <tr>\n",
       "      <th>2</th>\n",
       "      <td>What specific guidelines do you follow to define and configure SPF...</td>\n",
       "      <td>Introduction to SPF Record Scopes ================================...</td>\n",
       "      <td>Not supplied for this particular example.</td>\n",
       "      <td>Specific Guidelines for Defining and Configuring SPF Record Scopes...</td>\n",
       "      <td>✔️ [0.894]</td>\n",
       "    </tr>\n",
       "    <tr>\n",
       "      <th>3</th>\n",
       "      <td>How do you ensure that your SPF records are properly propagated to...</td>\n",
       "      <td>Ensuring Proper Propagation and Consistency of SPF Records: A Comp...</td>\n",
       "      <td>Not supplied for this particular example.</td>\n",
       "      <td>Propagating SPF Records to All DNS Servers and Mail Servers ------...</td>\n",
       "      <td>✔️ [0.900]</td>\n",
       "    </tr>\n",
       "    <tr>\n",
       "      <th>4</th>\n",
       "      <td>How does your organization handle the management of SPF record wil...</td>\n",
       "      <td>Introduction to SPF Record Wildcards and Macros Management =======...</td>\n",
       "      <td>Not supplied for this particular example.</td>\n",
       "      <td>Managing SPF Record Wildcards and Macros Across Multiple Domains a...</td>\n",
       "      <td>✔️ [0.911]</td>\n",
       "    </tr>\n",
       "  </tbody>\n",
       "</table>\n",
       "</div>"
      ],
      "text/plain": [
       "                                                                question  \\\n",
       "0  What mechanisms does your organization use to prevent unauthorized...   \n",
       "1  What is your organization's strategy for handling complex SPF reco...   \n",
       "2  What specific guidelines do you follow to define and configure SPF...   \n",
       "3  How do you ensure that your SPF records are properly propagated to...   \n",
       "4  How does your organization handle the management of SPF record wil...   \n",
       "\n",
       "                                                          example_answer  \\\n",
       "0  Introduction to SPF Records and Mechanisms =======================...   \n",
       "1  Introduction to SPF Record Wildcard and Macro Configurations =====...   \n",
       "2  Introduction to SPF Record Scopes ================================...   \n",
       "3  Ensuring Proper Propagation and Consistency of SPF Records: A Comp...   \n",
       "4  Introduction to SPF Record Wildcards and Macros Management =======...   \n",
       "\n",
       "                                   reasoning  \\\n",
       "0  Not supplied for this particular example.   \n",
       "1  Not supplied for this particular example.   \n",
       "2  Not supplied for this particular example.   \n",
       "3  Not supplied for this particular example.   \n",
       "4  Not supplied for this particular example.   \n",
       "\n",
       "                                                             pred_answer  \\\n",
       "0  Preventing Unauthorized Senders from Using Domains in MAIL FROM Co...   \n",
       "1  Handling Complex SPF Record Wildcard and Macro Configurations ----...   \n",
       "2  Specific Guidelines for Defining and Configuring SPF Record Scopes...   \n",
       "3  Propagating SPF Records to All DNS Servers and Mail Servers ------...   \n",
       "4  Managing SPF Record Wildcards and Macros Across Multiple Domains a...   \n",
       "\n",
       "     SemScore  \n",
       "0  ✔️ [0.838]  \n",
       "1  ✔️ [0.916]  \n",
       "2  ✔️ [0.894]  \n",
       "3  ✔️ [0.900]  \n",
       "4  ✔️ [0.911]  "
      ]
     },
     "metadata": {},
     "output_type": "display_data"
    },
    {
     "data": {
      "application/vnd.jupyter.widget-view+json": {
       "model_id": "9742e9631ab646ca882b174d6fa295ba",
       "version_major": 2,
       "version_minor": 0
      },
      "text/plain": [
       "  0%|          | 0/5 [00:00<?, ?it/s]"
      ]
     },
     "metadata": {},
     "output_type": "display_data"
    },
    {
     "data": {
      "application/vnd.jupyter.widget-view+json": {
       "model_id": "d554aef3a6944933a6f81e368121f0b5",
       "version_major": 2,
       "version_minor": 0
      },
      "text/plain": [
       "  0%|          | 0/5 [00:00<?, ?it/s]"
      ]
     },
     "metadata": {},
     "output_type": "display_data"
    },
    {
     "data": {
      "application/vnd.jupyter.widget-view+json": {
       "model_id": "956a0288fa504aefa9507721757b6492",
       "version_major": 2,
       "version_minor": 0
      },
      "text/plain": [
       "  0%|          | 0/5 [00:00<?, ?it/s]"
      ]
     },
     "metadata": {},
     "output_type": "display_data"
    },
    {
     "data": {
      "application/vnd.jupyter.widget-view+json": {
       "model_id": "e4d0e4ebee2c4a8cbe14478e67c58de9",
       "version_major": 2,
       "version_minor": 0
      },
      "text/plain": [
       "  0%|          | 0/5 [00:00<?, ?it/s]"
      ]
     },
     "metadata": {},
     "output_type": "display_data"
    }
   ],
   "source": [
    "model = dspy.LM('ollama_chat/qwen2:1.5b', api_base='http://localhost:11434', api_key='')\n",
    "dspy.configure(lm=model)\n",
    "\n",
    "with dspy.context(lm = model):\n",
    "\n",
    "    optimizer = BootstrapFewShot(metric=SemScore,max_labeled_demos=2,\n",
    "                             max_bootstrapped_demos=2,\n",
    "                             teacher_settings=dict(lm=model),\n",
    "                             max_rounds=10)\n",
    "    \n",
    "    langwatch.dspy.init(experiment=\"LLM_16Jan\", optimizer=optimizer,run_id='run-1')\n",
    "    compiled_cot_fewshot = optimizer.compile(FewShot_CotModel(), trainset=trainset)\n",
    "\n",
    "    print('ModelName:******',dspy.settings.lm.model,'********')\n",
    "    DSPyInstrumentor().instrument(tracer_provider=tracer_provider,skip_dep_check=True)\n",
    "    LiteLLMInstrumentor().instrument(tracer_provider=tracer_provider,skip_dep_check=True)\n",
    "\n",
    "    eval_zeroshot_predict,outputs1 = evaluate_program(ZS_PredictModel())\n",
    "    eval_fewshot_predict,outputs2 = evaluate_program(FewShot_PredictModel(few_shot_examples))\n",
    "\n",
    "    eval_zeroshot_cot,outputs3 = evaluate_program(ZS_CotModel())\n",
    "    eval_fewshot_cot,outputs4 = evaluate_program(compiled_cot_fewshot)\n",
    "\n",
    "    results_semscore.append({\n",
    "        'Model': model.model,\n",
    "        'Zero Shot -Direct': eval_zeroshot_predict,\n",
    "        'Few Shot -Direct': eval_fewshot_predict,\n",
    "        'Zero Shot -COT': eval_zeroshot_cot,\n",
    "        'Few Shot -COT': eval_fewshot_cot\n",
    "    })\n",
    "\n",
    "with dspy.context(lm = judge_model):\n",
    "    results_llmjudge.append({\n",
    "        'Model': model.model,\n",
    "        'Zero Shot -Direct': llmscore(outputs1),\n",
    "        'Few Shot -Direct': llmscore(outputs2),\n",
    "        'Zero Shot -COT': llmscore(outputs3),\n",
    "        'Few Shot -COT': llmscore(outputs4)\n",
    "        })"
   ]
  },
  {
   "cell_type": "markdown",
   "id": "1b99bf4a-f6a4-4ea6-a6d7-386d41eb2e70",
   "metadata": {},
   "source": [
    "<div style=\"background-color: orange; padding: 10px; border-radius: 5px; font-size: 18px; font-weight: bold;\">\n",
    "    Gemma2\n",
    "</div>"
   ]
  },
  {
   "cell_type": "code",
   "execution_count": 24,
   "id": "7fe31029-d748-4a2b-a10c-42f1b93631ab",
   "metadata": {},
   "outputs": [
    {
     "name": "stdout",
     "output_type": "stream",
     "text": [
      "\n",
      "[LangWatch] Experiment initialized, run_id: run-1\n",
      "[LangWatch] Open https://app.langwatch.ai/nit-SKJiRK/experiments/llm-16jan?runIds=run-1 to track your DSPy training session live\n",
      "\n"
     ]
    },
    {
     "name": "stderr",
     "output_type": "stream",
     "text": [
      " 20%|████████▊                                   | 2/10 [00:15<01:02,  7.79s/it]\n"
     ]
    },
    {
     "name": "stdout",
     "output_type": "stream",
     "text": [
      "Bootstrapped 2 full traces after 2 examples for up to 10 rounds, amounting to 2 attempts.\n"
     ]
    },
    {
     "name": "stderr",
     "output_type": "stream",
     "text": [
      "Attempting to instrument while already instrumented\n",
      "Attempting to instrument while already instrumented\n"
     ]
    },
    {
     "name": "stdout",
     "output_type": "stream",
     "text": [
      "ModelName:****** ollama_chat/gemma2:2b ********\n",
      "Average Metric: 4.22 / 5 (84.4%): 100%|███████████| 5/5 [00:19<00:00,  3.94s/it]"
     ]
    },
    {
     "name": "stderr",
     "output_type": "stream",
     "text": [
      "2025/01/16 20:15:29 INFO dspy.evaluate.evaluate: Average Metric: 4.221176505088806 / 5 (84.4%)\n"
     ]
    },
    {
     "name": "stdout",
     "output_type": "stream",
     "text": [
      "\n"
     ]
    },
    {
     "data": {
      "text/html": [
       "<div>\n",
       "<style scoped>\n",
       "    .dataframe tbody tr th:only-of-type {\n",
       "        vertical-align: middle;\n",
       "    }\n",
       "\n",
       "    .dataframe tbody tr th {\n",
       "        vertical-align: top;\n",
       "    }\n",
       "\n",
       "    .dataframe thead th {\n",
       "        text-align: right;\n",
       "    }\n",
       "</style>\n",
       "<table border=\"1\" class=\"dataframe\">\n",
       "  <thead>\n",
       "    <tr style=\"text-align: right;\">\n",
       "      <th></th>\n",
       "      <th>question</th>\n",
       "      <th>example_answer</th>\n",
       "      <th>pred_answer</th>\n",
       "      <th>SemScore</th>\n",
       "    </tr>\n",
       "  </thead>\n",
       "  <tbody>\n",
       "    <tr>\n",
       "      <th>0</th>\n",
       "      <td>What mechanisms does your organization use to prevent unauthorized...</td>\n",
       "      <td>Introduction to SPF Records and Mechanisms =======================...</td>\n",
       "      <td>Our organization employs a multi-layered approach to prevent unaut...</td>\n",
       "      <td>✔️ [0.746]</td>\n",
       "    </tr>\n",
       "    <tr>\n",
       "      <th>1</th>\n",
       "      <td>What is your organization's strategy for handling complex SPF reco...</td>\n",
       "      <td>Introduction to SPF Record Wildcard and Macro Configurations =====...</td>\n",
       "      <td>Our organization employs a multi-layered approach to managing comp...</td>\n",
       "      <td>✔️ [0.867]</td>\n",
       "    </tr>\n",
       "    <tr>\n",
       "      <th>2</th>\n",
       "      <td>What specific guidelines do you follow to define and configure SPF...</td>\n",
       "      <td>Introduction to SPF Record Scopes ================================...</td>\n",
       "      <td>Defining and configuring SPF records for our organization's domain...</td>\n",
       "      <td>✔️ [0.861]</td>\n",
       "    </tr>\n",
       "    <tr>\n",
       "      <th>3</th>\n",
       "      <td>How do you ensure that your SPF records are properly propagated to...</td>\n",
       "      <td>Ensuring Proper Propagation and Consistency of SPF Records: A Comp...</td>\n",
       "      <td>Ensuring proper propagation of SPF records across your organizatio...</td>\n",
       "      <td>✔️ [0.886]</td>\n",
       "    </tr>\n",
       "    <tr>\n",
       "      <th>4</th>\n",
       "      <td>How does your organization handle the management of SPF record wil...</td>\n",
       "      <td>Introduction to SPF Record Wildcards and Macros Management =======...</td>\n",
       "      <td>Managing SPF records with wildcards and macros across multiple dom...</td>\n",
       "      <td>✔️ [0.862]</td>\n",
       "    </tr>\n",
       "  </tbody>\n",
       "</table>\n",
       "</div>"
      ],
      "text/plain": [
       "                                                                question  \\\n",
       "0  What mechanisms does your organization use to prevent unauthorized...   \n",
       "1  What is your organization's strategy for handling complex SPF reco...   \n",
       "2  What specific guidelines do you follow to define and configure SPF...   \n",
       "3  How do you ensure that your SPF records are properly propagated to...   \n",
       "4  How does your organization handle the management of SPF record wil...   \n",
       "\n",
       "                                                          example_answer  \\\n",
       "0  Introduction to SPF Records and Mechanisms =======================...   \n",
       "1  Introduction to SPF Record Wildcard and Macro Configurations =====...   \n",
       "2  Introduction to SPF Record Scopes ================================...   \n",
       "3  Ensuring Proper Propagation and Consistency of SPF Records: A Comp...   \n",
       "4  Introduction to SPF Record Wildcards and Macros Management =======...   \n",
       "\n",
       "                                                             pred_answer  \\\n",
       "0  Our organization employs a multi-layered approach to prevent unaut...   \n",
       "1  Our organization employs a multi-layered approach to managing comp...   \n",
       "2  Defining and configuring SPF records for our organization's domain...   \n",
       "3  Ensuring proper propagation of SPF records across your organizatio...   \n",
       "4  Managing SPF records with wildcards and macros across multiple dom...   \n",
       "\n",
       "     SemScore  \n",
       "0  ✔️ [0.746]  \n",
       "1  ✔️ [0.867]  \n",
       "2  ✔️ [0.861]  \n",
       "3  ✔️ [0.886]  \n",
       "4  ✔️ [0.862]  "
      ]
     },
     "metadata": {},
     "output_type": "display_data"
    },
    {
     "name": "stdout",
     "output_type": "stream",
     "text": [
      "Average Metric: 4.22 / 5 (84.4%): 100%|███████████| 5/5 [00:00<00:00, 18.65it/s]"
     ]
    },
    {
     "name": "stderr",
     "output_type": "stream",
     "text": [
      "2025/01/16 20:15:29 INFO dspy.evaluate.evaluate: Average Metric: 4.221176505088806 / 5 (84.4%)\n"
     ]
    },
    {
     "name": "stdout",
     "output_type": "stream",
     "text": [
      "\n"
     ]
    },
    {
     "data": {
      "text/html": [
       "<div>\n",
       "<style scoped>\n",
       "    .dataframe tbody tr th:only-of-type {\n",
       "        vertical-align: middle;\n",
       "    }\n",
       "\n",
       "    .dataframe tbody tr th {\n",
       "        vertical-align: top;\n",
       "    }\n",
       "\n",
       "    .dataframe thead th {\n",
       "        text-align: right;\n",
       "    }\n",
       "</style>\n",
       "<table border=\"1\" class=\"dataframe\">\n",
       "  <thead>\n",
       "    <tr style=\"text-align: right;\">\n",
       "      <th></th>\n",
       "      <th>question</th>\n",
       "      <th>example_answer</th>\n",
       "      <th>pred_answer</th>\n",
       "      <th>SemScore</th>\n",
       "    </tr>\n",
       "  </thead>\n",
       "  <tbody>\n",
       "    <tr>\n",
       "      <th>0</th>\n",
       "      <td>What mechanisms does your organization use to prevent unauthorized...</td>\n",
       "      <td>Introduction to SPF Records and Mechanisms =======================...</td>\n",
       "      <td>Our organization employs a multi-layered approach to prevent unaut...</td>\n",
       "      <td>✔️ [0.746]</td>\n",
       "    </tr>\n",
       "    <tr>\n",
       "      <th>1</th>\n",
       "      <td>What is your organization's strategy for handling complex SPF reco...</td>\n",
       "      <td>Introduction to SPF Record Wildcard and Macro Configurations =====...</td>\n",
       "      <td>Our organization employs a multi-layered approach to managing comp...</td>\n",
       "      <td>✔️ [0.867]</td>\n",
       "    </tr>\n",
       "    <tr>\n",
       "      <th>2</th>\n",
       "      <td>What specific guidelines do you follow to define and configure SPF...</td>\n",
       "      <td>Introduction to SPF Record Scopes ================================...</td>\n",
       "      <td>Defining and configuring SPF records for our organization's domain...</td>\n",
       "      <td>✔️ [0.861]</td>\n",
       "    </tr>\n",
       "    <tr>\n",
       "      <th>3</th>\n",
       "      <td>How do you ensure that your SPF records are properly propagated to...</td>\n",
       "      <td>Ensuring Proper Propagation and Consistency of SPF Records: A Comp...</td>\n",
       "      <td>Ensuring proper propagation of SPF records across your organizatio...</td>\n",
       "      <td>✔️ [0.886]</td>\n",
       "    </tr>\n",
       "    <tr>\n",
       "      <th>4</th>\n",
       "      <td>How does your organization handle the management of SPF record wil...</td>\n",
       "      <td>Introduction to SPF Record Wildcards and Macros Management =======...</td>\n",
       "      <td>Managing SPF records with wildcards and macros across multiple dom...</td>\n",
       "      <td>✔️ [0.862]</td>\n",
       "    </tr>\n",
       "  </tbody>\n",
       "</table>\n",
       "</div>"
      ],
      "text/plain": [
       "                                                                question  \\\n",
       "0  What mechanisms does your organization use to prevent unauthorized...   \n",
       "1  What is your organization's strategy for handling complex SPF reco...   \n",
       "2  What specific guidelines do you follow to define and configure SPF...   \n",
       "3  How do you ensure that your SPF records are properly propagated to...   \n",
       "4  How does your organization handle the management of SPF record wil...   \n",
       "\n",
       "                                                          example_answer  \\\n",
       "0  Introduction to SPF Records and Mechanisms =======================...   \n",
       "1  Introduction to SPF Record Wildcard and Macro Configurations =====...   \n",
       "2  Introduction to SPF Record Scopes ================================...   \n",
       "3  Ensuring Proper Propagation and Consistency of SPF Records: A Comp...   \n",
       "4  Introduction to SPF Record Wildcards and Macros Management =======...   \n",
       "\n",
       "                                                             pred_answer  \\\n",
       "0  Our organization employs a multi-layered approach to prevent unaut...   \n",
       "1  Our organization employs a multi-layered approach to managing comp...   \n",
       "2  Defining and configuring SPF records for our organization's domain...   \n",
       "3  Ensuring proper propagation of SPF records across your organizatio...   \n",
       "4  Managing SPF records with wildcards and macros across multiple dom...   \n",
       "\n",
       "     SemScore  \n",
       "0  ✔️ [0.746]  \n",
       "1  ✔️ [0.867]  \n",
       "2  ✔️ [0.861]  \n",
       "3  ✔️ [0.886]  \n",
       "4  ✔️ [0.862]  "
      ]
     },
     "metadata": {},
     "output_type": "display_data"
    },
    {
     "name": "stdout",
     "output_type": "stream",
     "text": [
      "Average Metric: 4.08 / 5 (81.7%): 100%|███████████| 5/5 [00:29<00:00,  5.84s/it]"
     ]
    },
    {
     "name": "stderr",
     "output_type": "stream",
     "text": [
      "2025/01/16 20:15:59 INFO dspy.evaluate.evaluate: Average Metric: 4.084993660449982 / 5 (81.7%)\n"
     ]
    },
    {
     "name": "stdout",
     "output_type": "stream",
     "text": [
      "\n"
     ]
    },
    {
     "data": {
      "text/html": [
       "<div>\n",
       "<style scoped>\n",
       "    .dataframe tbody tr th:only-of-type {\n",
       "        vertical-align: middle;\n",
       "    }\n",
       "\n",
       "    .dataframe tbody tr th {\n",
       "        vertical-align: top;\n",
       "    }\n",
       "\n",
       "    .dataframe thead th {\n",
       "        text-align: right;\n",
       "    }\n",
       "</style>\n",
       "<table border=\"1\" class=\"dataframe\">\n",
       "  <thead>\n",
       "    <tr style=\"text-align: right;\">\n",
       "      <th></th>\n",
       "      <th>question</th>\n",
       "      <th>example_answer</th>\n",
       "      <th>reasoning</th>\n",
       "      <th>pred_answer</th>\n",
       "      <th>SemScore</th>\n",
       "    </tr>\n",
       "  </thead>\n",
       "  <tbody>\n",
       "    <tr>\n",
       "      <th>0</th>\n",
       "      <td>What mechanisms does your organization use to prevent unauthorized...</td>\n",
       "      <td>Introduction to SPF Records and Mechanisms =======================...</td>\n",
       "      <td>Email security is a multi-layered approach. Preventing unauthorize...</td>\n",
       "      <td>To prevent unauthorized senders from using your domains in the MAI...</td>\n",
       "      <td>✔️ [0.727]</td>\n",
       "    </tr>\n",
       "    <tr>\n",
       "      <th>1</th>\n",
       "      <td>What is your organization's strategy for handling complex SPF reco...</td>\n",
       "      <td>Introduction to SPF Record Wildcard and Macro Configurations =====...</td>\n",
       "      <td>Handling complex SPF record wildcard and macro configurations requ...</td>\n",
       "      <td>Here's a breakdown of how to approach SPF record management for co...</td>\n",
       "      <td>✔️ [0.807]</td>\n",
       "    </tr>\n",
       "    <tr>\n",
       "      <th>2</th>\n",
       "      <td>What specific guidelines do you follow to define and configure SPF...</td>\n",
       "      <td>Introduction to SPF Record Scopes ================================...</td>\n",
       "      <td>SPF (Sender Policy Framework) is a crucial part of email authentic...</td>\n",
       "      <td>Here's a breakdown of how we approach SPF record scopes: 1. **Defi...</td>\n",
       "      <td>✔️ [0.854]</td>\n",
       "    </tr>\n",
       "    <tr>\n",
       "      <th>3</th>\n",
       "      <td>How do you ensure that your SPF records are properly propagated to...</td>\n",
       "      <td>Ensuring Proper Propagation and Consistency of SPF Records: A Comp...</td>\n",
       "      <td>Ensuring proper propagation of SPF records across all DNS servers ...</td>\n",
       "      <td>To ensure proper propagation and prevent inconsistencies, follow t...</td>\n",
       "      <td>✔️ [0.855]</td>\n",
       "    </tr>\n",
       "    <tr>\n",
       "      <th>4</th>\n",
       "      <td>How does your organization handle the management of SPF record wil...</td>\n",
       "      <td>Introduction to SPF Record Wildcards and Macros Management =======...</td>\n",
       "      <td>Managing SPF record wildcards and macros across multiple domains a...</td>\n",
       "      <td>To effectively manage SPF record wildcards and macros across multi...</td>\n",
       "      <td>✔️ [0.842]</td>\n",
       "    </tr>\n",
       "  </tbody>\n",
       "</table>\n",
       "</div>"
      ],
      "text/plain": [
       "                                                                question  \\\n",
       "0  What mechanisms does your organization use to prevent unauthorized...   \n",
       "1  What is your organization's strategy for handling complex SPF reco...   \n",
       "2  What specific guidelines do you follow to define and configure SPF...   \n",
       "3  How do you ensure that your SPF records are properly propagated to...   \n",
       "4  How does your organization handle the management of SPF record wil...   \n",
       "\n",
       "                                                          example_answer  \\\n",
       "0  Introduction to SPF Records and Mechanisms =======================...   \n",
       "1  Introduction to SPF Record Wildcard and Macro Configurations =====...   \n",
       "2  Introduction to SPF Record Scopes ================================...   \n",
       "3  Ensuring Proper Propagation and Consistency of SPF Records: A Comp...   \n",
       "4  Introduction to SPF Record Wildcards and Macros Management =======...   \n",
       "\n",
       "                                                               reasoning  \\\n",
       "0  Email security is a multi-layered approach. Preventing unauthorize...   \n",
       "1  Handling complex SPF record wildcard and macro configurations requ...   \n",
       "2  SPF (Sender Policy Framework) is a crucial part of email authentic...   \n",
       "3  Ensuring proper propagation of SPF records across all DNS servers ...   \n",
       "4  Managing SPF record wildcards and macros across multiple domains a...   \n",
       "\n",
       "                                                             pred_answer  \\\n",
       "0  To prevent unauthorized senders from using your domains in the MAI...   \n",
       "1  Here's a breakdown of how to approach SPF record management for co...   \n",
       "2  Here's a breakdown of how we approach SPF record scopes: 1. **Defi...   \n",
       "3  To ensure proper propagation and prevent inconsistencies, follow t...   \n",
       "4  To effectively manage SPF record wildcards and macros across multi...   \n",
       "\n",
       "     SemScore  \n",
       "0  ✔️ [0.727]  \n",
       "1  ✔️ [0.807]  \n",
       "2  ✔️ [0.854]  \n",
       "3  ✔️ [0.855]  \n",
       "4  ✔️ [0.842]  "
      ]
     },
     "metadata": {},
     "output_type": "display_data"
    },
    {
     "name": "stdout",
     "output_type": "stream",
     "text": [
      "Average Metric: 4.46 / 5 (89.2%): 100%|███████████| 5/5 [00:32<00:00,  6.49s/it]"
     ]
    },
    {
     "name": "stderr",
     "output_type": "stream",
     "text": [
      "2025/01/16 20:16:31 INFO dspy.evaluate.evaluate: Average Metric: 4.45858496427536 / 5 (89.2%)\n"
     ]
    },
    {
     "name": "stdout",
     "output_type": "stream",
     "text": [
      "\n"
     ]
    },
    {
     "data": {
      "text/html": [
       "<div>\n",
       "<style scoped>\n",
       "    .dataframe tbody tr th:only-of-type {\n",
       "        vertical-align: middle;\n",
       "    }\n",
       "\n",
       "    .dataframe tbody tr th {\n",
       "        vertical-align: top;\n",
       "    }\n",
       "\n",
       "    .dataframe thead th {\n",
       "        text-align: right;\n",
       "    }\n",
       "</style>\n",
       "<table border=\"1\" class=\"dataframe\">\n",
       "  <thead>\n",
       "    <tr style=\"text-align: right;\">\n",
       "      <th></th>\n",
       "      <th>question</th>\n",
       "      <th>example_answer</th>\n",
       "      <th>reasoning</th>\n",
       "      <th>pred_answer</th>\n",
       "      <th>SemScore</th>\n",
       "    </tr>\n",
       "  </thead>\n",
       "  <tbody>\n",
       "    <tr>\n",
       "      <th>0</th>\n",
       "      <td>What mechanisms does your organization use to prevent unauthorized...</td>\n",
       "      <td>Introduction to SPF Records and Mechanisms =======================...</td>\n",
       "      <td>Preventing unauthorized senders from using an organization's domai...</td>\n",
       "      <td>Mechanisms for Preventing Unauthorized Senders ===================...</td>\n",
       "      <td>✔️ [0.848]</td>\n",
       "    </tr>\n",
       "    <tr>\n",
       "      <th>1</th>\n",
       "      <td>What is your organization's strategy for handling complex SPF reco...</td>\n",
       "      <td>Introduction to SPF Record Wildcard and Macro Configurations =====...</td>\n",
       "      <td>Complex SPF record configurations using wildcards and macros can p...</td>\n",
       "      <td>Handling Complex SPF Record Configurations: A Strategic Approach =...</td>\n",
       "      <td>✔️ [0.931]</td>\n",
       "    </tr>\n",
       "    <tr>\n",
       "      <th>2</th>\n",
       "      <td>What specific guidelines do you follow to define and configure SPF...</td>\n",
       "      <td>Introduction to SPF Record Scopes ================================...</td>\n",
       "      <td>Defining and configuring SPF record scopes is crucial to ensure ac...</td>\n",
       "      <td>Guidelines for Defining and Configuring SPF Record Scopes ========...</td>\n",
       "      <td>✔️ [0.889]</td>\n",
       "    </tr>\n",
       "    <tr>\n",
       "      <th>3</th>\n",
       "      <td>How do you ensure that your SPF records are properly propagated to...</td>\n",
       "      <td>Ensuring Proper Propagation and Consistency of SPF Records: A Comp...</td>\n",
       "      <td>Ensuring consistent and accurate SPF records across all DNS server...</td>\n",
       "      <td>Propagating SPF Records: Ensuring Consistency and Preventing Confl...</td>\n",
       "      <td>✔️ [0.899]</td>\n",
       "    </tr>\n",
       "    <tr>\n",
       "      <th>4</th>\n",
       "      <td>How does your organization handle the management of SPF record wil...</td>\n",
       "      <td>Introduction to SPF Record Wildcards and Macros Management =======...</td>\n",
       "      <td>Managing SPF record wildcards and macros across multiple domains a...</td>\n",
       "      <td>Managing SPF Record Wildcards and Macros Across Multiple Domains a...</td>\n",
       "      <td>✔️ [0.891]</td>\n",
       "    </tr>\n",
       "  </tbody>\n",
       "</table>\n",
       "</div>"
      ],
      "text/plain": [
       "                                                                question  \\\n",
       "0  What mechanisms does your organization use to prevent unauthorized...   \n",
       "1  What is your organization's strategy for handling complex SPF reco...   \n",
       "2  What specific guidelines do you follow to define and configure SPF...   \n",
       "3  How do you ensure that your SPF records are properly propagated to...   \n",
       "4  How does your organization handle the management of SPF record wil...   \n",
       "\n",
       "                                                          example_answer  \\\n",
       "0  Introduction to SPF Records and Mechanisms =======================...   \n",
       "1  Introduction to SPF Record Wildcard and Macro Configurations =====...   \n",
       "2  Introduction to SPF Record Scopes ================================...   \n",
       "3  Ensuring Proper Propagation and Consistency of SPF Records: A Comp...   \n",
       "4  Introduction to SPF Record Wildcards and Macros Management =======...   \n",
       "\n",
       "                                                               reasoning  \\\n",
       "0  Preventing unauthorized senders from using an organization's domai...   \n",
       "1  Complex SPF record configurations using wildcards and macros can p...   \n",
       "2  Defining and configuring SPF record scopes is crucial to ensure ac...   \n",
       "3  Ensuring consistent and accurate SPF records across all DNS server...   \n",
       "4  Managing SPF record wildcards and macros across multiple domains a...   \n",
       "\n",
       "                                                             pred_answer  \\\n",
       "0  Mechanisms for Preventing Unauthorized Senders ===================...   \n",
       "1  Handling Complex SPF Record Configurations: A Strategic Approach =...   \n",
       "2  Guidelines for Defining and Configuring SPF Record Scopes ========...   \n",
       "3  Propagating SPF Records: Ensuring Consistency and Preventing Confl...   \n",
       "4  Managing SPF Record Wildcards and Macros Across Multiple Domains a...   \n",
       "\n",
       "     SemScore  \n",
       "0  ✔️ [0.848]  \n",
       "1  ✔️ [0.931]  \n",
       "2  ✔️ [0.889]  \n",
       "3  ✔️ [0.899]  \n",
       "4  ✔️ [0.891]  "
      ]
     },
     "metadata": {},
     "output_type": "display_data"
    },
    {
     "data": {
      "application/vnd.jupyter.widget-view+json": {
       "model_id": "b2826d0f4786473689cf8014a96893be",
       "version_major": 2,
       "version_minor": 0
      },
      "text/plain": [
       "  0%|          | 0/5 [00:00<?, ?it/s]"
      ]
     },
     "metadata": {},
     "output_type": "display_data"
    },
    {
     "data": {
      "application/vnd.jupyter.widget-view+json": {
       "model_id": "c0390ab747d9442dba20e05bd94ac147",
       "version_major": 2,
       "version_minor": 0
      },
      "text/plain": [
       "  0%|          | 0/5 [00:00<?, ?it/s]"
      ]
     },
     "metadata": {},
     "output_type": "display_data"
    },
    {
     "data": {
      "application/vnd.jupyter.widget-view+json": {
       "model_id": "b4257ff7a8cb405b8e715cef85f1b414",
       "version_major": 2,
       "version_minor": 0
      },
      "text/plain": [
       "  0%|          | 0/5 [00:00<?, ?it/s]"
      ]
     },
     "metadata": {},
     "output_type": "display_data"
    },
    {
     "data": {
      "application/vnd.jupyter.widget-view+json": {
       "model_id": "0403c67809e64d2a9c8bfd4a1c483798",
       "version_major": 2,
       "version_minor": 0
      },
      "text/plain": [
       "  0%|          | 0/5 [00:00<?, ?it/s]"
      ]
     },
     "metadata": {},
     "output_type": "display_data"
    }
   ],
   "source": [
    "model = dspy.LM('ollama_chat/gemma2:2b', api_base='http://localhost:11434', api_key='')\n",
    "dspy.configure(lm=model)\n",
    "\n",
    "with dspy.context(lm = model):\n",
    "\n",
    "    optimizer = BootstrapFewShot(metric=SemScore,max_labeled_demos=2,\n",
    "                             max_bootstrapped_demos=2,\n",
    "                             teacher_settings=dict(lm=model),\n",
    "                             max_rounds=10)\n",
    "    \n",
    "    langwatch.dspy.init(experiment=\"LLM_16Jan\", optimizer=optimizer,run_id='run-1')\n",
    "    compiled_cot_fewshot = optimizer.compile(FewShot_CotModel(), trainset=trainset)\n",
    "\n",
    "    print('ModelName:******',dspy.settings.lm.model,'********')\n",
    "    DSPyInstrumentor().instrument(tracer_provider=tracer_provider,skip_dep_check=True)\n",
    "    LiteLLMInstrumentor().instrument(tracer_provider=tracer_provider,skip_dep_check=True)\n",
    "\n",
    "    eval_zeroshot_predict,outputs1 = evaluate_program(ZS_PredictModel())\n",
    "    eval_fewshot_predict,outputs2 = evaluate_program(FewShot_PredictModel(few_shot_examples))\n",
    "\n",
    "    eval_zeroshot_cot,outputs3 = evaluate_program(ZS_CotModel())\n",
    "    eval_fewshot_cot,outputs4 = evaluate_program(compiled_cot_fewshot)\n",
    "\n",
    "    results_semscore.append({\n",
    "        'Model': model.model,\n",
    "        'Zero Shot -Direct': eval_zeroshot_predict,\n",
    "        'Few Shot -Direct': eval_fewshot_predict,\n",
    "        'Zero Shot -COT': eval_zeroshot_cot,\n",
    "        'Few Shot -COT': eval_fewshot_cot\n",
    "    })\n",
    "\n",
    "with dspy.context(lm = judge_model):\n",
    "    results_llmjudge.append({\n",
    "        'Model': model.model,\n",
    "        'Zero Shot -Direct': llmscore(outputs1),\n",
    "        'Few Shot -Direct': llmscore(outputs2),\n",
    "        'Zero Shot -COT': llmscore(outputs3),\n",
    "        'Few Shot -COT': llmscore(outputs4)\n",
    "        })"
   ]
  },
  {
   "cell_type": "markdown",
   "id": "ff02369d-96fe-4846-9c9e-27755e52c089",
   "metadata": {},
   "source": [
    "<div style=\"background-color: pink; padding: 10px; border-radius: 5px; font-size: 18px; font-weight: bold;\">\n",
    "    Graphs\n",
    "</div>"
   ]
  },
  {
   "cell_type": "code",
   "execution_count": 26,
   "id": "8413f77f-1138-406a-9ab8-9575198f0e15",
   "metadata": {},
   "outputs": [
    {
     "data": {
      "image/png": "[encoded data removed]",
      "text/plain": [
       "<Figure size 720x432 with 1 Axes>"
      ]
     },
     "metadata": {
      "needs_background": "light"
     },
     "output_type": "display_data"
    }
   ],
   "source": [
    "import matplotlib.pyplot as plt\n",
    "df = pd.DataFrame(results_semscore)\n",
    "\n",
    "# Plot with scores centered on bars\n",
    "fig, ax = plt.subplots(figsize=(10, 6))\n",
    "x = range(len(df['Model']))\n",
    "\n",
    "# Bar widths and positions\n",
    "width = 0.1\n",
    "\n",
    "# Plot each metric\n",
    "bars1 = ax.bar(x, df['Zero Shot -Direct'], width=width, label='Zero Shot -Direct', align='center')\n",
    "bars2 = ax.bar([i + width for i in x], df['Few Shot -Direct'], width=width, label='Few Shot -Direct', align='center')\n",
    "bars3 = ax.bar([i + 2 * width for i in x], df['Zero Shot -COT'], width=width, label='Zero Shot -COT', align='center')\n",
    "bars4 = ax.bar([i + 3 * width for i in x], df['Few Shot -COT'], width=width, label='Few Shot -COT', align='center')\n",
    "\n",
    "# Add individual scores at the center of bars\n",
    "for bars in [bars1, bars2, bars3, bars4]:\n",
    "    for bar in bars:\n",
    "        height = bar.get_height()\n",
    "        ax.text(bar.get_x() + bar.get_width() / 2, height / 2, f'{height:.2f}',\n",
    "                ha='center', va='center', fontsize=9, color='white')\n",
    "\n",
    "# Customize plot\n",
    "ax.set_xticks([i + 1.5 * width for i in x])\n",
    "ax.set_xticklabels(df['Model'])\n",
    "ax.set_ylabel('Scores')\n",
    "ax.set_title('Performance Comparison of Models with semscore Scores')\n",
    "ax.legend()\n",
    "\n",
    "# Show plot\n",
    "plt.tight_layout()\n",
    "plt.show()\n",
    "\n"
   ]
  },
  {
   "cell_type": "code",
   "execution_count": 27,
   "id": "00aa7801-0755-4c88-bfb1-e1a5bff19fdb",
   "metadata": {},
   "outputs": [
    {
     "data": {
      "image/png": "[encoded data removed]",
      "text/plain": [
       "<Figure size 720x432 with 1 Axes>"
      ]
     },
     "metadata": {
      "needs_background": "light"
     },
     "output_type": "display_data"
    }
   ],
   "source": [
    "df = pd.DataFrame(results_llmjudge)\n",
    "\n",
    "# Plot with scores centered on bars\n",
    "fig, ax = plt.subplots(figsize=(10, 6))\n",
    "x = range(len(df['Model']))\n",
    "\n",
    "# Bar widths and positions\n",
    "width = 0.1\n",
    "\n",
    "# Plot each metric\n",
    "bars1 = ax.bar(x, df['Zero Shot -Direct'], width=width, label='Zero Shot -Direct', align='center')\n",
    "bars2 = ax.bar([i + width for i in x], df['Few Shot -Direct'], width=width, label='Few Shot -Direct', align='center')\n",
    "bars3 = ax.bar([i + 2 * width for i in x], df['Zero Shot -COT'], width=width, label='Zero Shot -COT', align='center')\n",
    "bars4 = ax.bar([i + 3 * width for i in x], df['Few Shot -COT'], width=width, label='Few Shot -COT', align='center')\n",
    "\n",
    "# Add individual scores at the center of bars\n",
    "for bars in [bars1, bars2, bars3, bars4]:\n",
    "    for bar in bars:\n",
    "        height = bar.get_height()\n",
    "        ax.text(bar.get_x() + bar.get_width() / 2, height / 2, f'{height:.2f}',\n",
    "                ha='center', va='center', fontsize=9, color='white')\n",
    "\n",
    "# Customize plot\n",
    "ax.set_xticks([i + 1.5 * width for i in x])\n",
    "ax.set_xticklabels(df['Model'])\n",
    "ax.set_ylabel('Scores')\n",
    "ax.set_title('Performance Comparison of Models with llmjudge Scores')\n",
    "ax.legend()\n",
    "\n",
    "# Show plot\n",
    "plt.tight_layout()\n",
    "plt.show()\n",
    "\n"
   ]
  },
  {
   "cell_type": "code",
   "execution_count": null,
   "id": "85fe90fe-eeaa-466b-8b64-56e5ea3b6c33",
   "metadata": {},
   "outputs": [],
   "source": []
  }
 ],
 "metadata": {
  "kernelspec": {
   "display_name": "Python 3 (ipykernel)",
   "language": "python",
   "name": "python3"
  },
  "language_info": {
   "codemirror_mode": {
    "name": "ipython",
    "version": 3
   },
   "file_extension": ".py",
   "mimetype": "text/x-python",
   "name": "python",
   "nbconvert_exporter": "python",
   "pygments_lexer": "ipython3",
   "version": "3.10.12"
  }
 },
 "nbformat": 4,
 "nbformat_minor": 5
}
