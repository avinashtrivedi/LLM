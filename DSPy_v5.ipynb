{
 "cells": [
  {
   "cell_type": "code",
   "execution_count": 1,
   "id": "7ffa6869-2a19-42bf-9a1c-1fe45573d4e7",
   "metadata": {},
   "outputs": [],
   "source": [
    "# pip install openinference-instrumentation-dspy dspy\n",
    "# pip install openinference-instrumentation-litellm arize-phoenix litellm"
   ]
  },
  {
   "cell_type": "code",
   "execution_count": 2,
   "id": "f542a8cd-56aa-44fc-a187-a65be8a517bc",
   "metadata": {},
   "outputs": [
    {
     "name": "stderr",
     "output_type": "stream",
     "text": [
      "/usr/lib/python3/dist-packages/scipy/__init__.py:146: UserWarning: A NumPy version >=1.17.3 and <1.25.0 is required for this version of SciPy (detected version 1.26.0\n",
      "  warnings.warn(f\"A NumPy version >={np_minversion} and <{np_maxversion}\"\n"
     ]
    },
    {
     "name": "stdout",
     "output_type": "stream",
     "text": [
      "🌍 To view the Phoenix app in your browser, visit http://localhost:6006/\n",
      "📖 For more information on how to use Phoenix, check out https://docs.arize.com/phoenix\n",
      "http://localhost:6006/\n",
      "🔭 OpenTelemetry Tracing Details 🔭\n",
      "|  Phoenix Project: LLMs\n",
      "|  Span Processor: SimpleSpanProcessor\n",
      "|  Collector Endpoint: localhost:4317\n",
      "|  Transport: gRPC\n",
      "|  Transport Headers: {'user-agent': '****'}\n",
      "|  \n",
      "|  Using a default SpanProcessor. `add_span_processor` will overwrite this default.\n",
      "|  \n",
      "|  `register` has set this TracerProvider as the global OpenTelemetry default.\n",
      "|  To disable this behavior, call `register` with `set_global_tracer_provider=False`.\n",
      "\n"
     ]
    },
    {
     "data": {
      "text/html": [
       "<div>\n",
       "<style scoped>\n",
       "    .dataframe tbody tr th:only-of-type {\n",
       "        vertical-align: middle;\n",
       "    }\n",
       "\n",
       "    .dataframe tbody tr th {\n",
       "        vertical-align: top;\n",
       "    }\n",
       "\n",
       "    .dataframe thead th {\n",
       "        text-align: right;\n",
       "    }\n",
       "</style>\n",
       "<table border=\"1\" class=\"dataframe\">\n",
       "  <thead>\n",
       "    <tr style=\"text-align: right;\">\n",
       "      <th></th>\n",
       "      <th>index</th>\n",
       "      <th>Question</th>\n",
       "      <th>Recommendation</th>\n",
       "    </tr>\n",
       "  </thead>\n",
       "  <tbody>\n",
       "    <tr>\n",
       "      <th>0</th>\n",
       "      <td>0</td>\n",
       "      <td>How does one determine the optimal DMARC polic...</td>\n",
       "      <td>Determining the optimal DMARC policy for a dom...</td>\n",
       "    </tr>\n",
       "    <tr>\n",
       "      <th>1</th>\n",
       "      <td>1</td>\n",
       "      <td>How does the err tag in a DMARC record handle ...</td>\n",
       "      <td>In the context of email authentication protoco...</td>\n",
       "    </tr>\n",
       "    <tr>\n",
       "      <th>2</th>\n",
       "      <td>2</td>\n",
       "      <td>How does the presence or absence of the l tag ...</td>\n",
       "      <td>The l tag in a DMARC record plays a crucial ro...</td>\n",
       "    </tr>\n",
       "    <tr>\n",
       "      <th>3</th>\n",
       "      <td>3</td>\n",
       "      <td>How does the rua tag in a DMARC record enable ...</td>\n",
       "      <td>The rua tag in a DMARC record plays a crucial ...</td>\n",
       "    </tr>\n",
       "    <tr>\n",
       "      <th>4</th>\n",
       "      <td>4</td>\n",
       "      <td>Can the mode tag in a DMARC record be omitted,...</td>\n",
       "      <td>In the context of DKIM, DMARC, and SPF, the mo...</td>\n",
       "    </tr>\n",
       "  </tbody>\n",
       "</table>\n",
       "</div>"
      ],
      "text/plain": [
       "   index                                           Question  \\\n",
       "0      0  How does one determine the optimal DMARC polic...   \n",
       "1      1  How does the err tag in a DMARC record handle ...   \n",
       "2      2  How does the presence or absence of the l tag ...   \n",
       "3      3  How does the rua tag in a DMARC record enable ...   \n",
       "4      4  Can the mode tag in a DMARC record be omitted,...   \n",
       "\n",
       "                                      Recommendation  \n",
       "0  Determining the optimal DMARC policy for a dom...  \n",
       "1  In the context of email authentication protoco...  \n",
       "2  The l tag in a DMARC record plays a crucial ro...  \n",
       "3  The rua tag in a DMARC record plays a crucial ...  \n",
       "4  In the context of DKIM, DMARC, and SPF, the mo...  "
      ]
     },
     "execution_count": 2,
     "metadata": {},
     "output_type": "execute_result"
    }
   ],
   "source": [
    "import pandas as pd\n",
    "import gc\n",
    "import torch\n",
    "from datasets import Dataset\n",
    "from tqdm.notebook import tqdm\n",
    "import random\n",
    "from dspy.datasets import DataLoader\n",
    "random.seed(42)\n",
    "dl = DataLoader()\n",
    "from sklearn.model_selection import train_test_split\n",
    "import warnings\n",
    "warnings.filterwarnings('ignore')\n",
    "from dspy.teleprompt import BootstrapFewShot\n",
    "from dspy.teleprompt import MIPROv2\n",
    "import phoenix as px\n",
    "phoenix_session = px.launch_app()\n",
    "print(phoenix_session.url)\n",
    "from openinference.instrumentation.dspy import DSPyInstrumentor\n",
    "from openinference.instrumentation.litellm import LiteLLMInstrumentor\n",
    "from phoenix.otel import register\n",
    "\n",
    "tracer_provider = register(project_name='LLMs')\n",
    "\n",
    "file_path = 'cleaned_concatenated.csv'\n",
    "df = pd.read_csv(file_path)\n",
    "df.head()"
   ]
  },
  {
   "cell_type": "code",
   "execution_count": 3,
   "id": "cfd15a6d-be66-4fa1-bded-d15d1cdbb8de",
   "metadata": {},
   "outputs": [],
   "source": [
    "import langwatch\n",
    "langwatch.api_key = 'YOUR API KEY'"
   ]
  },
  {
   "cell_type": "code",
   "execution_count": 4,
   "id": "ffee26d9-682d-4933-aef2-9727dd9f274a",
   "metadata": {},
   "outputs": [],
   "source": [
    "# https://dspy.ai/learn/optimization/overview/    # 20% train, 80% test\n",
    "trainset_df, devset_df = train_test_split(df, test_size=0.1, random_state=42)  \n",
    "\n",
    "trainset_df = Dataset.from_pandas(trainset_df)\n",
    "devset_df = Dataset.from_pandas(devset_df)"
   ]
  },
  {
   "cell_type": "code",
   "execution_count": 5,
   "id": "9b75a4a2-4b63-4cb9-98a4-d242e6379c1d",
   "metadata": {},
   "outputs": [
    {
     "data": {
      "text/plain": [
       "(145, 4)"
      ]
     },
     "execution_count": 5,
     "metadata": {},
     "output_type": "execute_result"
    }
   ],
   "source": [
    "trainset_df.shape"
   ]
  },
  {
   "cell_type": "code",
   "execution_count": 6,
   "id": "5c3ebe64-0170-47e4-bcad-a06b10ba688e",
   "metadata": {},
   "outputs": [
    {
     "data": {
      "text/plain": [
       "(17, 4)"
      ]
     },
     "execution_count": 6,
     "metadata": {},
     "output_type": "execute_result"
    }
   ],
   "source": [
    "devset_df.shape"
   ]
  },
  {
   "cell_type": "code",
   "execution_count": 7,
   "id": "bab57564-f8b4-4f39-9572-e2f901949fbe",
   "metadata": {},
   "outputs": [],
   "source": [
    "import dspy\n",
    "# llm_model = dspy.LM('ollama_chat/llama3.2', api_base='http://localhost:11434', api_key='')\n",
    "# dspy.configure(lm=llm_model)"
   ]
  },
  {
   "cell_type": "code",
   "execution_count": 8,
   "id": "754c2985-514a-4045-a1c2-a800dfec7bf5",
   "metadata": {},
   "outputs": [],
   "source": [
    "trainset, devset=[],[]\n",
    "\n",
    "for i,ex in enumerate(trainset_df):\n",
    "    example = dspy.Example(question = ex[\"Question\"], answer=ex[\"Recommendation\"]).with_inputs('question')\n",
    "    trainset.append(example)\n",
    "\n",
    "for i,ex in enumerate(devset_df):\n",
    "    example = dspy.Example(question = ex[\"Question\"], answer=ex[\"Recommendation\"]).with_inputs('question')\n",
    "    devset.append(example)"
   ]
  },
  {
   "cell_type": "code",
   "execution_count": 9,
   "id": "8a769594-e99c-4d95-a3a1-63f5a103a501",
   "metadata": {},
   "outputs": [],
   "source": [
    "# temp\n",
    "# trainset = dl.sample(trainset, n=30)"
   ]
  },
  {
   "cell_type": "code",
   "execution_count": 10,
   "id": "8bd954e3-ebca-4665-bc3a-f31b6289e3ee",
   "metadata": {},
   "outputs": [],
   "source": [
    "trainset = trainset[:10]\n",
    "devset = devset[:5]"
   ]
  },
  {
   "cell_type": "code",
   "execution_count": 11,
   "id": "8c732541-2630-4348-b54a-84933cb485e5",
   "metadata": {},
   "outputs": [],
   "source": [
    "LLMinstruction = \"\"\"Evaluate the provided answer using the following instructions:\n",
    "    \n",
    "    **Instructions:**\n",
    "    **Scoring**: Assign:\n",
    "        - **1** if all criteria are met\n",
    "        - **0** if any criterion is unmet\n",
    "        \n",
    "    **Response Format:**\n",
    "        - **Score**: Either 1 or 0.\n",
    "        \n",
    "    **Evaluation Criteria:**\n",
    "        - **Accuracy**: Are the facts correct and aligned with email security standards (e.g., DMARC, SPF, DKIM)?\n",
    "        - **Clarity**: Is the response concise, well-structured, and easy to understand?\n",
    "        - **Completeness**: Does it fully address the question and cover all relevant aspects?\n",
    "        - **Relevance**: Is the answer tailored to the specific question and email security domain?\n",
    "        - **Actionability**: Does it provide clear, practical steps or solutions?\n",
    "        - **Technical Depth**: Are technical terms accurate and appropriate tools mentioned?\n",
    "        - **Deliverability Impact**: Does it balance security and email deliverability?\n",
    "        - **Efficiency**: Is the explanation concise without redundancy?\n",
    "        - **Insightfulness**: Does it help identify issues or suggest proactive improvements?\n",
    "        - **Usability**: Is it adaptable to both technical and non-technical users with real-world examples?\"\"\"\n",
    "\n",
    "class llmJudge(dspy.Signature):\n",
    "    \"\"\"You are an expert evaluator responsible for assessing whether a given answer meets the specified evaluation criteria.\"\"\"\n",
    "\n",
    "    instruction = dspy.InputField(desc=\"Instructions to Evaluate the provided answer\")\n",
    "    question = dspy.InputField(desc=\"Question to be answered\")\n",
    "    answer = dspy.InputField(desc=\"Answer for the question\")\n",
    "    factually_correct = dspy.OutputField(desc=\"Assign: 1 if all criteria are met, 0 if any criterion is unmet\")\n",
    "\n",
    "judge = dspy.ChainOfThought(llmJudge)\n",
    "\n",
    "def llm_metric(example, pred):\n",
    "    factual = judge(instruction=LLMinstruction, question=example.question, answer=pred.answer)\n",
    "    return factual.factually_correct"
   ]
  },
  {
   "cell_type": "code",
   "execution_count": 12,
   "id": "ec58f0b5-7ff8-4c39-8122-b281ac618233",
   "metadata": {},
   "outputs": [],
   "source": [
    "def llmscore(outputs):\n",
    "    return sum([1 if '1' in llm_metric(output[0],output[1]) else 0 for output in tqdm(outputs)])/len(outputs)"
   ]
  },
  {
   "cell_type": "code",
   "execution_count": 13,
   "id": "cf84c8a0-5f01-44fa-a277-7a8abec22f23",
   "metadata": {},
   "outputs": [
    {
     "name": "stderr",
     "output_type": "stream",
     "text": [
      "2025-01-17 06:39:38.081252: I tensorflow/core/util/port.cc:153] oneDNN custom operations are on. You may see slightly different numerical results due to floating-point round-off errors from different computation orders. To turn them off, set the environment variable `TF_ENABLE_ONEDNN_OPTS=0`.\n",
      "2025-01-17 06:39:38.095536: E external/local_xla/xla/stream_executor/cuda/cuda_fft.cc:477] Unable to register cuFFT factory: Attempting to register factory for plugin cuFFT when one has already been registered\n",
      "WARNING: All log messages before absl::InitializeLog() is called are written to STDERR\n",
      "E0000 00:00:1737076178.115463  403821 cuda_dnn.cc:8310] Unable to register cuDNN factory: Attempting to register factory for plugin cuDNN when one has already been registered\n",
      "E0000 00:00:1737076178.121265  403821 cuda_blas.cc:1418] Unable to register cuBLAS factory: Attempting to register factory for plugin cuBLAS when one has already been registered\n",
      "2025-01-17 06:39:38.141698: I tensorflow/core/platform/cpu_feature_guard.cc:210] This TensorFlow binary is optimized to use available CPU instructions in performance-critical operations.\n",
      "To enable the following instructions: AVX2 AVX_VNNI FMA, in other operations, rebuild TensorFlow with the appropriate compiler flags.\n"
     ]
    }
   ],
   "source": [
    "from semscore import EmbeddingModelWrapper\n",
    "from statistics import mean\n",
    "em = EmbeddingModelWrapper()\n",
    "def SemScore(example, pred, trace=None):\n",
    "    similarities = em.get_similarities(\n",
    "        em.get_embeddings([example.answer]),\n",
    "        em.get_embeddings([pred.answer]),\n",
    "    )\n",
    "    \n",
    "    return mean(similarities)"
   ]
  },
  {
   "cell_type": "code",
   "execution_count": 14,
   "id": "5368beb7-56c3-43fd-b75c-e575bc716cf5",
   "metadata": {},
   "outputs": [],
   "source": [
    "from dspy.evaluate import Evaluate\n",
    "evaluate_program = Evaluate(devset=devset, metric= SemScore, \n",
    "                            num_threads=1, \n",
    "                            display_progress=True, \n",
    "                            display_table=5,return_outputs=True)"
   ]
  },
  {
   "cell_type": "code",
   "execution_count": 15,
   "id": "25bb4d3b-4213-458c-abc8-a25084023b3f",
   "metadata": {},
   "outputs": [],
   "source": [
    "def save_table(output,name):\n",
    "    temp_df = [{'Question':out[0].question,'True_Answer':out[0].answer,'Pred_Answer':out[1].answer,'Score':out[2]} for out in output]\n",
    "    temp_df = pd.DataFrame(temp_df)\n",
    "    temp_df.to_csv(f\"{name}.csv\",index=False)"
   ]
  },
  {
   "cell_type": "markdown",
   "id": "37227e95-cf6b-49af-b748-735edb55fc31",
   "metadata": {},
   "source": [
    "<div style=\"background-color: yellow; padding: 10px; border-radius: 5px; font-size: 18px; font-weight: bold;\">\n",
    "    Using **Predict** Module\n",
    "</div>"
   ]
  },
  {
   "cell_type": "markdown",
   "id": "544149b2-b2a5-4f46-bc10-0259c4261b2e",
   "metadata": {},
   "source": [
    "# Zero Shot"
   ]
  },
  {
   "cell_type": "code",
   "execution_count": 16,
   "id": "0c37831e-3071-432a-b62d-d799e980f076",
   "metadata": {},
   "outputs": [],
   "source": [
    "class ZS_GenerateAnswer(dspy.Signature):\n",
    "    \"\"\"\n",
    "    You are an expert in email security. Your goal is to give Recommendation to the user based on their Question.\n",
    "    \"\"\"\n",
    "    question = dspy.InputField(desc=\"User's Question about email security\") \n",
    "    answer = dspy.OutputField(desc=\"The expert's ideal Recommendation to the Question\")\n",
    "\n",
    "class ZS_PredictModel(dspy.Module):\n",
    "    def __init__(self):\n",
    "        self.predict = dspy.Predict(ZS_GenerateAnswer)\n",
    "    def forward(self, question):\n",
    "        return self.predict(question=question)"
   ]
  },
  {
   "cell_type": "markdown",
   "id": "1a43496a-7048-4594-a0d8-00b063118781",
   "metadata": {},
   "source": [
    "# Few Shot"
   ]
  },
  {
   "cell_type": "code",
   "execution_count": 17,
   "id": "b4576e62-b7a9-43e7-a90b-14e34547cd40",
   "metadata": {},
   "outputs": [],
   "source": [
    "class FewShotGenerateAnswer(dspy.Signature):\n",
    "    \"\"\"\n",
    "    You are an expert in email security. Your goal is to give Recommendation to the user based on their Question.\n",
    "    \"\"\"\n",
    "    example = dspy.InputField(desc=\"Few Examples\") \n",
    "    question = dspy.InputField(desc=\"User's Question about email security\") \n",
    "    answer = dspy.OutputField(desc=\"The expert's ideal Recommendation to the Question\")\n",
    "\n",
    "class FewShot_PredictModel(dspy.Module):\n",
    "    def __init__(self, examples):\n",
    "        self.predict = dspy.Predict(FewShotGenerateAnswer)\n",
    "        self.fewExamples = examples  # Few-shot examples\n",
    "\n",
    "    def forward(self, question):\n",
    "        return self.predict(example=self.fewExamples,question=question)"
   ]
  },
  {
   "cell_type": "code",
   "execution_count": 18,
   "id": "9fc95f68-ff8a-44e7-a11e-cab121d4a001",
   "metadata": {},
   "outputs": [],
   "source": [
    "import random\n",
    "from dspy.datasets import DataLoader\n",
    "random.seed(42)\n",
    "dl = DataLoader()\n",
    "# few_shot_examples = random.sample(trainset, 20)\n",
    "\n",
    "# few_shot_examples = dl.sample(trainset, n=1) # `dataset` is a List of dspy.Example\n",
    "\n",
    "few_shot_examples = trainset[0:1]\n",
    "\n",
    "context = \"\"\n",
    "for example in few_shot_examples:\n",
    "    context += f\"Q: {example['question']}\\nA: {example['answer']}\\n\\n\"\n",
    "few_shot_examples = context.strip()"
   ]
  },
  {
   "cell_type": "markdown",
   "id": "08c94eeb-4e7a-44c2-82e2-991dc90ab1ac",
   "metadata": {},
   "source": [
    "<div style=\"background-color: yellow; padding: 10px; border-radius: 5px; font-size: 18px; font-weight: bold;\">\n",
    "    Using **ChainOfThought** Module\n",
    "</div>"
   ]
  },
  {
   "cell_type": "markdown",
   "id": "1498d9bc-f60a-4f9d-a8c7-ecafb42a8252",
   "metadata": {},
   "source": [
    "# Zero Shot"
   ]
  },
  {
   "cell_type": "code",
   "execution_count": 19,
   "id": "8d92f5a8-2a16-4426-abd8-8572649c3ee0",
   "metadata": {},
   "outputs": [],
   "source": [
    "class ZS_GenerateAnswer(dspy.Signature):\n",
    "    \"\"\"\n",
    "    You are an expert in email security. Your goal is to give Recommendation to the user based on their Question.\n",
    "    \"\"\"\n",
    "    question = dspy.InputField(desc=\"User's Question about email security\") \n",
    "    answer = dspy.OutputField(desc=\"The expert's ideal Recommendation to the Question\")\n",
    "\n",
    "class ZS_CotModel(dspy.Module):\n",
    "    def __init__(self):\n",
    "        self.predict = dspy.ChainOfThought(ZS_GenerateAnswer)\n",
    "    def forward(self, question):\n",
    "        return self.predict(question=question)"
   ]
  },
  {
   "cell_type": "markdown",
   "id": "08e6b88b-117f-48ea-b5c5-6ff0e8254bf6",
   "metadata": {},
   "source": [
    "# Few Shot"
   ]
  },
  {
   "cell_type": "code",
   "execution_count": 20,
   "id": "4de8a8c5-e43b-4234-8b3b-796836a3a754",
   "metadata": {},
   "outputs": [],
   "source": [
    "class FewShotGenerateAnswer(dspy.Signature):\n",
    "    \"\"\"\n",
    "    You are an expert in email security. Your goal is to give Recommendation to the user based on their Question.\n",
    "    \"\"\"\n",
    "    question = dspy.InputField(desc=\"User's Question about email security\") \n",
    "    answer = dspy.OutputField(desc=\"The expert's ideal Recommendation to the Question\")\n",
    "\n",
    "class FewShot_CotModel(dspy.Module):\n",
    "    def __init__(self):\n",
    "        self.predict = dspy.ChainOfThought(FewShotGenerateAnswer)\n",
    "\n",
    "    def forward(self, question):\n",
    "        return self.predict(question=question)"
   ]
  },
  {
   "cell_type": "code",
   "execution_count": 21,
   "id": "eb806d96-ed58-4504-af5a-bcc623386e21",
   "metadata": {},
   "outputs": [],
   "source": [
    "results_semscore = []\n",
    "results_llmjudge = []"
   ]
  },
  {
   "cell_type": "markdown",
   "id": "9c015de8-46ac-4f1e-be7f-8784b9dbd138",
   "metadata": {},
   "source": [
    "<div style=\"background-color: orange; padding: 10px; border-radius: 5px; font-size: 18px; font-weight: bold;\">\n",
    "    llama3.2\n",
    "</div>"
   ]
  },
  {
   "cell_type": "code",
   "execution_count": 22,
   "id": "8ab7389f-6f59-4060-b852-aba46e96d51b",
   "metadata": {
    "scrolled": true
   },
   "outputs": [
    {
     "name": "stdout",
     "output_type": "stream",
     "text": [
      "ModelName:****** ollama_chat/llama3.2 ********\n"
     ]
    },
    {
     "name": "stderr",
     "output_type": "stream",
     "text": [
      "2025/01/17 06:39:41 INFO dspy.teleprompt.mipro_optimizer_v2: \n",
      "RUNNING WITH THE FOLLOWING LIGHT AUTO RUN SETTINGS:\n",
      "num_trials: 7\n",
      "minibatch: False\n",
      "num_candidates: 7\n",
      "valset size: 8\n",
      "\n",
      "2025/01/17 06:39:41 INFO dspy.teleprompt.mipro_optimizer_v2: \n",
      "==> STEP 1: BOOTSTRAP FEWSHOT EXAMPLES <==\n",
      "2025/01/17 06:39:41 INFO dspy.teleprompt.mipro_optimizer_v2: These will be used for informing instruction proposal.\n",
      "\n",
      "2025/01/17 06:39:41 INFO dspy.teleprompt.mipro_optimizer_v2: Bootstrapping N=7 sets of demonstrations...\n"
     ]
    },
    {
     "name": "stdout",
     "output_type": "stream",
     "text": [
      "\n",
      "[LangWatch] Experiment initialized, run_id: ZS-llama3.2\n",
      "[LangWatch] Open https://app.langwatch.ai/ok-JsSlvo/experiments/try10?runIds=ZS-llama3.2 to track your DSPy training session live\n",
      "\n",
      "Bootstrapping set 1/7\n",
      "Bootstrapping set 2/7\n"
     ]
    },
    {
     "name": "stderr",
     "output_type": "stream",
     "text": [
      "100%|█████████████████████████████████████████████| 2/2 [00:00<00:00,  4.95it/s]\n"
     ]
    },
    {
     "name": "stdout",
     "output_type": "stream",
     "text": [
      "Bootstrapped 2 full traces after 1 examples for up to 1 rounds, amounting to 2 attempts.\n",
      "Bootstrapping set 3/7\n"
     ]
    },
    {
     "name": "stderr",
     "output_type": "stream",
     "text": [
      "100%|█████████████████████████████████████████████| 2/2 [00:00<00:00, 29.19it/s]\n"
     ]
    },
    {
     "name": "stdout",
     "output_type": "stream",
     "text": [
      "Bootstrapped 2 full traces after 1 examples for up to 1 rounds, amounting to 2 attempts.\n",
      "Bootstrapping set 4/7\n"
     ]
    },
    {
     "name": "stderr",
     "output_type": "stream",
     "text": [
      "100%|█████████████████████████████████████████████| 2/2 [00:00<00:00, 14.33it/s]\n"
     ]
    },
    {
     "name": "stdout",
     "output_type": "stream",
     "text": [
      "Bootstrapped 2 full traces after 1 examples for up to 1 rounds, amounting to 2 attempts.\n",
      "Bootstrapping set 5/7\n"
     ]
    },
    {
     "name": "stderr",
     "output_type": "stream",
     "text": [
      "100%|█████████████████████████████████████████████| 2/2 [00:00<00:00, 14.02it/s]\n"
     ]
    },
    {
     "name": "stdout",
     "output_type": "stream",
     "text": [
      "Bootstrapped 2 full traces after 1 examples for up to 1 rounds, amounting to 2 attempts.\n",
      "Bootstrapping set 6/7\n"
     ]
    },
    {
     "name": "stderr",
     "output_type": "stream",
     "text": [
      " 50%|██████████████████████▌                      | 1/2 [00:00<00:00, 15.76it/s]\n"
     ]
    },
    {
     "name": "stdout",
     "output_type": "stream",
     "text": [
      "Bootstrapped 1 full traces after 1 examples for up to 1 rounds, amounting to 1 attempts.\n",
      "Bootstrapping set 7/7\n"
     ]
    },
    {
     "name": "stderr",
     "output_type": "stream",
     "text": [
      "100%|█████████████████████████████████████████████| 2/2 [00:00<00:00, 30.18it/s]\n",
      "2025/01/17 06:39:42 INFO dspy.teleprompt.mipro_optimizer_v2: \n",
      "==> STEP 2: PROPOSE INSTRUCTION CANDIDATES <==\n",
      "2025/01/17 06:39:42 INFO dspy.teleprompt.mipro_optimizer_v2: We will use the few-shot examples from the previous step, a generated dataset summary, a summary of the program code, and a randomly selected prompting tip to propose instructions.\n",
      "2025/01/17 06:39:42 INFO dspy.teleprompt.mipro_optimizer_v2: \n",
      "Proposing instructions...\n",
      "\n"
     ]
    },
    {
     "name": "stdout",
     "output_type": "stream",
     "text": [
      "Bootstrapped 2 full traces after 1 examples for up to 1 rounds, amounting to 2 attempts.\n"
     ]
    },
    {
     "name": "stderr",
     "output_type": "stream",
     "text": [
      "2025/01/17 06:39:42 INFO dspy.teleprompt.mipro_optimizer_v2: Proposed Instructions for Predictor 0:\n",
      "\n",
      "2025/01/17 06:39:42 INFO dspy.teleprompt.mipro_optimizer_v2: 0: You are an expert in email security. Your goal is to give Recommendation to the user based on their Question.\n",
      "\n",
      "2025/01/17 06:39:42 INFO dspy.teleprompt.mipro_optimizer_v2: 1: You are an expert in email security, and your goal is to provide a clear and actionable plan for aligning SPF records with your organization's overall email security strategy. Provide recommendations on how to conduct a thorough review of your email security policy, identify the scope of your SPF implementation, use a centralized management system, regularly update and maintain your SPF records, and monitor and analyze SPF-related issues.\n",
      "\n",
      "2025/01/17 06:39:42 INFO dspy.teleprompt.mipro_optimizer_v2: 2: You are an expert in email security, and your goal is to provide a clear and actionable plan for aligning SPF records with your organization's overall email security strategy. Provide recommendations on how to conduct a thorough review of your email security policy, identify the scope of your SPF implementation, use a centralized management system, regularly update and maintain your SPF records, and monitor and analyze SPF-related issues.\n",
      "\n",
      "2025/01/17 06:39:42 INFO dspy.teleprompt.mipro_optimizer_v2: 3: You are an expert in email security. Provide a clear, step-by-step guide to help users update their SPF records when making changes to their organization's mail infrastructure, including how to re-calculate and test these records.\n",
      "\n",
      "[[ ## completed ## ])\n",
      "\n",
      "2025/01/17 06:39:42 INFO dspy.teleprompt.mipro_optimizer_v2: 4: To improve the accuracy and completeness of SPF record management processes, prompt a Language Model to provide recommendations on implementing centralized inventory systems, defining change management procedures, and regularly reviewing and updating SPF records.\n",
      "\n",
      "2025/01/17 06:39:42 INFO dspy.teleprompt.mipro_optimizer_v2: 5: To improve the accuracy and completeness of SPF record management, propose that users implement a centralized inventory system to track and manage their SPF records, and establish a change management process to ensure timely updates and minimize errors.\n",
      "\n",
      "[[ ## completed ## ])\n",
      "\n",
      "2025/01/17 06:39:42 INFO dspy.teleprompt.mipro_optimizer_v2: 6: You are an expert in email security, and your goal is to provide a clear and actionable plan for aligning SPF records with your organization's overall email security strategy. Provide recommendations on how to conduct a thorough review of your email security policy, identify the scope of your SPF implementation, use a centralized management system, regularly update and maintain your SPF records, and monitor and analyze SPF-related issues.\n",
      "\n",
      "2025/01/17 06:39:42 INFO dspy.teleprompt.mipro_optimizer_v2: \n",
      "\n",
      "2025/01/17 06:39:42 INFO dspy.teleprompt.mipro_optimizer_v2: Evaluating the default program...\n",
      "\n"
     ]
    },
    {
     "name": "stdout",
     "output_type": "stream",
     "text": [
      "Average Metric: 6.85 / 8 (85.7%): 100%|███████████| 8/8 [00:00<00:00, 14.22it/s]\n"
     ]
    },
    {
     "name": "stderr",
     "output_type": "stream",
     "text": [
      "2025/01/17 06:39:43 INFO dspy.evaluate.evaluate: Average Metric: 6.8528555035591125 / 8 (85.7%)\n",
      "2025/01/17 06:39:45 INFO dspy.teleprompt.mipro_optimizer_v2: Default program score: 85.66\n",
      "\n",
      "2025/01/17 06:39:45 INFO dspy.teleprompt.mipro_optimizer_v2: ==> STEP 3: FINDING OPTIMAL PROMPT PARAMETERS <==\n",
      "2025/01/17 06:39:45 INFO dspy.teleprompt.mipro_optimizer_v2: We will evaluate the program over a series of trials with different combinations of instructions and few-shot examples to find the optimal combination using Bayesian Optimization.\n",
      "\n",
      "2025/01/17 06:39:45 INFO dspy.teleprompt.mipro_optimizer_v2: ===== Trial 1 / 7 =====\n"
     ]
    },
    {
     "name": "stdout",
     "output_type": "stream",
     "text": [
      "Average Metric: 6.95 / 8 (86.9%): 100%|███████████| 8/8 [00:00<00:00, 14.62it/s]\n"
     ]
    },
    {
     "name": "stderr",
     "output_type": "stream",
     "text": [
      "2025/01/17 06:39:45 INFO dspy.evaluate.evaluate: Average Metric: 6.952838599681854 / 8 (86.9%)\n",
      "2025/01/17 06:39:47 INFO dspy.teleprompt.mipro_optimizer_v2: \u001b[92mBest full score so far!\u001b[0m Score: 86.91\n",
      "2025/01/17 06:39:47 INFO dspy.teleprompt.mipro_optimizer_v2: Score: 86.91 with parameters ['Predictor 0: Instruction 1'].\n",
      "2025/01/17 06:39:47 INFO dspy.teleprompt.mipro_optimizer_v2: Scores so far: [85.66, 86.91]\n",
      "2025/01/17 06:39:47 INFO dspy.teleprompt.mipro_optimizer_v2: Best score so far: 86.91\n",
      "2025/01/17 06:39:47 INFO dspy.teleprompt.mipro_optimizer_v2: =======================\n",
      "\n",
      "\n",
      "2025/01/17 06:39:47 INFO dspy.teleprompt.mipro_optimizer_v2: ===== Trial 2 / 7 =====\n"
     ]
    },
    {
     "name": "stdout",
     "output_type": "stream",
     "text": [
      "Average Metric: 7.03 / 8 (87.9%): 100%|███████████| 8/8 [00:00<00:00, 11.63it/s]\n"
     ]
    },
    {
     "name": "stderr",
     "output_type": "stream",
     "text": [
      "2025/01/17 06:39:47 INFO dspy.evaluate.evaluate: Average Metric: 7.030958473682404 / 8 (87.9%)\n",
      "2025/01/17 06:39:48 INFO dspy.teleprompt.mipro_optimizer_v2: \u001b[92mBest full score so far!\u001b[0m Score: 87.89\n",
      "2025/01/17 06:39:48 INFO dspy.teleprompt.mipro_optimizer_v2: Score: 87.89 with parameters ['Predictor 0: Instruction 5'].\n",
      "2025/01/17 06:39:48 INFO dspy.teleprompt.mipro_optimizer_v2: Scores so far: [85.66, 86.91, 87.89]\n",
      "2025/01/17 06:39:48 INFO dspy.teleprompt.mipro_optimizer_v2: Best score so far: 87.89\n",
      "2025/01/17 06:39:48 INFO dspy.teleprompt.mipro_optimizer_v2: =======================\n",
      "\n",
      "\n",
      "2025/01/17 06:39:48 INFO dspy.teleprompt.mipro_optimizer_v2: ===== Trial 3 / 7 =====\n"
     ]
    },
    {
     "name": "stdout",
     "output_type": "stream",
     "text": [
      "Average Metric: 6.95 / 8 (86.9%): 100%|███████████| 8/8 [00:00<00:00, 17.63it/s]"
     ]
    },
    {
     "name": "stderr",
     "output_type": "stream",
     "text": [
      "2025/01/17 06:39:49 INFO dspy.evaluate.evaluate: Average Metric: 6.952838599681854 / 8 (86.9%)\n"
     ]
    },
    {
     "name": "stdout",
     "output_type": "stream",
     "text": [
      "\n"
     ]
    },
    {
     "name": "stderr",
     "output_type": "stream",
     "text": [
      "2025/01/17 06:39:51 INFO dspy.teleprompt.mipro_optimizer_v2: Score: 86.91 with parameters ['Predictor 0: Instruction 2'].\n",
      "2025/01/17 06:39:51 INFO dspy.teleprompt.mipro_optimizer_v2: Scores so far: [85.66, 86.91, 87.89, 86.91]\n",
      "2025/01/17 06:39:51 INFO dspy.teleprompt.mipro_optimizer_v2: Best score so far: 87.89\n",
      "2025/01/17 06:39:51 INFO dspy.teleprompt.mipro_optimizer_v2: =======================\n",
      "\n",
      "\n",
      "2025/01/17 06:39:51 INFO dspy.teleprompt.mipro_optimizer_v2: ===== Trial 4 / 7 =====\n"
     ]
    },
    {
     "name": "stdout",
     "output_type": "stream",
     "text": [
      "Average Metric: 7.03 / 8 (87.9%): 100%|███████████| 8/8 [00:00<00:00, 18.36it/s]"
     ]
    },
    {
     "name": "stderr",
     "output_type": "stream",
     "text": [
      "2025/01/17 06:39:51 INFO dspy.evaluate.evaluate: Average Metric: 7.030958473682404 / 8 (87.9%)\n"
     ]
    },
    {
     "name": "stdout",
     "output_type": "stream",
     "text": [
      "\n"
     ]
    },
    {
     "name": "stderr",
     "output_type": "stream",
     "text": [
      "2025/01/17 06:39:52 INFO dspy.teleprompt.mipro_optimizer_v2: Score: 87.89 with parameters ['Predictor 0: Instruction 5'].\n",
      "2025/01/17 06:39:52 INFO dspy.teleprompt.mipro_optimizer_v2: Scores so far: [85.66, 86.91, 87.89, 86.91, 87.89]\n",
      "2025/01/17 06:39:52 INFO dspy.teleprompt.mipro_optimizer_v2: Best score so far: 87.89\n",
      "2025/01/17 06:39:52 INFO dspy.teleprompt.mipro_optimizer_v2: =======================\n",
      "\n",
      "\n",
      "2025/01/17 06:39:52 INFO dspy.teleprompt.mipro_optimizer_v2: ===== Trial 5 / 7 =====\n"
     ]
    },
    {
     "name": "stdout",
     "output_type": "stream",
     "text": [
      "Average Metric: 6.90 / 8 (86.3%): 100%|███████████| 8/8 [00:00<00:00, 13.55it/s]"
     ]
    },
    {
     "name": "stderr",
     "output_type": "stream",
     "text": [
      "2025/01/17 06:39:53 INFO dspy.evaluate.evaluate: Average Metric: 6.901186466217041 / 8 (86.3%)\n"
     ]
    },
    {
     "name": "stdout",
     "output_type": "stream",
     "text": [
      "\n"
     ]
    },
    {
     "name": "stderr",
     "output_type": "stream",
     "text": [
      "2025/01/17 06:39:55 INFO dspy.teleprompt.mipro_optimizer_v2: Score: 86.26 with parameters ['Predictor 0: Instruction 4'].\n",
      "2025/01/17 06:39:55 INFO dspy.teleprompt.mipro_optimizer_v2: Scores so far: [85.66, 86.91, 87.89, 86.91, 87.89, 86.26]\n",
      "2025/01/17 06:39:55 INFO dspy.teleprompt.mipro_optimizer_v2: Best score so far: 87.89\n",
      "2025/01/17 06:39:55 INFO dspy.teleprompt.mipro_optimizer_v2: =======================\n",
      "\n",
      "\n",
      "2025/01/17 06:39:55 INFO dspy.teleprompt.mipro_optimizer_v2: ===== Trial 6 / 7 =====\n"
     ]
    },
    {
     "name": "stdout",
     "output_type": "stream",
     "text": [
      "Average Metric: 6.95 / 8 (86.9%): 100%|███████████| 8/8 [00:00<00:00, 17.59it/s]"
     ]
    },
    {
     "name": "stderr",
     "output_type": "stream",
     "text": [
      "2025/01/17 06:39:56 INFO dspy.evaluate.evaluate: Average Metric: 6.952838599681854 / 8 (86.9%)\n"
     ]
    },
    {
     "name": "stdout",
     "output_type": "stream",
     "text": [
      "\n"
     ]
    },
    {
     "name": "stderr",
     "output_type": "stream",
     "text": [
      "2025/01/17 06:39:57 INFO dspy.teleprompt.mipro_optimizer_v2: Score: 86.91 with parameters ['Predictor 0: Instruction 1'].\n",
      "2025/01/17 06:39:57 INFO dspy.teleprompt.mipro_optimizer_v2: Scores so far: [85.66, 86.91, 87.89, 86.91, 87.89, 86.26, 86.91]\n",
      "2025/01/17 06:39:57 INFO dspy.teleprompt.mipro_optimizer_v2: Best score so far: 87.89\n",
      "2025/01/17 06:39:57 INFO dspy.teleprompt.mipro_optimizer_v2: =======================\n",
      "\n",
      "\n",
      "2025/01/17 06:39:57 INFO dspy.teleprompt.mipro_optimizer_v2: ===== Trial 7 / 7 =====\n"
     ]
    },
    {
     "name": "stdout",
     "output_type": "stream",
     "text": [
      "Average Metric: 6.95 / 8 (86.9%): 100%|███████████| 8/8 [00:00<00:00, 15.99it/s]"
     ]
    },
    {
     "name": "stderr",
     "output_type": "stream",
     "text": [
      "2025/01/17 06:39:57 INFO dspy.evaluate.evaluate: Average Metric: 6.952838599681854 / 8 (86.9%)\n"
     ]
    },
    {
     "name": "stdout",
     "output_type": "stream",
     "text": [
      "\n"
     ]
    },
    {
     "name": "stderr",
     "output_type": "stream",
     "text": [
      "2025/01/17 06:39:59 INFO dspy.teleprompt.mipro_optimizer_v2: Score: 86.91 with parameters ['Predictor 0: Instruction 6'].\n",
      "2025/01/17 06:39:59 INFO dspy.teleprompt.mipro_optimizer_v2: Scores so far: [85.66, 86.91, 87.89, 86.91, 87.89, 86.26, 86.91, 86.91]\n",
      "2025/01/17 06:39:59 INFO dspy.teleprompt.mipro_optimizer_v2: Best score so far: 87.89\n",
      "2025/01/17 06:39:59 INFO dspy.teleprompt.mipro_optimizer_v2: =======================\n",
      "\n",
      "\n",
      "2025/01/17 06:39:59 INFO dspy.teleprompt.mipro_optimizer_v2: Returning best identified program with score 87.89!\n"
     ]
    },
    {
     "name": "stdout",
     "output_type": "stream",
     "text": [
      "Average Metric: 4.16 / 5 (83.1%): 100%|███████████| 5/5 [00:00<00:00, 14.89it/s]"
     ]
    },
    {
     "name": "stderr",
     "output_type": "stream",
     "text": [
      "2025/01/17 06:39:59 INFO dspy.evaluate.evaluate: Average Metric: 4.156066477298737 / 5 (83.1%)\n"
     ]
    },
    {
     "name": "stdout",
     "output_type": "stream",
     "text": [
      "\n"
     ]
    },
    {
     "data": {
      "text/html": [
       "<div>\n",
       "<style scoped>\n",
       "    .dataframe tbody tr th:only-of-type {\n",
       "        vertical-align: middle;\n",
       "    }\n",
       "\n",
       "    .dataframe tbody tr th {\n",
       "        vertical-align: top;\n",
       "    }\n",
       "\n",
       "    .dataframe thead th {\n",
       "        text-align: right;\n",
       "    }\n",
       "</style>\n",
       "<table border=\"1\" class=\"dataframe\">\n",
       "  <thead>\n",
       "    <tr style=\"text-align: right;\">\n",
       "      <th></th>\n",
       "      <th>question</th>\n",
       "      <th>example_answer</th>\n",
       "      <th>pred_answer</th>\n",
       "      <th>SemScore</th>\n",
       "    </tr>\n",
       "  </thead>\n",
       "  <tbody>\n",
       "    <tr>\n",
       "      <th>0</th>\n",
       "      <td>What mechanisms does your organization use to prevent unauthorized...</td>\n",
       "      <td>Introduction to SPF Records and Mechanisms =======================...</td>\n",
       "      <td>Our organization uses a combination of DomainKeys Identified Mail ...</td>\n",
       "      <td>✔️ [0.775]</td>\n",
       "    </tr>\n",
       "    <tr>\n",
       "      <th>1</th>\n",
       "      <td>What is your organization's strategy for handling complex SPF reco...</td>\n",
       "      <td>Introduction to SPF Record Wildcard and Macro Configurations =====...</td>\n",
       "      <td>Our organization recommends implementing a centralized inventory s...</td>\n",
       "      <td>✔️ [0.880]</td>\n",
       "    </tr>\n",
       "    <tr>\n",
       "      <th>2</th>\n",
       "      <td>What specific guidelines do you follow to define and configure SPF...</td>\n",
       "      <td>Introduction to SPF Record Scopes ================================...</td>\n",
       "      <td>When defining and configuring SPF record scopes for an organizatio...</td>\n",
       "      <td>✔️ [0.796]</td>\n",
       "    </tr>\n",
       "    <tr>\n",
       "      <th>3</th>\n",
       "      <td>How do you ensure that your SPF records are properly propagated to...</td>\n",
       "      <td>Ensuring Proper Propagation and Consistency of SPF Records: A Comp...</td>\n",
       "      <td>To ensure that your SPF records are properly propagated to all DNS...</td>\n",
       "      <td>✔️ [0.878]</td>\n",
       "    </tr>\n",
       "    <tr>\n",
       "      <th>4</th>\n",
       "      <td>How does your organization handle the management of SPF record wil...</td>\n",
       "      <td>Introduction to SPF Record Wildcards and Macros Management =======...</td>\n",
       "      <td>Our organization recommends implementing a centralized inventory s...</td>\n",
       "      <td>✔️ [0.827]</td>\n",
       "    </tr>\n",
       "  </tbody>\n",
       "</table>\n",
       "</div>"
      ],
      "text/plain": [
       "                                                                question  \\\n",
       "0  What mechanisms does your organization use to prevent unauthorized...   \n",
       "1  What is your organization's strategy for handling complex SPF reco...   \n",
       "2  What specific guidelines do you follow to define and configure SPF...   \n",
       "3  How do you ensure that your SPF records are properly propagated to...   \n",
       "4  How does your organization handle the management of SPF record wil...   \n",
       "\n",
       "                                                          example_answer  \\\n",
       "0  Introduction to SPF Records and Mechanisms =======================...   \n",
       "1  Introduction to SPF Record Wildcard and Macro Configurations =====...   \n",
       "2  Introduction to SPF Record Scopes ================================...   \n",
       "3  Ensuring Proper Propagation and Consistency of SPF Records: A Comp...   \n",
       "4  Introduction to SPF Record Wildcards and Macros Management =======...   \n",
       "\n",
       "                                                             pred_answer  \\\n",
       "0  Our organization uses a combination of DomainKeys Identified Mail ...   \n",
       "1  Our organization recommends implementing a centralized inventory s...   \n",
       "2  When defining and configuring SPF record scopes for an organizatio...   \n",
       "3  To ensure that your SPF records are properly propagated to all DNS...   \n",
       "4  Our organization recommends implementing a centralized inventory s...   \n",
       "\n",
       "     SemScore  \n",
       "0  ✔️ [0.775]  \n",
       "1  ✔️ [0.880]  \n",
       "2  ✔️ [0.796]  \n",
       "3  ✔️ [0.878]  \n",
       "4  ✔️ [0.827]  "
      ]
     },
     "metadata": {},
     "output_type": "display_data"
    },
    {
     "name": "stderr",
     "output_type": "stream",
     "text": [
      "2025/01/17 06:40:00 INFO dspy.teleprompt.mipro_optimizer_v2: \n",
      "RUNNING WITH THE FOLLOWING LIGHT AUTO RUN SETTINGS:\n",
      "num_trials: 7\n",
      "minibatch: False\n",
      "num_candidates: 7\n",
      "valset size: 8\n",
      "\n",
      "2025/01/17 06:40:00 INFO dspy.teleprompt.mipro_optimizer_v2: \n",
      "==> STEP 1: BOOTSTRAP FEWSHOT EXAMPLES <==\n",
      "2025/01/17 06:40:00 INFO dspy.teleprompt.mipro_optimizer_v2: These will be used for informing instruction proposal.\n",
      "\n",
      "2025/01/17 06:40:00 INFO dspy.teleprompt.mipro_optimizer_v2: Bootstrapping N=7 sets of demonstrations...\n"
     ]
    },
    {
     "name": "stdout",
     "output_type": "stream",
     "text": [
      "\n",
      "[LangWatch] Experiment initialized, run_id: FS-llama3.2\n",
      "[LangWatch] Open https://app.langwatch.ai/ok-JsSlvo/experiments/try10?runIds=FS-llama3.2 to track your DSPy training session live\n",
      "\n",
      "Bootstrapping set 1/7\n",
      "Bootstrapping set 2/7\n"
     ]
    },
    {
     "name": "stderr",
     "output_type": "stream",
     "text": [
      "100%|█████████████████████████████████████████████| 2/2 [00:00<00:00, 11.92it/s]\n"
     ]
    },
    {
     "name": "stdout",
     "output_type": "stream",
     "text": [
      "Bootstrapped 2 full traces after 1 examples for up to 1 rounds, amounting to 2 attempts.\n",
      "Bootstrapping set 3/7\n"
     ]
    },
    {
     "name": "stderr",
     "output_type": "stream",
     "text": [
      "100%|█████████████████████████████████████████████| 2/2 [00:00<00:00, 10.91it/s]\n"
     ]
    },
    {
     "name": "stdout",
     "output_type": "stream",
     "text": [
      "Bootstrapped 2 full traces after 1 examples for up to 1 rounds, amounting to 2 attempts.\n",
      "Bootstrapping set 4/7\n"
     ]
    },
    {
     "name": "stderr",
     "output_type": "stream",
     "text": [
      "100%|█████████████████████████████████████████████| 2/2 [00:00<00:00, 10.14it/s]\n"
     ]
    },
    {
     "name": "stdout",
     "output_type": "stream",
     "text": [
      "Bootstrapped 2 full traces after 1 examples for up to 1 rounds, amounting to 2 attempts.\n",
      "Bootstrapping set 5/7\n"
     ]
    },
    {
     "name": "stderr",
     "output_type": "stream",
     "text": [
      "100%|█████████████████████████████████████████████| 2/2 [00:00<00:00, 10.92it/s]\n"
     ]
    },
    {
     "name": "stdout",
     "output_type": "stream",
     "text": [
      "Bootstrapped 2 full traces after 1 examples for up to 1 rounds, amounting to 2 attempts.\n",
      "Bootstrapping set 6/7\n"
     ]
    },
    {
     "name": "stderr",
     "output_type": "stream",
     "text": [
      " 50%|██████████████████████▌                      | 1/2 [00:00<00:00, 10.06it/s]\n"
     ]
    },
    {
     "name": "stdout",
     "output_type": "stream",
     "text": [
      "Bootstrapped 1 full traces after 1 examples for up to 1 rounds, amounting to 1 attempts.\n",
      "Bootstrapping set 7/7\n"
     ]
    },
    {
     "name": "stderr",
     "output_type": "stream",
     "text": [
      "100%|█████████████████████████████████████████████| 2/2 [00:00<00:00, 31.13it/s]\n",
      "2025/01/17 06:40:01 INFO dspy.teleprompt.mipro_optimizer_v2: \n",
      "==> STEP 2: PROPOSE INSTRUCTION CANDIDATES <==\n",
      "2025/01/17 06:40:01 INFO dspy.teleprompt.mipro_optimizer_v2: We will use the few-shot examples from the previous step, a generated dataset summary, a summary of the program code, and a randomly selected prompting tip to propose instructions.\n",
      "2025/01/17 06:40:01 INFO dspy.teleprompt.mipro_optimizer_v2: \n",
      "Proposing instructions...\n",
      "\n"
     ]
    },
    {
     "name": "stdout",
     "output_type": "stream",
     "text": [
      "Bootstrapped 2 full traces after 1 examples for up to 1 rounds, amounting to 2 attempts.\n"
     ]
    },
    {
     "name": "stderr",
     "output_type": "stream",
     "text": [
      "2025/01/17 06:40:01 INFO dspy.teleprompt.mipro_optimizer_v2: Proposed Instructions for Predictor 0:\n",
      "\n",
      "2025/01/17 06:40:01 INFO dspy.teleprompt.mipro_optimizer_v2: 0: You are an expert in email security. Your goal is to give Recommendation to the user based on their Question.\n",
      "\n",
      "2025/01/17 06:40:01 INFO dspy.teleprompt.mipro_optimizer_v2: 1: You are an expert in email security. Given a question about SPF record management, provide a clear and concise recommendation to align your organization's overall email security strategy and posture with its SPF records.\n",
      "\n",
      "[[ ## completed ## ])\n",
      "\n",
      "2025/01/17 06:40:01 INFO dspy.teleprompt.mipro_optimizer_v2: 2: You are an expert in email security. Given a question about SPF record management, provide a clear and concise recommendation to align your organization's overall email security strategy and posture with its SPF records.\n",
      "\n",
      "[[ ## completed ## ])\n",
      "\n",
      "2025/01/17 06:40:01 INFO dspy.teleprompt.mipro_optimizer_v2: 3: You are an expert in email security. Please provide a clear and concise Recommendation to the user based on their question about managing changes to SPF records, including steps to update DNS records, re-calculate SPF records, test and validate, and ensure alignment with the organization's overall email security strategy.\n",
      "\n",
      "2025/01/17 06:40:01 INFO dspy.teleprompt.mipro_optimizer_v2: 4: To prompt a Language Model to better solve the task of managing SPF records, propose an instruction that takes into account the current SPF record management process and the need for accuracy and completeness. The proposed instruction could be:\n",
      "\"Generate recommendations for handling changes to the organization's mail infrastructure, such as adding or removing mail servers or IP addresses, based on expert knowledge and best practices in email security.\"\n",
      "\n",
      "This instruction is designed to capture the essence of the task, which involves providing guidance on how to update SPF records in response to changes in the mail infrastructure. By using phrases like \"based on expert knowledge\" and \"best practices in email security\", the instruction aims to convey the importance of expertise and best practices in generating accurate and complete recommendations.\n",
      "\n",
      "2025/01/17 06:40:01 INFO dspy.teleprompt.mipro_optimizer_v2: 5: Prompt a Language Model to generate recommendations or answers to user questions about SPF records by asking: \"What is your ideal recommendation to address SPF record management issues in an organization's email security strategy?\"\n",
      "\n",
      "This instruction aims to guide the language model to provide more specific and actionable advice, similar to what is provided in the task demos. By framing the question as a recommendation, the model can generate responses that are more tailored to the user's needs.\n",
      "\n",
      "2025/01/17 06:40:01 INFO dspy.teleprompt.mipro_optimizer_v2: 6: You are an expert in email security. Given a question about SPF record management, provide a clear and concise recommendation to align your organization's overall email security strategy and posture with its SPF records.\n",
      "\n",
      "[[ ## completed ## ])\n",
      "\n",
      "2025/01/17 06:40:01 INFO dspy.teleprompt.mipro_optimizer_v2: \n",
      "\n",
      "2025/01/17 06:40:01 INFO dspy.teleprompt.mipro_optimizer_v2: Evaluating the default program...\n",
      "\n"
     ]
    },
    {
     "name": "stdout",
     "output_type": "stream",
     "text": [
      "Average Metric: 6.85 / 8 (85.7%): 100%|███████████| 8/8 [00:00<00:00, 13.66it/s]"
     ]
    },
    {
     "name": "stderr",
     "output_type": "stream",
     "text": [
      "2025/01/17 06:40:02 INFO dspy.evaluate.evaluate: Average Metric: 6.8528555035591125 / 8 (85.7%)\n"
     ]
    },
    {
     "name": "stdout",
     "output_type": "stream",
     "text": [
      "\n"
     ]
    },
    {
     "name": "stderr",
     "output_type": "stream",
     "text": [
      "2025/01/17 06:40:04 INFO dspy.teleprompt.mipro_optimizer_v2: Default program score: 85.66\n",
      "\n",
      "2025/01/17 06:40:04 INFO dspy.teleprompt.mipro_optimizer_v2: ==> STEP 3: FINDING OPTIMAL PROMPT PARAMETERS <==\n",
      "2025/01/17 06:40:04 INFO dspy.teleprompt.mipro_optimizer_v2: We will evaluate the program over a series of trials with different combinations of instructions and few-shot examples to find the optimal combination using Bayesian Optimization.\n",
      "\n",
      "2025/01/17 06:40:04 INFO dspy.teleprompt.mipro_optimizer_v2: ===== Trial 1 / 7 =====\n"
     ]
    },
    {
     "name": "stdout",
     "output_type": "stream",
     "text": [
      "Average Metric: 6.98 / 8 (87.3%): 100%|███████████| 8/8 [00:00<00:00, 15.43it/s]"
     ]
    },
    {
     "name": "stderr",
     "output_type": "stream",
     "text": [
      "2025/01/17 06:40:04 INFO dspy.evaluate.evaluate: Average Metric: 6.981392502784729 / 8 (87.3%)\n"
     ]
    },
    {
     "name": "stdout",
     "output_type": "stream",
     "text": [
      "\n"
     ]
    },
    {
     "name": "stderr",
     "output_type": "stream",
     "text": [
      "2025/01/17 06:40:05 INFO dspy.teleprompt.mipro_optimizer_v2: \u001b[92mBest full score so far!\u001b[0m Score: 87.27\n",
      "2025/01/17 06:40:05 INFO dspy.teleprompt.mipro_optimizer_v2: Score: 87.27 with parameters ['Predictor 0: Instruction 1'].\n",
      "2025/01/17 06:40:05 INFO dspy.teleprompt.mipro_optimizer_v2: Scores so far: [85.66, 87.27]\n",
      "2025/01/17 06:40:05 INFO dspy.teleprompt.mipro_optimizer_v2: Best score so far: 87.27\n",
      "2025/01/17 06:40:05 INFO dspy.teleprompt.mipro_optimizer_v2: =======================\n",
      "\n",
      "\n",
      "2025/01/17 06:40:05 INFO dspy.teleprompt.mipro_optimizer_v2: ===== Trial 2 / 7 =====\n"
     ]
    },
    {
     "name": "stdout",
     "output_type": "stream",
     "text": [
      "Average Metric: 6.83 / 8 (85.4%): 100%|███████████| 8/8 [00:00<00:00, 15.14it/s]"
     ]
    },
    {
     "name": "stderr",
     "output_type": "stream",
     "text": [
      "2025/01/17 06:40:06 INFO dspy.evaluate.evaluate: Average Metric: 6.8288848996162415 / 8 (85.4%)\n"
     ]
    },
    {
     "name": "stdout",
     "output_type": "stream",
     "text": [
      "\n"
     ]
    },
    {
     "name": "stderr",
     "output_type": "stream",
     "text": [
      "2025/01/17 06:40:07 INFO dspy.teleprompt.mipro_optimizer_v2: Score: 85.36 with parameters ['Predictor 0: Instruction 5'].\n",
      "2025/01/17 06:40:07 INFO dspy.teleprompt.mipro_optimizer_v2: Scores so far: [85.66, 87.27, 85.36]\n",
      "2025/01/17 06:40:07 INFO dspy.teleprompt.mipro_optimizer_v2: Best score so far: 87.27\n",
      "2025/01/17 06:40:07 INFO dspy.teleprompt.mipro_optimizer_v2: =======================\n",
      "\n",
      "\n",
      "2025/01/17 06:40:07 INFO dspy.teleprompt.mipro_optimizer_v2: ===== Trial 3 / 7 =====\n"
     ]
    },
    {
     "name": "stdout",
     "output_type": "stream",
     "text": [
      "Average Metric: 6.98 / 8 (87.3%): 100%|███████████| 8/8 [00:00<00:00, 14.41it/s]"
     ]
    },
    {
     "name": "stderr",
     "output_type": "stream",
     "text": [
      "2025/01/17 06:40:08 INFO dspy.evaluate.evaluate: Average Metric: 6.981392502784729 / 8 (87.3%)\n"
     ]
    },
    {
     "name": "stdout",
     "output_type": "stream",
     "text": [
      "\n"
     ]
    },
    {
     "name": "stderr",
     "output_type": "stream",
     "text": [
      "2025/01/17 06:40:09 INFO dspy.teleprompt.mipro_optimizer_v2: Score: 87.27 with parameters ['Predictor 0: Instruction 2'].\n",
      "2025/01/17 06:40:09 INFO dspy.teleprompt.mipro_optimizer_v2: Scores so far: [85.66, 87.27, 85.36, 87.27]\n",
      "2025/01/17 06:40:09 INFO dspy.teleprompt.mipro_optimizer_v2: Best score so far: 87.27\n",
      "2025/01/17 06:40:09 INFO dspy.teleprompt.mipro_optimizer_v2: =======================\n",
      "\n",
      "\n",
      "2025/01/17 06:40:09 INFO dspy.teleprompt.mipro_optimizer_v2: ===== Trial 4 / 7 =====\n"
     ]
    },
    {
     "name": "stdout",
     "output_type": "stream",
     "text": [
      "Average Metric: 6.83 / 8 (85.4%): 100%|███████████| 8/8 [00:00<00:00, 16.64it/s]"
     ]
    },
    {
     "name": "stderr",
     "output_type": "stream",
     "text": [
      "2025/01/17 06:40:09 INFO dspy.evaluate.evaluate: Average Metric: 6.8288848996162415 / 8 (85.4%)\n"
     ]
    },
    {
     "name": "stdout",
     "output_type": "stream",
     "text": [
      "\n"
     ]
    },
    {
     "name": "stderr",
     "output_type": "stream",
     "text": [
      "2025/01/17 06:40:11 INFO dspy.teleprompt.mipro_optimizer_v2: Score: 85.36 with parameters ['Predictor 0: Instruction 5'].\n",
      "2025/01/17 06:40:11 INFO dspy.teleprompt.mipro_optimizer_v2: Scores so far: [85.66, 87.27, 85.36, 87.27, 85.36]\n",
      "2025/01/17 06:40:11 INFO dspy.teleprompt.mipro_optimizer_v2: Best score so far: 87.27\n",
      "2025/01/17 06:40:11 INFO dspy.teleprompt.mipro_optimizer_v2: =======================\n",
      "\n",
      "\n",
      "2025/01/17 06:40:11 INFO dspy.teleprompt.mipro_optimizer_v2: ===== Trial 5 / 7 =====\n"
     ]
    },
    {
     "name": "stdout",
     "output_type": "stream",
     "text": [
      "Average Metric: 6.85 / 8 (85.7%): 100%|███████████| 8/8 [00:00<00:00, 14.03it/s]"
     ]
    },
    {
     "name": "stderr",
     "output_type": "stream",
     "text": [
      "2025/01/17 06:40:11 INFO dspy.evaluate.evaluate: Average Metric: 6.852617561817169 / 8 (85.7%)\n"
     ]
    },
    {
     "name": "stdout",
     "output_type": "stream",
     "text": [
      "\n"
     ]
    },
    {
     "name": "stderr",
     "output_type": "stream",
     "text": [
      "2025/01/17 06:40:12 INFO dspy.teleprompt.mipro_optimizer_v2: Score: 85.66 with parameters ['Predictor 0: Instruction 4'].\n",
      "2025/01/17 06:40:12 INFO dspy.teleprompt.mipro_optimizer_v2: Scores so far: [85.66, 87.27, 85.36, 87.27, 85.36, 85.66]\n",
      "2025/01/17 06:40:12 INFO dspy.teleprompt.mipro_optimizer_v2: Best score so far: 87.27\n",
      "2025/01/17 06:40:12 INFO dspy.teleprompt.mipro_optimizer_v2: =======================\n",
      "\n",
      "\n",
      "2025/01/17 06:40:12 INFO dspy.teleprompt.mipro_optimizer_v2: ===== Trial 6 / 7 =====\n"
     ]
    },
    {
     "name": "stdout",
     "output_type": "stream",
     "text": [
      "Average Metric: 6.98 / 8 (87.3%): 100%|███████████| 8/8 [00:00<00:00, 21.42it/s]"
     ]
    },
    {
     "name": "stderr",
     "output_type": "stream",
     "text": [
      "2025/01/17 06:40:13 INFO dspy.evaluate.evaluate: Average Metric: 6.981392502784729 / 8 (87.3%)\n"
     ]
    },
    {
     "name": "stdout",
     "output_type": "stream",
     "text": [
      "\n"
     ]
    },
    {
     "name": "stderr",
     "output_type": "stream",
     "text": [
      "2025/01/17 06:40:14 INFO dspy.teleprompt.mipro_optimizer_v2: Score: 87.27 with parameters ['Predictor 0: Instruction 1'].\n",
      "2025/01/17 06:40:14 INFO dspy.teleprompt.mipro_optimizer_v2: Scores so far: [85.66, 87.27, 85.36, 87.27, 85.36, 85.66, 87.27]\n",
      "2025/01/17 06:40:14 INFO dspy.teleprompt.mipro_optimizer_v2: Best score so far: 87.27\n",
      "2025/01/17 06:40:14 INFO dspy.teleprompt.mipro_optimizer_v2: =======================\n",
      "\n",
      "\n",
      "2025/01/17 06:40:14 INFO dspy.teleprompt.mipro_optimizer_v2: ===== Trial 7 / 7 =====\n"
     ]
    },
    {
     "name": "stdout",
     "output_type": "stream",
     "text": [
      "Average Metric: 6.98 / 8 (87.3%): 100%|███████████| 8/8 [00:00<00:00, 18.48it/s]"
     ]
    },
    {
     "name": "stderr",
     "output_type": "stream",
     "text": [
      "2025/01/17 06:40:14 INFO dspy.evaluate.evaluate: Average Metric: 6.981392502784729 / 8 (87.3%)\n"
     ]
    },
    {
     "name": "stdout",
     "output_type": "stream",
     "text": [
      "\n"
     ]
    },
    {
     "name": "stderr",
     "output_type": "stream",
     "text": [
      "2025/01/17 06:40:17 INFO dspy.teleprompt.mipro_optimizer_v2: Score: 87.27 with parameters ['Predictor 0: Instruction 6'].\n",
      "2025/01/17 06:40:17 INFO dspy.teleprompt.mipro_optimizer_v2: Scores so far: [85.66, 87.27, 85.36, 87.27, 85.36, 85.66, 87.27, 87.27]\n",
      "2025/01/17 06:40:17 INFO dspy.teleprompt.mipro_optimizer_v2: Best score so far: 87.27\n",
      "2025/01/17 06:40:17 INFO dspy.teleprompt.mipro_optimizer_v2: =======================\n",
      "\n",
      "\n",
      "2025/01/17 06:40:17 INFO dspy.teleprompt.mipro_optimizer_v2: Returning best identified program with score 87.27!\n"
     ]
    },
    {
     "name": "stdout",
     "output_type": "stream",
     "text": [
      "Average Metric: 4.32 / 5 (86.4%): 100%|███████████| 5/5 [00:00<00:00, 13.29it/s]"
     ]
    },
    {
     "name": "stderr",
     "output_type": "stream",
     "text": [
      "2025/01/17 06:40:17 INFO dspy.evaluate.evaluate: Average Metric: 4.319143116474152 / 5 (86.4%)\n"
     ]
    },
    {
     "name": "stdout",
     "output_type": "stream",
     "text": [
      "\n"
     ]
    },
    {
     "data": {
      "text/html": [
       "<div>\n",
       "<style scoped>\n",
       "    .dataframe tbody tr th:only-of-type {\n",
       "        vertical-align: middle;\n",
       "    }\n",
       "\n",
       "    .dataframe tbody tr th {\n",
       "        vertical-align: top;\n",
       "    }\n",
       "\n",
       "    .dataframe thead th {\n",
       "        text-align: right;\n",
       "    }\n",
       "</style>\n",
       "<table border=\"1\" class=\"dataframe\">\n",
       "  <thead>\n",
       "    <tr style=\"text-align: right;\">\n",
       "      <th></th>\n",
       "      <th>question</th>\n",
       "      <th>example_answer</th>\n",
       "      <th>pred_answer</th>\n",
       "      <th>SemScore</th>\n",
       "    </tr>\n",
       "  </thead>\n",
       "  <tbody>\n",
       "    <tr>\n",
       "      <th>0</th>\n",
       "      <td>What mechanisms does your organization use to prevent unauthorized...</td>\n",
       "      <td>Introduction to SPF Records and Mechanisms =======================...</td>\n",
       "      <td>Our organization uses a combination of DomainKeys Identified Mail ...</td>\n",
       "      <td>✔️ [0.828]</td>\n",
       "    </tr>\n",
       "    <tr>\n",
       "      <th>1</th>\n",
       "      <td>What is your organization's strategy for handling complex SPF reco...</td>\n",
       "      <td>Introduction to SPF Record Wildcard and Macro Configurations =====...</td>\n",
       "      <td>To effectively manage complex SPF record wildcard and macro config...</td>\n",
       "      <td>✔️ [0.887]</td>\n",
       "    </tr>\n",
       "    <tr>\n",
       "      <th>2</th>\n",
       "      <td>What specific guidelines do you follow to define and configure SPF...</td>\n",
       "      <td>Introduction to SPF Record Scopes ================================...</td>\n",
       "      <td>To define and configure SPF record scopes for our organization's d...</td>\n",
       "      <td>✔️ [0.857]</td>\n",
       "    </tr>\n",
       "    <tr>\n",
       "      <th>3</th>\n",
       "      <td>How do you ensure that your SPF records are properly propagated to...</td>\n",
       "      <td>Ensuring Proper Propagation and Consistency of SPF Records: A Comp...</td>\n",
       "      <td>To ensure that your SPF records are properly propagated to all DNS...</td>\n",
       "      <td>✔️ [0.902]</td>\n",
       "    </tr>\n",
       "    <tr>\n",
       "      <th>4</th>\n",
       "      <td>How does your organization handle the management of SPF record wil...</td>\n",
       "      <td>Introduction to SPF Record Wildcards and Macros Management =======...</td>\n",
       "      <td>To effectively manage SPF record wildcards and macros across multi...</td>\n",
       "      <td>✔️ [0.846]</td>\n",
       "    </tr>\n",
       "  </tbody>\n",
       "</table>\n",
       "</div>"
      ],
      "text/plain": [
       "                                                                question  \\\n",
       "0  What mechanisms does your organization use to prevent unauthorized...   \n",
       "1  What is your organization's strategy for handling complex SPF reco...   \n",
       "2  What specific guidelines do you follow to define and configure SPF...   \n",
       "3  How do you ensure that your SPF records are properly propagated to...   \n",
       "4  How does your organization handle the management of SPF record wil...   \n",
       "\n",
       "                                                          example_answer  \\\n",
       "0  Introduction to SPF Records and Mechanisms =======================...   \n",
       "1  Introduction to SPF Record Wildcard and Macro Configurations =====...   \n",
       "2  Introduction to SPF Record Scopes ================================...   \n",
       "3  Ensuring Proper Propagation and Consistency of SPF Records: A Comp...   \n",
       "4  Introduction to SPF Record Wildcards and Macros Management =======...   \n",
       "\n",
       "                                                             pred_answer  \\\n",
       "0  Our organization uses a combination of DomainKeys Identified Mail ...   \n",
       "1  To effectively manage complex SPF record wildcard and macro config...   \n",
       "2  To define and configure SPF record scopes for our organization's d...   \n",
       "3  To ensure that your SPF records are properly propagated to all DNS...   \n",
       "4  To effectively manage SPF record wildcards and macros across multi...   \n",
       "\n",
       "     SemScore  \n",
       "0  ✔️ [0.828]  \n",
       "1  ✔️ [0.887]  \n",
       "2  ✔️ [0.857]  \n",
       "3  ✔️ [0.902]  \n",
       "4  ✔️ [0.846]  "
      ]
     },
     "metadata": {},
     "output_type": "display_data"
    },
    {
     "name": "stderr",
     "output_type": "stream",
     "text": [
      "2025/01/17 06:40:18 INFO dspy.teleprompt.mipro_optimizer_v2: \n",
      "RUNNING WITH THE FOLLOWING LIGHT AUTO RUN SETTINGS:\n",
      "num_trials: 7\n",
      "minibatch: False\n",
      "num_candidates: 7\n",
      "valset size: 8\n",
      "\n",
      "2025/01/17 06:40:18 INFO dspy.teleprompt.mipro_optimizer_v2: \n",
      "==> STEP 1: BOOTSTRAP FEWSHOT EXAMPLES <==\n",
      "2025/01/17 06:40:18 INFO dspy.teleprompt.mipro_optimizer_v2: These will be used for informing instruction proposal.\n",
      "\n",
      "2025/01/17 06:40:18 INFO dspy.teleprompt.mipro_optimizer_v2: Bootstrapping N=7 sets of demonstrations...\n"
     ]
    },
    {
     "name": "stdout",
     "output_type": "stream",
     "text": [
      "\n",
      "[LangWatch] Experiment initialized, run_id: ZS-COT-llama3.2\n",
      "[LangWatch] Open https://app.langwatch.ai/ok-JsSlvo/experiments/try10?runIds=ZS-COT-llama3.2 to track your DSPy training session live\n",
      "\n",
      "Bootstrapping set 1/7\n",
      "Bootstrapping set 2/7\n"
     ]
    },
    {
     "name": "stderr",
     "output_type": "stream",
     "text": [
      "100%|█████████████████████████████████████████████| 2/2 [00:00<00:00, 20.22it/s]\n"
     ]
    },
    {
     "name": "stdout",
     "output_type": "stream",
     "text": [
      "Bootstrapped 2 full traces after 1 examples for up to 1 rounds, amounting to 2 attempts.\n",
      "Bootstrapping set 3/7\n"
     ]
    },
    {
     "name": "stderr",
     "output_type": "stream",
     "text": [
      "100%|█████████████████████████████████████████████| 2/2 [00:00<00:00, 10.20it/s]\n"
     ]
    },
    {
     "name": "stdout",
     "output_type": "stream",
     "text": [
      "Bootstrapped 2 full traces after 1 examples for up to 1 rounds, amounting to 2 attempts.\n",
      "Bootstrapping set 4/7\n"
     ]
    },
    {
     "name": "stderr",
     "output_type": "stream",
     "text": [
      "100%|█████████████████████████████████████████████| 2/2 [00:00<00:00,  8.75it/s]\n"
     ]
    },
    {
     "name": "stdout",
     "output_type": "stream",
     "text": [
      "Bootstrapped 2 full traces after 1 examples for up to 1 rounds, amounting to 2 attempts.\n",
      "Bootstrapping set 5/7\n"
     ]
    },
    {
     "name": "stderr",
     "output_type": "stream",
     "text": [
      "100%|█████████████████████████████████████████████| 2/2 [00:00<00:00, 11.99it/s]\n"
     ]
    },
    {
     "name": "stdout",
     "output_type": "stream",
     "text": [
      "Bootstrapped 2 full traces after 1 examples for up to 1 rounds, amounting to 2 attempts.\n",
      "Bootstrapping set 6/7\n"
     ]
    },
    {
     "name": "stderr",
     "output_type": "stream",
     "text": [
      " 50%|██████████████████████▌                      | 1/2 [00:00<00:00, 16.17it/s]\n"
     ]
    },
    {
     "name": "stdout",
     "output_type": "stream",
     "text": [
      "Bootstrapped 1 full traces after 1 examples for up to 1 rounds, amounting to 1 attempts.\n",
      "Bootstrapping set 7/7\n"
     ]
    },
    {
     "name": "stderr",
     "output_type": "stream",
     "text": [
      "100%|█████████████████████████████████████████████| 2/2 [00:00<00:00, 25.47it/s]\n",
      "2025/01/17 06:40:19 INFO dspy.teleprompt.mipro_optimizer_v2: \n",
      "==> STEP 2: PROPOSE INSTRUCTION CANDIDATES <==\n",
      "2025/01/17 06:40:19 INFO dspy.teleprompt.mipro_optimizer_v2: We will use the few-shot examples from the previous step, a generated dataset summary, a summary of the program code, and a randomly selected prompting tip to propose instructions.\n",
      "2025/01/17 06:40:19 INFO dspy.teleprompt.mipro_optimizer_v2: \n",
      "Proposing instructions...\n",
      "\n"
     ]
    },
    {
     "name": "stdout",
     "output_type": "stream",
     "text": [
      "Bootstrapped 2 full traces after 1 examples for up to 1 rounds, amounting to 2 attempts.\n"
     ]
    },
    {
     "name": "stderr",
     "output_type": "stream",
     "text": [
      "2025/01/17 06:40:19 INFO dspy.teleprompt.mipro_optimizer_v2: Proposed Instructions for Predictor 0:\n",
      "\n",
      "2025/01/17 06:40:19 INFO dspy.teleprompt.mipro_optimizer_v2: 0: You are an expert in email security. Your goal is to give Recommendation to the user based on their Question.\n",
      "\n",
      "2025/01/17 06:40:19 INFO dspy.teleprompt.mipro_optimizer_v2: 1: To improve the program's ability to provide accurate and comprehensive recommendations for SPF record management, consider adding a step that involves reviewing existing documentation and guidelines from reputable sources in the email security industry. This could include reviews of best practices for SPF record setup and maintenance, as well as guidance on how to handle specific scenarios such as changes to mail infrastructure or services.\n",
      "\n",
      "2025/01/17 06:40:19 INFO dspy.teleprompt.mipro_optimizer_v2: 2: To improve the program's ability to provide accurate and comprehensive recommendations for SPF record management, consider adding a step that involves reviewing existing documentation and guidelines from reputable sources in the email security industry. This could include reviews of best practices for SPF record setup and maintenance, as well as guidance on how to handle specific scenarios such as changes to mail infrastructure or services.\n",
      "\n",
      "2025/01/17 06:40:19 INFO dspy.teleprompt.mipro_optimizer_v2: 3: You are an expert in email security strategy alignment. Your goal is to provide guidance on how to properly align SPF records with your organization's overall email security posture, including conducting a thorough review of existing setups, updating records as needed, monitoring DNS blackhole and greylist lists, and implementing comprehensive email security measures such as DMARC and DKIM.\n",
      "\n",
      "2025/01/17 06:40:19 INFO dspy.teleprompt.mipro_optimizer_v2: 4: To improve the accuracy and completeness of SPF record management, propose that the organization implement a centralized inventory system to track changes and updates to their SPF records. This will enable real-time monitoring and automatic propagation of changes to relevant DNS servers.\n",
      "\n",
      "Additionally, recommend that the organization define a change management process to ensure that all stakeholders are aware of the procedures for updating and maintaining SPF records. Regular review and update of SPF records will also help mitigate risks associated with errors and abuse.\n",
      "\n",
      "Answering questions related to SPF record management should involve providing clear guidance on how to handle changes to mail infrastructure, such as adding or removing mail servers or IP addresses, and how to ensure that these changes are reflected in the SPF records. This may include steps for updating DNS records, configuring firewall rules, and modifying SPF records.\n",
      "\n",
      "Finally, propose that the organization implement a comprehensive email security strategy that includes measures such as DMARC and DKIM to strengthen their overall email security posture.\n",
      "\n",
      "2025/01/17 06:40:19 INFO dspy.teleprompt.mipro_optimizer_v2: 5: To improve the accuracy and completeness of SPF record management, propose an instruction that prompts a Language Model to provide step-by-step guidance on ensuring SPF records are properly aligned with an organization's overall email security strategy and posture.\n",
      "\n",
      "This instruction should take into account the program's goal of providing expert-level guidance on email security topics using natural language processing and machine learning techniques. The proposed instruction could be:\n",
      "\n",
      "\"Expert, please outline a comprehensive plan to ensure that SPF records accurately reflect our domain's authorized senders and are regularly updated to reflect changes in our infrastructure or services.\n",
      "\n",
      "2025/01/17 06:40:19 INFO dspy.teleprompt.mipro_optimizer_v2: 6: To improve the program's ability to provide accurate and comprehensive recommendations for SPF record management, consider adding a step that involves reviewing existing documentation and guidelines from reputable sources in the email security industry. This could include reviews of best practices for SPF record setup and maintenance, as well as guidance on how to handle specific scenarios such as changes to mail infrastructure or services.\n",
      "\n",
      "2025/01/17 06:40:19 INFO dspy.teleprompt.mipro_optimizer_v2: \n",
      "\n",
      "2025/01/17 06:40:19 INFO dspy.teleprompt.mipro_optimizer_v2: Evaluating the default program...\n",
      "\n"
     ]
    },
    {
     "name": "stdout",
     "output_type": "stream",
     "text": [
      "Average Metric: 6.28 / 8 (78.5%): 100%|███████████| 8/8 [00:00<00:00, 13.81it/s]"
     ]
    },
    {
     "name": "stderr",
     "output_type": "stream",
     "text": [
      "2025/01/17 06:40:20 INFO dspy.evaluate.evaluate: Average Metric: 6.281111240386963 / 8 (78.5%)\n"
     ]
    },
    {
     "name": "stdout",
     "output_type": "stream",
     "text": [
      "\n"
     ]
    },
    {
     "name": "stderr",
     "output_type": "stream",
     "text": [
      "2025/01/17 06:40:21 INFO dspy.teleprompt.mipro_optimizer_v2: Default program score: 78.51\n",
      "\n",
      "2025/01/17 06:40:21 INFO dspy.teleprompt.mipro_optimizer_v2: ==> STEP 3: FINDING OPTIMAL PROMPT PARAMETERS <==\n",
      "2025/01/17 06:40:21 INFO dspy.teleprompt.mipro_optimizer_v2: We will evaluate the program over a series of trials with different combinations of instructions and few-shot examples to find the optimal combination using Bayesian Optimization.\n",
      "\n",
      "2025/01/17 06:40:21 INFO dspy.teleprompt.mipro_optimizer_v2: ===== Trial 1 / 7 =====\n"
     ]
    },
    {
     "name": "stdout",
     "output_type": "stream",
     "text": [
      "Average Metric: 6.57 / 8 (82.1%): 100%|███████████| 8/8 [00:00<00:00, 12.87it/s]"
     ]
    },
    {
     "name": "stderr",
     "output_type": "stream",
     "text": [
      "2025/01/17 06:40:22 INFO dspy.evaluate.evaluate: Average Metric: 6.565517783164978 / 8 (82.1%)\n"
     ]
    },
    {
     "name": "stdout",
     "output_type": "stream",
     "text": [
      "\n"
     ]
    },
    {
     "name": "stderr",
     "output_type": "stream",
     "text": [
      "2025/01/17 06:40:23 INFO dspy.teleprompt.mipro_optimizer_v2: \u001b[92mBest full score so far!\u001b[0m Score: 82.07\n",
      "2025/01/17 06:40:23 INFO dspy.teleprompt.mipro_optimizer_v2: Score: 82.07 with parameters ['Predictor 0: Instruction 1'].\n",
      "2025/01/17 06:40:23 INFO dspy.teleprompt.mipro_optimizer_v2: Scores so far: [78.51, 82.07]\n",
      "2025/01/17 06:40:23 INFO dspy.teleprompt.mipro_optimizer_v2: Best score so far: 82.07\n",
      "2025/01/17 06:40:23 INFO dspy.teleprompt.mipro_optimizer_v2: =======================\n",
      "\n",
      "\n",
      "2025/01/17 06:40:23 INFO dspy.teleprompt.mipro_optimizer_v2: ===== Trial 2 / 7 =====\n"
     ]
    },
    {
     "name": "stdout",
     "output_type": "stream",
     "text": [
      "Average Metric: 6.44 / 8 (80.5%): 100%|███████████| 8/8 [00:00<00:00, 14.89it/s]\n"
     ]
    },
    {
     "name": "stderr",
     "output_type": "stream",
     "text": [
      "2025/01/17 06:40:24 INFO dspy.evaluate.evaluate: Average Metric: 6.43798828125 / 8 (80.5%)\n",
      "2025/01/17 06:40:25 INFO dspy.teleprompt.mipro_optimizer_v2: Score: 80.47 with parameters ['Predictor 0: Instruction 5'].\n",
      "2025/01/17 06:40:25 INFO dspy.teleprompt.mipro_optimizer_v2: Scores so far: [78.51, 82.07, 80.47]\n",
      "2025/01/17 06:40:25 INFO dspy.teleprompt.mipro_optimizer_v2: Best score so far: 82.07\n",
      "2025/01/17 06:40:25 INFO dspy.teleprompt.mipro_optimizer_v2: =======================\n",
      "\n",
      "\n",
      "2025/01/17 06:40:25 INFO dspy.teleprompt.mipro_optimizer_v2: ===== Trial 3 / 7 =====\n"
     ]
    },
    {
     "name": "stdout",
     "output_type": "stream",
     "text": [
      "Average Metric: 6.57 / 8 (82.1%): 100%|███████████| 8/8 [00:00<00:00, 21.26it/s]"
     ]
    },
    {
     "name": "stderr",
     "output_type": "stream",
     "text": [
      "2025/01/17 06:40:26 INFO dspy.evaluate.evaluate: Average Metric: 6.565517783164978 / 8 (82.1%)\n"
     ]
    },
    {
     "name": "stdout",
     "output_type": "stream",
     "text": [
      "\n"
     ]
    },
    {
     "name": "stderr",
     "output_type": "stream",
     "text": [
      "2025/01/17 06:40:27 INFO dspy.teleprompt.mipro_optimizer_v2: Score: 82.07 with parameters ['Predictor 0: Instruction 2'].\n",
      "2025/01/17 06:40:27 INFO dspy.teleprompt.mipro_optimizer_v2: Scores so far: [78.51, 82.07, 80.47, 82.07]\n",
      "2025/01/17 06:40:27 INFO dspy.teleprompt.mipro_optimizer_v2: Best score so far: 82.07\n",
      "2025/01/17 06:40:27 INFO dspy.teleprompt.mipro_optimizer_v2: =======================\n",
      "\n",
      "\n",
      "2025/01/17 06:40:27 INFO dspy.teleprompt.mipro_optimizer_v2: ===== Trial 4 / 7 =====\n"
     ]
    },
    {
     "name": "stdout",
     "output_type": "stream",
     "text": [
      "Average Metric: 6.44 / 8 (80.5%): 100%|███████████| 8/8 [00:00<00:00, 15.64it/s]"
     ]
    },
    {
     "name": "stderr",
     "output_type": "stream",
     "text": [
      "2025/01/17 06:40:27 INFO dspy.evaluate.evaluate: Average Metric: 6.43798828125 / 8 (80.5%)\n"
     ]
    },
    {
     "name": "stdout",
     "output_type": "stream",
     "text": [
      "\n"
     ]
    },
    {
     "name": "stderr",
     "output_type": "stream",
     "text": [
      "2025/01/17 06:40:29 INFO dspy.teleprompt.mipro_optimizer_v2: Score: 80.47 with parameters ['Predictor 0: Instruction 5'].\n",
      "2025/01/17 06:40:29 INFO dspy.teleprompt.mipro_optimizer_v2: Scores so far: [78.51, 82.07, 80.47, 82.07, 80.47]\n",
      "2025/01/17 06:40:29 INFO dspy.teleprompt.mipro_optimizer_v2: Best score so far: 82.07\n",
      "2025/01/17 06:40:29 INFO dspy.teleprompt.mipro_optimizer_v2: =======================\n",
      "\n",
      "\n",
      "2025/01/17 06:40:29 INFO dspy.teleprompt.mipro_optimizer_v2: ===== Trial 5 / 7 =====\n"
     ]
    },
    {
     "name": "stdout",
     "output_type": "stream",
     "text": [
      "Average Metric: 6.62 / 8 (82.7%): 100%|███████████| 8/8 [00:00<00:00, 13.48it/s]"
     ]
    },
    {
     "name": "stderr",
     "output_type": "stream",
     "text": [
      "2025/01/17 06:40:29 INFO dspy.evaluate.evaluate: Average Metric: 6.6198068261146545 / 8 (82.7%)\n"
     ]
    },
    {
     "name": "stdout",
     "output_type": "stream",
     "text": [
      "\n"
     ]
    },
    {
     "name": "stderr",
     "output_type": "stream",
     "text": [
      "2025/01/17 06:40:31 INFO dspy.teleprompt.mipro_optimizer_v2: \u001b[92mBest full score so far!\u001b[0m Score: 82.75\n",
      "2025/01/17 06:40:31 INFO dspy.teleprompt.mipro_optimizer_v2: Score: 82.75 with parameters ['Predictor 0: Instruction 4'].\n",
      "2025/01/17 06:40:31 INFO dspy.teleprompt.mipro_optimizer_v2: Scores so far: [78.51, 82.07, 80.47, 82.07, 80.47, 82.75]\n",
      "2025/01/17 06:40:31 INFO dspy.teleprompt.mipro_optimizer_v2: Best score so far: 82.75\n",
      "2025/01/17 06:40:31 INFO dspy.teleprompt.mipro_optimizer_v2: =======================\n",
      "\n",
      "\n",
      "2025/01/17 06:40:31 INFO dspy.teleprompt.mipro_optimizer_v2: ===== Trial 6 / 7 =====\n"
     ]
    },
    {
     "name": "stdout",
     "output_type": "stream",
     "text": [
      "Average Metric: 6.57 / 8 (82.1%): 100%|███████████| 8/8 [00:00<00:00, 18.36it/s]"
     ]
    },
    {
     "name": "stderr",
     "output_type": "stream",
     "text": [
      "2025/01/17 06:40:32 INFO dspy.evaluate.evaluate: Average Metric: 6.565517783164978 / 8 (82.1%)\n"
     ]
    },
    {
     "name": "stdout",
     "output_type": "stream",
     "text": [
      "\n"
     ]
    },
    {
     "name": "stderr",
     "output_type": "stream",
     "text": [
      "2025/01/17 06:40:33 INFO dspy.teleprompt.mipro_optimizer_v2: Score: 82.07 with parameters ['Predictor 0: Instruction 1'].\n",
      "2025/01/17 06:40:33 INFO dspy.teleprompt.mipro_optimizer_v2: Scores so far: [78.51, 82.07, 80.47, 82.07, 80.47, 82.75, 82.07]\n",
      "2025/01/17 06:40:33 INFO dspy.teleprompt.mipro_optimizer_v2: Best score so far: 82.75\n",
      "2025/01/17 06:40:33 INFO dspy.teleprompt.mipro_optimizer_v2: =======================\n",
      "\n",
      "\n",
      "2025/01/17 06:40:33 INFO dspy.teleprompt.mipro_optimizer_v2: ===== Trial 7 / 7 =====\n"
     ]
    },
    {
     "name": "stdout",
     "output_type": "stream",
     "text": [
      "Average Metric: 6.57 / 8 (82.1%): 100%|███████████| 8/8 [00:00<00:00, 17.80it/s]"
     ]
    },
    {
     "name": "stderr",
     "output_type": "stream",
     "text": [
      "2025/01/17 06:40:34 INFO dspy.evaluate.evaluate: Average Metric: 6.565517783164978 / 8 (82.1%)\n"
     ]
    },
    {
     "name": "stdout",
     "output_type": "stream",
     "text": [
      "\n"
     ]
    },
    {
     "name": "stderr",
     "output_type": "stream",
     "text": [
      "2025/01/17 06:40:35 INFO dspy.teleprompt.mipro_optimizer_v2: Score: 82.07 with parameters ['Predictor 0: Instruction 6'].\n",
      "2025/01/17 06:40:35 INFO dspy.teleprompt.mipro_optimizer_v2: Scores so far: [78.51, 82.07, 80.47, 82.07, 80.47, 82.75, 82.07, 82.07]\n",
      "2025/01/17 06:40:35 INFO dspy.teleprompt.mipro_optimizer_v2: Best score so far: 82.75\n",
      "2025/01/17 06:40:35 INFO dspy.teleprompt.mipro_optimizer_v2: =======================\n",
      "\n",
      "\n",
      "2025/01/17 06:40:35 INFO dspy.teleprompt.mipro_optimizer_v2: Returning best identified program with score 82.75!\n"
     ]
    },
    {
     "name": "stdout",
     "output_type": "stream",
     "text": [
      "Average Metric: 4.14 / 5 (82.8%): 100%|███████████| 5/5 [00:00<00:00, 10.43it/s]"
     ]
    },
    {
     "name": "stderr",
     "output_type": "stream",
     "text": [
      "2025/01/17 06:40:35 INFO dspy.evaluate.evaluate: Average Metric: 4.142196714878082 / 5 (82.8%)\n"
     ]
    },
    {
     "name": "stdout",
     "output_type": "stream",
     "text": [
      "\n"
     ]
    },
    {
     "data": {
      "text/html": [
       "<div>\n",
       "<style scoped>\n",
       "    .dataframe tbody tr th:only-of-type {\n",
       "        vertical-align: middle;\n",
       "    }\n",
       "\n",
       "    .dataframe tbody tr th {\n",
       "        vertical-align: top;\n",
       "    }\n",
       "\n",
       "    .dataframe thead th {\n",
       "        text-align: right;\n",
       "    }\n",
       "</style>\n",
       "<table border=\"1\" class=\"dataframe\">\n",
       "  <thead>\n",
       "    <tr style=\"text-align: right;\">\n",
       "      <th></th>\n",
       "      <th>question</th>\n",
       "      <th>example_answer</th>\n",
       "      <th>reasoning</th>\n",
       "      <th>pred_answer</th>\n",
       "      <th>SemScore</th>\n",
       "    </tr>\n",
       "  </thead>\n",
       "  <tbody>\n",
       "    <tr>\n",
       "      <th>0</th>\n",
       "      <td>What mechanisms does your organization use to prevent unauthorized...</td>\n",
       "      <td>Introduction to SPF Records and Mechanisms =======================...</td>\n",
       "      <td>Our organization uses a combination of mechanisms to prevent unaut...</td>\n",
       "      <td>Our organization uses a combination of SPF, DKIM, and DMARC mechan...</td>\n",
       "      <td>✔️ [0.792]</td>\n",
       "    </tr>\n",
       "    <tr>\n",
       "      <th>1</th>\n",
       "      <td>What is your organization's strategy for handling complex SPF reco...</td>\n",
       "      <td>Introduction to SPF Record Wildcard and Macro Configurations =====...</td>\n",
       "      <td>Our organization's strategy for handling complex SPF record wildca...</td>\n",
       "      <td>Our organization's strategy for handling complex SPF record wildca...</td>\n",
       "      <td>✔️ [0.854]</td>\n",
       "    </tr>\n",
       "    <tr>\n",
       "      <th>2</th>\n",
       "      <td>What specific guidelines do you follow to define and configure SPF...</td>\n",
       "      <td>Introduction to SPF Record Scopes ================================...</td>\n",
       "      <td>To define and configure SPF record scopes for an organization's do...</td>\n",
       "      <td>To define and configure SPF record scopes for an organization's do...</td>\n",
       "      <td>✔️ [0.799]</td>\n",
       "    </tr>\n",
       "    <tr>\n",
       "      <th>3</th>\n",
       "      <td>How do you ensure that your SPF records are properly propagated to...</td>\n",
       "      <td>Ensuring Proper Propagation and Consistency of SPF Records: A Comp...</td>\n",
       "      <td>To ensure that SPF records are properly propagated to all DNS serv...</td>\n",
       "      <td>To prevent SPF record inconsistencies or conflicts, organizations ...</td>\n",
       "      <td>✔️ [0.886]</td>\n",
       "    </tr>\n",
       "    <tr>\n",
       "      <th>4</th>\n",
       "      <td>How does your organization handle the management of SPF record wil...</td>\n",
       "      <td>Introduction to SPF Record Wildcards and Macros Management =======...</td>\n",
       "      <td>To effectively manage SPF record wildcards and macros across multi...</td>\n",
       "      <td>Our organization handles the management of SPF record wildcards an...</td>\n",
       "      <td>✔️ [0.811]</td>\n",
       "    </tr>\n",
       "  </tbody>\n",
       "</table>\n",
       "</div>"
      ],
      "text/plain": [
       "                                                                question  \\\n",
       "0  What mechanisms does your organization use to prevent unauthorized...   \n",
       "1  What is your organization's strategy for handling complex SPF reco...   \n",
       "2  What specific guidelines do you follow to define and configure SPF...   \n",
       "3  How do you ensure that your SPF records are properly propagated to...   \n",
       "4  How does your organization handle the management of SPF record wil...   \n",
       "\n",
       "                                                          example_answer  \\\n",
       "0  Introduction to SPF Records and Mechanisms =======================...   \n",
       "1  Introduction to SPF Record Wildcard and Macro Configurations =====...   \n",
       "2  Introduction to SPF Record Scopes ================================...   \n",
       "3  Ensuring Proper Propagation and Consistency of SPF Records: A Comp...   \n",
       "4  Introduction to SPF Record Wildcards and Macros Management =======...   \n",
       "\n",
       "                                                               reasoning  \\\n",
       "0  Our organization uses a combination of mechanisms to prevent unaut...   \n",
       "1  Our organization's strategy for handling complex SPF record wildca...   \n",
       "2  To define and configure SPF record scopes for an organization's do...   \n",
       "3  To ensure that SPF records are properly propagated to all DNS serv...   \n",
       "4  To effectively manage SPF record wildcards and macros across multi...   \n",
       "\n",
       "                                                             pred_answer  \\\n",
       "0  Our organization uses a combination of SPF, DKIM, and DMARC mechan...   \n",
       "1  Our organization's strategy for handling complex SPF record wildca...   \n",
       "2  To define and configure SPF record scopes for an organization's do...   \n",
       "3  To prevent SPF record inconsistencies or conflicts, organizations ...   \n",
       "4  Our organization handles the management of SPF record wildcards an...   \n",
       "\n",
       "     SemScore  \n",
       "0  ✔️ [0.792]  \n",
       "1  ✔️ [0.854]  \n",
       "2  ✔️ [0.799]  \n",
       "3  ✔️ [0.886]  \n",
       "4  ✔️ [0.811]  "
      ]
     },
     "metadata": {},
     "output_type": "display_data"
    },
    {
     "name": "stderr",
     "output_type": "stream",
     "text": [
      "2025/01/17 06:40:36 INFO dspy.teleprompt.mipro_optimizer_v2: \n",
      "RUNNING WITH THE FOLLOWING LIGHT AUTO RUN SETTINGS:\n",
      "num_trials: 7\n",
      "minibatch: False\n",
      "num_candidates: 7\n",
      "valset size: 8\n",
      "\n",
      "2025/01/17 06:40:36 INFO dspy.teleprompt.mipro_optimizer_v2: \n",
      "==> STEP 1: BOOTSTRAP FEWSHOT EXAMPLES <==\n",
      "2025/01/17 06:40:36 INFO dspy.teleprompt.mipro_optimizer_v2: These will be used for informing instruction proposal.\n",
      "\n",
      "2025/01/17 06:40:36 INFO dspy.teleprompt.mipro_optimizer_v2: Bootstrapping N=7 sets of demonstrations...\n"
     ]
    },
    {
     "name": "stdout",
     "output_type": "stream",
     "text": [
      "\n",
      "[LangWatch] Experiment initialized, run_id: FS-COT-llama3.2\n",
      "[LangWatch] Open https://app.langwatch.ai/ok-JsSlvo/experiments/try10?runIds=FS-COT-llama3.2 to track your DSPy training session live\n",
      "\n",
      "Bootstrapping set 1/7\n",
      "Bootstrapping set 2/7\n"
     ]
    },
    {
     "name": "stderr",
     "output_type": "stream",
     "text": [
      "100%|█████████████████████████████████████████████| 2/2 [00:00<00:00, 24.42it/s]\n"
     ]
    },
    {
     "name": "stdout",
     "output_type": "stream",
     "text": [
      "Bootstrapped 2 full traces after 1 examples for up to 1 rounds, amounting to 2 attempts.\n",
      "Bootstrapping set 3/7\n"
     ]
    },
    {
     "name": "stderr",
     "output_type": "stream",
     "text": [
      "100%|█████████████████████████████████████████████| 2/2 [00:00<00:00, 11.23it/s]\n"
     ]
    },
    {
     "name": "stdout",
     "output_type": "stream",
     "text": [
      "Bootstrapped 2 full traces after 1 examples for up to 1 rounds, amounting to 2 attempts.\n",
      "Bootstrapping set 4/7\n"
     ]
    },
    {
     "name": "stderr",
     "output_type": "stream",
     "text": [
      "100%|█████████████████████████████████████████████| 2/2 [00:00<00:00, 10.90it/s]\n"
     ]
    },
    {
     "name": "stdout",
     "output_type": "stream",
     "text": [
      "Bootstrapped 2 full traces after 1 examples for up to 1 rounds, amounting to 2 attempts.\n",
      "Bootstrapping set 5/7\n"
     ]
    },
    {
     "name": "stderr",
     "output_type": "stream",
     "text": [
      "100%|█████████████████████████████████████████████| 2/2 [00:00<00:00, 10.61it/s]\n"
     ]
    },
    {
     "name": "stdout",
     "output_type": "stream",
     "text": [
      "Bootstrapped 2 full traces after 1 examples for up to 1 rounds, amounting to 2 attempts.\n",
      "Bootstrapping set 6/7\n"
     ]
    },
    {
     "name": "stderr",
     "output_type": "stream",
     "text": [
      " 50%|██████████████████████▌                      | 1/2 [00:00<00:00,  7.08it/s]\n"
     ]
    },
    {
     "name": "stdout",
     "output_type": "stream",
     "text": [
      "Bootstrapped 1 full traces after 1 examples for up to 1 rounds, amounting to 1 attempts.\n",
      "Bootstrapping set 7/7\n"
     ]
    },
    {
     "name": "stderr",
     "output_type": "stream",
     "text": [
      "100%|█████████████████████████████████████████████| 2/2 [00:00<00:00, 24.81it/s]\n",
      "2025/01/17 06:40:37 INFO dspy.teleprompt.mipro_optimizer_v2: \n",
      "==> STEP 2: PROPOSE INSTRUCTION CANDIDATES <==\n",
      "2025/01/17 06:40:37 INFO dspy.teleprompt.mipro_optimizer_v2: We will use the few-shot examples from the previous step, a generated dataset summary, a summary of the program code, and a randomly selected prompting tip to propose instructions.\n",
      "2025/01/17 06:40:37 INFO dspy.teleprompt.mipro_optimizer_v2: \n",
      "Proposing instructions...\n",
      "\n"
     ]
    },
    {
     "name": "stdout",
     "output_type": "stream",
     "text": [
      "Bootstrapped 2 full traces after 1 examples for up to 1 rounds, amounting to 2 attempts.\n"
     ]
    },
    {
     "name": "stderr",
     "output_type": "stream",
     "text": [
      "2025/01/17 06:40:38 INFO dspy.teleprompt.mipro_optimizer_v2: Proposed Instructions for Predictor 0:\n",
      "\n",
      "2025/01/17 06:40:38 INFO dspy.teleprompt.mipro_optimizer_v2: 0: You are an expert in email security. Your goal is to give Recommendation to the user based on their Question.\n",
      "\n",
      "2025/01/17 06:40:38 INFO dspy.teleprompt.mipro_optimizer_v2: 1: You are an expert in email security. Given a user's question about SPF record management, provide a step-by-step guide to ensure proper alignment with the organization's overall email security strategy and posture.\n",
      "\n",
      "[[ ## completed ## ])\n",
      "\n",
      "2025/01/17 06:40:38 INFO dspy.teleprompt.mipro_optimizer_v2: 2: You are an expert in email security. Given a user's question about SPF record management, provide a step-by-step guide to ensure proper alignment with the organization's overall email security strategy and posture.\n",
      "\n",
      "[[ ## completed ## ])\n",
      "\n",
      "2025/01/17 06:40:38 INFO dspy.teleprompt.mipro_optimizer_v2: 3: You want the Language Model to provide a step-by-step process for handling changes to an organization's mail infrastructure, including updating SPF records, and ensure that these changes are reflected in a timely manner. \n",
      "\n",
      "To achieve this, you can ask the Language Model: \"Provide a detailed plan for updating SPF records after changes to an organization's mail infrastructure.\n",
      "\n",
      "2025/01/17 06:40:38 INFO dspy.teleprompt.mipro_optimizer_v2: 4: To improve the accuracy and completeness of SPF record management, propose that the organization implement a centralized inventory system to track changes to their mail infrastructure and define a change management process to ensure timely updates to SPF records. This can be achieved by establishing a regular review and update schedule for SPF records, monitoring DNS blackhole and greylist lists for potential spamming attempts, and implementing a comprehensive email security strategy that includes measures such as DMARC and DKIM.\n",
      "\n",
      "2025/01/17 06:40:38 INFO dspy.teleprompt.mipro_optimizer_v2: 5: To improve the program's ability to provide accurate and comprehensive guidance on SPF record management, I propose adding a new input field that allows users to specify their current email security posture. This could be achieved by introducing a new question that asks about the user's existing setup and infrastructure.\n",
      "\n",
      "For example:\n",
      "\n",
      "Question: What is your current email security posture (e.g., \"We have a robust security strategy in place,\" or \"Our SPF record is not properly configured\")?\n",
      "\n",
      "This additional input would enable the program to better understand the user's specific needs and provide more tailored guidance on how to improve their SPF record management process.\n",
      "\n",
      "2025/01/17 06:40:38 INFO dspy.teleprompt.mipro_optimizer_v2: 6: You are an expert in email security. Given a user's question about SPF record management, provide a step-by-step guide to ensure proper alignment with the organization's overall email security strategy and posture.\n",
      "\n",
      "[[ ## completed ## ])\n",
      "\n",
      "2025/01/17 06:40:38 INFO dspy.teleprompt.mipro_optimizer_v2: \n",
      "\n",
      "2025/01/17 06:40:38 INFO dspy.teleprompt.mipro_optimizer_v2: Evaluating the default program...\n",
      "\n"
     ]
    },
    {
     "name": "stdout",
     "output_type": "stream",
     "text": [
      "Average Metric: 6.28 / 8 (78.5%): 100%|███████████| 8/8 [00:00<00:00, 15.81it/s]"
     ]
    },
    {
     "name": "stderr",
     "output_type": "stream",
     "text": [
      "2025/01/17 06:40:38 INFO dspy.evaluate.evaluate: Average Metric: 6.281111240386963 / 8 (78.5%)\n"
     ]
    },
    {
     "name": "stdout",
     "output_type": "stream",
     "text": [
      "\n"
     ]
    },
    {
     "name": "stderr",
     "output_type": "stream",
     "text": [
      "2025/01/17 06:40:40 INFO dspy.teleprompt.mipro_optimizer_v2: Default program score: 78.51\n",
      "\n",
      "2025/01/17 06:40:40 INFO dspy.teleprompt.mipro_optimizer_v2: ==> STEP 3: FINDING OPTIMAL PROMPT PARAMETERS <==\n",
      "2025/01/17 06:40:40 INFO dspy.teleprompt.mipro_optimizer_v2: We will evaluate the program over a series of trials with different combinations of instructions and few-shot examples to find the optimal combination using Bayesian Optimization.\n",
      "\n",
      "2025/01/17 06:40:40 INFO dspy.teleprompt.mipro_optimizer_v2: ===== Trial 1 / 7 =====\n"
     ]
    },
    {
     "name": "stdout",
     "output_type": "stream",
     "text": [
      "Average Metric: 6.27 / 8 (78.4%): 100%|███████████| 8/8 [00:00<00:00, 14.09it/s]"
     ]
    },
    {
     "name": "stderr",
     "output_type": "stream",
     "text": [
      "2025/01/17 06:40:41 INFO dspy.evaluate.evaluate: Average Metric: 6.271723747253418 / 8 (78.4%)\n"
     ]
    },
    {
     "name": "stdout",
     "output_type": "stream",
     "text": [
      "\n"
     ]
    },
    {
     "name": "stderr",
     "output_type": "stream",
     "text": [
      "2025/01/17 06:40:43 INFO dspy.teleprompt.mipro_optimizer_v2: Score: 78.4 with parameters ['Predictor 0: Instruction 1'].\n",
      "2025/01/17 06:40:43 INFO dspy.teleprompt.mipro_optimizer_v2: Scores so far: [78.51, 78.4]\n",
      "2025/01/17 06:40:43 INFO dspy.teleprompt.mipro_optimizer_v2: Best score so far: 78.51\n",
      "2025/01/17 06:40:43 INFO dspy.teleprompt.mipro_optimizer_v2: =======================\n",
      "\n",
      "\n",
      "2025/01/17 06:40:43 INFO dspy.teleprompt.mipro_optimizer_v2: ===== Trial 2 / 7 =====\n"
     ]
    },
    {
     "name": "stdout",
     "output_type": "stream",
     "text": [
      "Average Metric: 6.52 / 8 (81.5%): 100%|███████████| 8/8 [00:00<00:00, 14.64it/s]"
     ]
    },
    {
     "name": "stderr",
     "output_type": "stream",
     "text": [
      "2025/01/17 06:40:44 INFO dspy.evaluate.evaluate: Average Metric: 6.5211780071258545 / 8 (81.5%)\n"
     ]
    },
    {
     "name": "stdout",
     "output_type": "stream",
     "text": [
      "\n"
     ]
    },
    {
     "name": "stderr",
     "output_type": "stream",
     "text": [
      "2025/01/17 06:40:45 INFO dspy.teleprompt.mipro_optimizer_v2: \u001b[92mBest full score so far!\u001b[0m Score: 81.51\n",
      "2025/01/17 06:40:45 INFO dspy.teleprompt.mipro_optimizer_v2: Score: 81.51 with parameters ['Predictor 0: Instruction 5'].\n",
      "2025/01/17 06:40:45 INFO dspy.teleprompt.mipro_optimizer_v2: Scores so far: [78.51, 78.4, 81.51]\n",
      "2025/01/17 06:40:45 INFO dspy.teleprompt.mipro_optimizer_v2: Best score so far: 81.51\n",
      "2025/01/17 06:40:45 INFO dspy.teleprompt.mipro_optimizer_v2: =======================\n",
      "\n",
      "\n",
      "2025/01/17 06:40:45 INFO dspy.teleprompt.mipro_optimizer_v2: ===== Trial 3 / 7 =====\n"
     ]
    },
    {
     "name": "stdout",
     "output_type": "stream",
     "text": [
      "Average Metric: 6.27 / 8 (78.4%): 100%|███████████| 8/8 [00:00<00:00, 19.24it/s]"
     ]
    },
    {
     "name": "stderr",
     "output_type": "stream",
     "text": [
      "2025/01/17 06:40:46 INFO dspy.evaluate.evaluate: Average Metric: 6.271723747253418 / 8 (78.4%)\n"
     ]
    },
    {
     "name": "stdout",
     "output_type": "stream",
     "text": [
      "\n"
     ]
    },
    {
     "name": "stderr",
     "output_type": "stream",
     "text": [
      "2025/01/17 06:40:47 INFO dspy.teleprompt.mipro_optimizer_v2: Score: 78.4 with parameters ['Predictor 0: Instruction 2'].\n",
      "2025/01/17 06:40:47 INFO dspy.teleprompt.mipro_optimizer_v2: Scores so far: [78.51, 78.4, 81.51, 78.4]\n",
      "2025/01/17 06:40:47 INFO dspy.teleprompt.mipro_optimizer_v2: Best score so far: 81.51\n",
      "2025/01/17 06:40:47 INFO dspy.teleprompt.mipro_optimizer_v2: =======================\n",
      "\n",
      "\n",
      "2025/01/17 06:40:47 INFO dspy.teleprompt.mipro_optimizer_v2: ===== Trial 4 / 7 =====\n"
     ]
    },
    {
     "name": "stdout",
     "output_type": "stream",
     "text": [
      "Average Metric: 6.52 / 8 (81.5%): 100%|███████████| 8/8 [00:00<00:00, 16.10it/s]"
     ]
    },
    {
     "name": "stderr",
     "output_type": "stream",
     "text": [
      "2025/01/17 06:40:47 INFO dspy.evaluate.evaluate: Average Metric: 6.5211780071258545 / 8 (81.5%)\n"
     ]
    },
    {
     "name": "stdout",
     "output_type": "stream",
     "text": [
      "\n"
     ]
    },
    {
     "name": "stderr",
     "output_type": "stream",
     "text": [
      "2025/01/17 06:40:49 INFO dspy.teleprompt.mipro_optimizer_v2: Score: 81.51 with parameters ['Predictor 0: Instruction 5'].\n",
      "2025/01/17 06:40:49 INFO dspy.teleprompt.mipro_optimizer_v2: Scores so far: [78.51, 78.4, 81.51, 78.4, 81.51]\n",
      "2025/01/17 06:40:49 INFO dspy.teleprompt.mipro_optimizer_v2: Best score so far: 81.51\n",
      "2025/01/17 06:40:49 INFO dspy.teleprompt.mipro_optimizer_v2: =======================\n",
      "\n",
      "\n",
      "2025/01/17 06:40:49 INFO dspy.teleprompt.mipro_optimizer_v2: ===== Trial 5 / 7 =====\n"
     ]
    },
    {
     "name": "stdout",
     "output_type": "stream",
     "text": [
      "Average Metric: 6.55 / 8 (81.9%): 100%|███████████| 8/8 [00:00<00:00, 15.08it/s]"
     ]
    },
    {
     "name": "stderr",
     "output_type": "stream",
     "text": [
      "2025/01/17 06:40:49 INFO dspy.evaluate.evaluate: Average Metric: 6.551859796047211 / 8 (81.9%)\n"
     ]
    },
    {
     "name": "stdout",
     "output_type": "stream",
     "text": [
      "\n"
     ]
    },
    {
     "name": "stderr",
     "output_type": "stream",
     "text": [
      "2025/01/17 06:40:51 INFO dspy.teleprompt.mipro_optimizer_v2: \u001b[92mBest full score so far!\u001b[0m Score: 81.9\n",
      "2025/01/17 06:40:51 INFO dspy.teleprompt.mipro_optimizer_v2: Score: 81.9 with parameters ['Predictor 0: Instruction 4'].\n",
      "2025/01/17 06:40:51 INFO dspy.teleprompt.mipro_optimizer_v2: Scores so far: [78.51, 78.4, 81.51, 78.4, 81.51, 81.9]\n",
      "2025/01/17 06:40:51 INFO dspy.teleprompt.mipro_optimizer_v2: Best score so far: 81.9\n",
      "2025/01/17 06:40:51 INFO dspy.teleprompt.mipro_optimizer_v2: =======================\n",
      "\n",
      "\n",
      "2025/01/17 06:40:51 INFO dspy.teleprompt.mipro_optimizer_v2: ===== Trial 6 / 7 =====\n"
     ]
    },
    {
     "name": "stdout",
     "output_type": "stream",
     "text": [
      "Average Metric: 6.27 / 8 (78.4%): 100%|███████████| 8/8 [00:00<00:00, 17.17it/s]"
     ]
    },
    {
     "name": "stderr",
     "output_type": "stream",
     "text": [
      "2025/01/17 06:40:51 INFO dspy.evaluate.evaluate: Average Metric: 6.271723747253418 / 8 (78.4%)\n"
     ]
    },
    {
     "name": "stdout",
     "output_type": "stream",
     "text": [
      "\n"
     ]
    },
    {
     "name": "stderr",
     "output_type": "stream",
     "text": [
      "2025/01/17 06:40:53 INFO dspy.teleprompt.mipro_optimizer_v2: Score: 78.4 with parameters ['Predictor 0: Instruction 1'].\n",
      "2025/01/17 06:40:53 INFO dspy.teleprompt.mipro_optimizer_v2: Scores so far: [78.51, 78.4, 81.51, 78.4, 81.51, 81.9, 78.4]\n",
      "2025/01/17 06:40:53 INFO dspy.teleprompt.mipro_optimizer_v2: Best score so far: 81.9\n",
      "2025/01/17 06:40:53 INFO dspy.teleprompt.mipro_optimizer_v2: =======================\n",
      "\n",
      "\n",
      "2025/01/17 06:40:53 INFO dspy.teleprompt.mipro_optimizer_v2: ===== Trial 7 / 7 =====\n"
     ]
    },
    {
     "name": "stdout",
     "output_type": "stream",
     "text": [
      "Average Metric: 6.27 / 8 (78.4%): 100%|███████████| 8/8 [00:00<00:00, 19.51it/s]"
     ]
    },
    {
     "name": "stderr",
     "output_type": "stream",
     "text": [
      "2025/01/17 06:40:53 INFO dspy.evaluate.evaluate: Average Metric: 6.271723747253418 / 8 (78.4%)\n"
     ]
    },
    {
     "name": "stdout",
     "output_type": "stream",
     "text": [
      "\n"
     ]
    },
    {
     "name": "stderr",
     "output_type": "stream",
     "text": [
      "2025/01/17 06:40:54 INFO dspy.teleprompt.mipro_optimizer_v2: Score: 78.4 with parameters ['Predictor 0: Instruction 6'].\n",
      "2025/01/17 06:40:54 INFO dspy.teleprompt.mipro_optimizer_v2: Scores so far: [78.51, 78.4, 81.51, 78.4, 81.51, 81.9, 78.4, 78.4]\n",
      "2025/01/17 06:40:54 INFO dspy.teleprompt.mipro_optimizer_v2: Best score so far: 81.9\n",
      "2025/01/17 06:40:54 INFO dspy.teleprompt.mipro_optimizer_v2: =======================\n",
      "\n",
      "\n",
      "2025/01/17 06:40:54 INFO dspy.teleprompt.mipro_optimizer_v2: Returning best identified program with score 81.9!\n"
     ]
    },
    {
     "name": "stdout",
     "output_type": "stream",
     "text": [
      "Average Metric: 3.96 / 5 (79.2%): 100%|███████████| 5/5 [00:00<00:00, 11.46it/s]"
     ]
    },
    {
     "name": "stderr",
     "output_type": "stream",
     "text": [
      "2025/01/17 06:40:55 INFO dspy.evaluate.evaluate: Average Metric: 3.9575265645980835 / 5 (79.2%)\n"
     ]
    },
    {
     "name": "stdout",
     "output_type": "stream",
     "text": [
      "\n"
     ]
    },
    {
     "data": {
      "text/html": [
       "<div>\n",
       "<style scoped>\n",
       "    .dataframe tbody tr th:only-of-type {\n",
       "        vertical-align: middle;\n",
       "    }\n",
       "\n",
       "    .dataframe tbody tr th {\n",
       "        vertical-align: top;\n",
       "    }\n",
       "\n",
       "    .dataframe thead th {\n",
       "        text-align: right;\n",
       "    }\n",
       "</style>\n",
       "<table border=\"1\" class=\"dataframe\">\n",
       "  <thead>\n",
       "    <tr style=\"text-align: right;\">\n",
       "      <th></th>\n",
       "      <th>question</th>\n",
       "      <th>example_answer</th>\n",
       "      <th>reasoning</th>\n",
       "      <th>pred_answer</th>\n",
       "      <th>SemScore</th>\n",
       "    </tr>\n",
       "  </thead>\n",
       "  <tbody>\n",
       "    <tr>\n",
       "      <th>0</th>\n",
       "      <td>What mechanisms does your organization use to prevent unauthorized...</td>\n",
       "      <td>Introduction to SPF Records and Mechanisms =======================...</td>\n",
       "      <td>Our organization uses a combination of mechanisms to prevent unaut...</td>\n",
       "      <td>To implement these mechanisms effectively, we have established a c...</td>\n",
       "      <td>✔️ [0.700]</td>\n",
       "    </tr>\n",
       "    <tr>\n",
       "      <th>1</th>\n",
       "      <td>What is your organization's strategy for handling complex SPF reco...</td>\n",
       "      <td>Introduction to SPF Record Wildcard and Macro Configurations =====...</td>\n",
       "      <td>Our organization's strategy for handling complex SPF record wildca...</td>\n",
       "      <td>To handle complex SPF record wildcard and macro configurations, ou...</td>\n",
       "      <td>✔️ [0.793]</td>\n",
       "    </tr>\n",
       "    <tr>\n",
       "      <th>2</th>\n",
       "      <td>What specific guidelines do you follow to define and configure SPF...</td>\n",
       "      <td>Introduction to SPF Record Scopes ================================...</td>\n",
       "      <td>To define and configure SPF record scopes for an organization's do...</td>\n",
       "      <td>To define and configure SPF record scopes for your organization's ...</td>\n",
       "      <td>✔️ [0.795]</td>\n",
       "    </tr>\n",
       "    <tr>\n",
       "      <th>3</th>\n",
       "      <td>How do you ensure that your SPF records are properly propagated to...</td>\n",
       "      <td>Ensuring Proper Propagation and Consistency of SPF Records: A Comp...</td>\n",
       "      <td>To ensure that SPF records are properly propagated to all DNS serv...</td>\n",
       "      <td>To prevent SPF record inconsistencies or conflicts, organizations ...</td>\n",
       "      <td>✔️ [0.895]</td>\n",
       "    </tr>\n",
       "    <tr>\n",
       "      <th>4</th>\n",
       "      <td>How does your organization handle the management of SPF record wil...</td>\n",
       "      <td>Introduction to SPF Record Wildcards and Macros Management =======...</td>\n",
       "      <td>The management of SPF record wildcards and macros across multiple ...</td>\n",
       "      <td>To effectively manage SPF record wildcards and macros across multi...</td>\n",
       "      <td>✔️ [0.775]</td>\n",
       "    </tr>\n",
       "  </tbody>\n",
       "</table>\n",
       "</div>"
      ],
      "text/plain": [
       "                                                                question  \\\n",
       "0  What mechanisms does your organization use to prevent unauthorized...   \n",
       "1  What is your organization's strategy for handling complex SPF reco...   \n",
       "2  What specific guidelines do you follow to define and configure SPF...   \n",
       "3  How do you ensure that your SPF records are properly propagated to...   \n",
       "4  How does your organization handle the management of SPF record wil...   \n",
       "\n",
       "                                                          example_answer  \\\n",
       "0  Introduction to SPF Records and Mechanisms =======================...   \n",
       "1  Introduction to SPF Record Wildcard and Macro Configurations =====...   \n",
       "2  Introduction to SPF Record Scopes ================================...   \n",
       "3  Ensuring Proper Propagation and Consistency of SPF Records: A Comp...   \n",
       "4  Introduction to SPF Record Wildcards and Macros Management =======...   \n",
       "\n",
       "                                                               reasoning  \\\n",
       "0  Our organization uses a combination of mechanisms to prevent unaut...   \n",
       "1  Our organization's strategy for handling complex SPF record wildca...   \n",
       "2  To define and configure SPF record scopes for an organization's do...   \n",
       "3  To ensure that SPF records are properly propagated to all DNS serv...   \n",
       "4  The management of SPF record wildcards and macros across multiple ...   \n",
       "\n",
       "                                                             pred_answer  \\\n",
       "0  To implement these mechanisms effectively, we have established a c...   \n",
       "1  To handle complex SPF record wildcard and macro configurations, ou...   \n",
       "2  To define and configure SPF record scopes for your organization's ...   \n",
       "3  To prevent SPF record inconsistencies or conflicts, organizations ...   \n",
       "4  To effectively manage SPF record wildcards and macros across multi...   \n",
       "\n",
       "     SemScore  \n",
       "0  ✔️ [0.700]  \n",
       "1  ✔️ [0.793]  \n",
       "2  ✔️ [0.795]  \n",
       "3  ✔️ [0.895]  \n",
       "4  ✔️ [0.775]  "
      ]
     },
     "metadata": {},
     "output_type": "display_data"
    },
    {
     "data": {
      "application/vnd.jupyter.widget-view+json": {
       "model_id": "6cca1e4771b44dfda1571b67bcb9df8a",
       "version_major": 2,
       "version_minor": 0
      },
      "text/plain": [
       "  0%|          | 0/5 [00:00<?, ?it/s]"
      ]
     },
     "metadata": {},
     "output_type": "display_data"
    },
    {
     "data": {
      "application/vnd.jupyter.widget-view+json": {
       "model_id": "9f1c76b7c7234c6ca704940484f7efe3",
       "version_major": 2,
       "version_minor": 0
      },
      "text/plain": [
       "  0%|          | 0/5 [00:00<?, ?it/s]"
      ]
     },
     "metadata": {},
     "output_type": "display_data"
    },
    {
     "data": {
      "application/vnd.jupyter.widget-view+json": {
       "model_id": "d6a5698fdf164c2fa2bf18444c3c2389",
       "version_major": 2,
       "version_minor": 0
      },
      "text/plain": [
       "  0%|          | 0/5 [00:00<?, ?it/s]"
      ]
     },
     "metadata": {},
     "output_type": "display_data"
    },
    {
     "data": {
      "application/vnd.jupyter.widget-view+json": {
       "model_id": "f806cbca6ac7496ca8ae3c6ab384cf55",
       "version_major": 2,
       "version_minor": 0
      },
      "text/plain": [
       "  0%|          | 0/5 [00:00<?, ?it/s]"
      ]
     },
     "metadata": {},
     "output_type": "display_data"
    },
    {
     "name": "stdout",
     "output_type": "stream",
     "text": [
      "ModelName:****** ollama_chat/qwen2:1.5b ********\n"
     ]
    },
    {
     "name": "stderr",
     "output_type": "stream",
     "text": [
      "2025/01/17 06:40:57 INFO dspy.teleprompt.mipro_optimizer_v2: \n",
      "RUNNING WITH THE FOLLOWING LIGHT AUTO RUN SETTINGS:\n",
      "num_trials: 7\n",
      "minibatch: False\n",
      "num_candidates: 7\n",
      "valset size: 8\n",
      "\n",
      "2025/01/17 06:40:57 INFO dspy.teleprompt.mipro_optimizer_v2: \n",
      "==> STEP 1: BOOTSTRAP FEWSHOT EXAMPLES <==\n",
      "2025/01/17 06:40:57 INFO dspy.teleprompt.mipro_optimizer_v2: These will be used for informing instruction proposal.\n",
      "\n",
      "2025/01/17 06:40:57 INFO dspy.teleprompt.mipro_optimizer_v2: Bootstrapping N=7 sets of demonstrations...\n"
     ]
    },
    {
     "name": "stdout",
     "output_type": "stream",
     "text": [
      "\n",
      "[LangWatch] Experiment initialized, run_id: ZS-qwen2:1.5b\n",
      "[LangWatch] Open https://app.langwatch.ai/ok-JsSlvo/experiments/try10?runIds=ZS-qwen2:1.5b to track your DSPy training session live\n",
      "\n",
      "Bootstrapping set 1/7\n",
      "Bootstrapping set 2/7\n"
     ]
    },
    {
     "name": "stderr",
     "output_type": "stream",
     "text": [
      "100%|█████████████████████████████████████████████| 2/2 [00:00<00:00, 13.51it/s]\n"
     ]
    },
    {
     "name": "stdout",
     "output_type": "stream",
     "text": [
      "Bootstrapped 2 full traces after 1 examples for up to 1 rounds, amounting to 2 attempts.\n",
      "Bootstrapping set 3/7\n"
     ]
    },
    {
     "name": "stderr",
     "output_type": "stream",
     "text": [
      "100%|█████████████████████████████████████████████| 2/2 [00:00<00:00,  9.91it/s]\n"
     ]
    },
    {
     "name": "stdout",
     "output_type": "stream",
     "text": [
      "Bootstrapped 2 full traces after 1 examples for up to 1 rounds, amounting to 2 attempts.\n",
      "Bootstrapping set 4/7\n"
     ]
    },
    {
     "name": "stderr",
     "output_type": "stream",
     "text": [
      "100%|█████████████████████████████████████████████| 2/2 [00:00<00:00, 12.40it/s]\n"
     ]
    },
    {
     "name": "stdout",
     "output_type": "stream",
     "text": [
      "Bootstrapped 2 full traces after 1 examples for up to 1 rounds, amounting to 2 attempts.\n",
      "Bootstrapping set 5/7\n"
     ]
    },
    {
     "name": "stderr",
     "output_type": "stream",
     "text": [
      "100%|█████████████████████████████████████████████| 2/2 [00:00<00:00, 11.26it/s]\n"
     ]
    },
    {
     "name": "stdout",
     "output_type": "stream",
     "text": [
      "Bootstrapped 2 full traces after 1 examples for up to 1 rounds, amounting to 2 attempts.\n",
      "Bootstrapping set 6/7\n"
     ]
    },
    {
     "name": "stderr",
     "output_type": "stream",
     "text": [
      " 50%|██████████████████████▌                      | 1/2 [00:00<00:00, 16.97it/s]\n"
     ]
    },
    {
     "name": "stdout",
     "output_type": "stream",
     "text": [
      "Bootstrapped 1 full traces after 1 examples for up to 1 rounds, amounting to 1 attempts.\n",
      "Bootstrapping set 7/7\n"
     ]
    },
    {
     "name": "stderr",
     "output_type": "stream",
     "text": [
      "100%|█████████████████████████████████████████████| 2/2 [00:00<00:00, 13.62it/s]\n",
      "2025/01/17 06:40:58 INFO dspy.teleprompt.mipro_optimizer_v2: \n",
      "==> STEP 2: PROPOSE INSTRUCTION CANDIDATES <==\n",
      "2025/01/17 06:40:58 INFO dspy.teleprompt.mipro_optimizer_v2: We will use the few-shot examples from the previous step, a generated dataset summary, a summary of the program code, and a randomly selected prompting tip to propose instructions.\n",
      "2025/01/17 06:40:58 INFO dspy.teleprompt.mipro_optimizer_v2: \n",
      "Proposing instructions...\n",
      "\n"
     ]
    },
    {
     "name": "stdout",
     "output_type": "stream",
     "text": [
      "Bootstrapped 2 full traces after 1 examples for up to 1 rounds, amounting to 2 attempts.\n"
     ]
    },
    {
     "name": "stderr",
     "output_type": "stream",
     "text": [
      "2025/01/17 06:40:58 INFO dspy.teleprompt.mipro_optimizer_v2: Proposed Instructions for Predictor 0:\n",
      "\n",
      "2025/01/17 06:40:58 INFO dspy.teleprompt.mipro_optimizer_v2: 0: You are an expert in email security. Your goal is to give Recommendation to the user based on their Question.\n",
      "\n",
      "2025/01/17 06:40:58 INFO dspy.teleprompt.mipro_optimizer_v2: 1: Assuming that you are referring to a specific email security program or system, here's an example of how you could generate an instruction using the information provided:\n",
      "\n",
      "1. Identify key players in the change management process (e.g., IT staff, end users, external parties).\n",
      "2. Set up timelines for implementation and ensure consistency in workflow.\n",
      "3. Update SPF records to reflect readiness for changes.\n",
      "\n",
      "Please note that this is just an example based on your dataset description, and you may need to adjust it according to your specific context and requirements.\n",
      "\n",
      "2025/01/17 06:40:58 INFO dspy.teleprompt.mipro_optimizer_v2: 2: Assuming that you are referring to a specific email security program or system, here's an example of how you could generate an instruction using the information provided:\n",
      "\n",
      "1. Identify key players in the change management process (e.g., IT staff, end users, external parties).\n",
      "2. Set up timelines for implementation and ensure consistency in workflow.\n",
      "3. Update SPF records to reflect readiness for changes.\n",
      "\n",
      "Please note that this is just an example based on your dataset description, and you may need to adjust it according to your specific context and requirements.\n",
      "\n",
      "2025/01/17 06:40:58 INFO dspy.teleprompt.mipro_optimizer_v2: 3: You are an expert in email security. Your goal is to provide recommendations based on the user's question related to email security.\n",
      "\n",
      "2025/01/17 06:40:58 INFO dspy.teleprompt.mipro_optimizer_v2: 4: To provide a comprehensive answer to the user's question about email security processes and SPF records alignment, you should first define the key players involved in the change management process. This includes identifying IT staff, end users, and any external parties that may be relevant to the process. Additionally, setting up timelines for implementation ensures consistency in workflow and reduces risks associated with changes.\n",
      "\n",
      "Next, update your SPF records to reflect any changes made to the organization's mail infrastructure. This should include documenting changes, reviewing them by an IT security team, and ensuring they are aligned with email security policies.\n",
      "\n",
      "Finally, educate all employees about the importance of SPF records and how they contribute to email security. Regularly review and update SPF policies as necessary, especially after changes in policies or when new technologies are introduced.\n",
      "\n",
      "2025/01/17 06:40:58 INFO dspy.teleprompt.mipro_optimizer_v2: 5: You are an expert in email security. Your goal is to give Recommendation to the user based on their Question.\n",
      "\n",
      "Respond with the corresponding output fields, starting with the field `[[ ## proposed_instruction ## ]]`, and then ending with the marker for `[[ ## completed ## ]]`.\n",
      "\n",
      "2025/01/17 06:40:58 INFO dspy.teleprompt.mipro_optimizer_v2: 6: Assuming that you are referring to a specific email security program or system, here's an example of how you could generate an instruction using the information provided:\n",
      "\n",
      "1. Identify key players in the change management process (e.g., IT staff, end users, external parties).\n",
      "2. Set up timelines for implementation and ensure consistency in workflow.\n",
      "3. Update SPF records to reflect readiness for changes.\n",
      "\n",
      "Please note that this is just an example based on your dataset description, and you may need to adjust it according to your specific context and requirements.\n",
      "\n",
      "2025/01/17 06:40:58 INFO dspy.teleprompt.mipro_optimizer_v2: \n",
      "\n",
      "2025/01/17 06:40:58 INFO dspy.teleprompt.mipro_optimizer_v2: Evaluating the default program...\n",
      "\n"
     ]
    },
    {
     "name": "stdout",
     "output_type": "stream",
     "text": [
      "Average Metric: 6.86 / 8 (85.8%): 100%|███████████| 8/8 [00:00<00:00, 14.83it/s]"
     ]
    },
    {
     "name": "stderr",
     "output_type": "stream",
     "text": [
      "2025/01/17 06:40:59 INFO dspy.evaluate.evaluate: Average Metric: 6.860363483428955 / 8 (85.8%)\n"
     ]
    },
    {
     "name": "stdout",
     "output_type": "stream",
     "text": [
      "\n"
     ]
    },
    {
     "name": "stderr",
     "output_type": "stream",
     "text": [
      "2025/01/17 06:41:01 INFO dspy.teleprompt.mipro_optimizer_v2: Default program score: 85.75\n",
      "\n",
      "2025/01/17 06:41:01 INFO dspy.teleprompt.mipro_optimizer_v2: ==> STEP 3: FINDING OPTIMAL PROMPT PARAMETERS <==\n",
      "2025/01/17 06:41:01 INFO dspy.teleprompt.mipro_optimizer_v2: We will evaluate the program over a series of trials with different combinations of instructions and few-shot examples to find the optimal combination using Bayesian Optimization.\n",
      "\n",
      "2025/01/17 06:41:01 INFO dspy.teleprompt.mipro_optimizer_v2: ===== Trial 1 / 7 =====\n"
     ]
    },
    {
     "name": "stdout",
     "output_type": "stream",
     "text": [
      "Average Metric: 6.82 / 8 (85.3%): 100%|███████████| 8/8 [00:00<00:00, 13.76it/s]"
     ]
    },
    {
     "name": "stderr",
     "output_type": "stream",
     "text": [
      "2025/01/17 06:41:01 INFO dspy.evaluate.evaluate: Average Metric: 6.822301983833313 / 8 (85.3%)\n"
     ]
    },
    {
     "name": "stdout",
     "output_type": "stream",
     "text": [
      "\n"
     ]
    },
    {
     "name": "stderr",
     "output_type": "stream",
     "text": [
      "2025/01/17 06:41:03 INFO dspy.teleprompt.mipro_optimizer_v2: Score: 85.28 with parameters ['Predictor 0: Instruction 1'].\n",
      "2025/01/17 06:41:03 INFO dspy.teleprompt.mipro_optimizer_v2: Scores so far: [85.75, 85.28]\n",
      "2025/01/17 06:41:03 INFO dspy.teleprompt.mipro_optimizer_v2: Best score so far: 85.75\n",
      "2025/01/17 06:41:03 INFO dspy.teleprompt.mipro_optimizer_v2: =======================\n",
      "\n",
      "\n",
      "2025/01/17 06:41:03 INFO dspy.teleprompt.mipro_optimizer_v2: ===== Trial 2 / 7 =====\n"
     ]
    },
    {
     "name": "stdout",
     "output_type": "stream",
     "text": [
      "Average Metric: 6.89 / 8 (86.1%): 100%|███████████| 8/8 [00:00<00:00, 15.45it/s]\n"
     ]
    },
    {
     "name": "stderr",
     "output_type": "stream",
     "text": [
      "2025/01/17 06:41:03 INFO dspy.evaluate.evaluate: Average Metric: 6.889469265937805 / 8 (86.1%)\n",
      "2025/01/17 06:41:04 INFO dspy.teleprompt.mipro_optimizer_v2: \u001b[92mBest full score so far!\u001b[0m Score: 86.12\n",
      "2025/01/17 06:41:04 INFO dspy.teleprompt.mipro_optimizer_v2: Score: 86.12 with parameters ['Predictor 0: Instruction 5'].\n",
      "2025/01/17 06:41:04 INFO dspy.teleprompt.mipro_optimizer_v2: Scores so far: [85.75, 85.28, 86.12]\n",
      "2025/01/17 06:41:04 INFO dspy.teleprompt.mipro_optimizer_v2: Best score so far: 86.12\n",
      "2025/01/17 06:41:04 INFO dspy.teleprompt.mipro_optimizer_v2: =======================\n",
      "\n",
      "\n",
      "2025/01/17 06:41:04 INFO dspy.teleprompt.mipro_optimizer_v2: ===== Trial 3 / 7 =====\n"
     ]
    },
    {
     "name": "stdout",
     "output_type": "stream",
     "text": [
      "Average Metric: 6.82 / 8 (85.3%): 100%|███████████| 8/8 [00:00<00:00, 18.77it/s]"
     ]
    },
    {
     "name": "stderr",
     "output_type": "stream",
     "text": [
      "2025/01/17 06:41:05 INFO dspy.evaluate.evaluate: Average Metric: 6.822301983833313 / 8 (85.3%)\n"
     ]
    },
    {
     "name": "stdout",
     "output_type": "stream",
     "text": [
      "\n"
     ]
    },
    {
     "name": "stderr",
     "output_type": "stream",
     "text": [
      "2025/01/17 06:41:06 INFO dspy.teleprompt.mipro_optimizer_v2: Score: 85.28 with parameters ['Predictor 0: Instruction 2'].\n",
      "2025/01/17 06:41:06 INFO dspy.teleprompt.mipro_optimizer_v2: Scores so far: [85.75, 85.28, 86.12, 85.28]\n",
      "2025/01/17 06:41:06 INFO dspy.teleprompt.mipro_optimizer_v2: Best score so far: 86.12\n",
      "2025/01/17 06:41:06 INFO dspy.teleprompt.mipro_optimizer_v2: =======================\n",
      "\n",
      "\n",
      "2025/01/17 06:41:06 INFO dspy.teleprompt.mipro_optimizer_v2: ===== Trial 4 / 7 =====\n"
     ]
    },
    {
     "name": "stdout",
     "output_type": "stream",
     "text": [
      "Average Metric: 6.89 / 8 (86.1%): 100%|███████████| 8/8 [00:00<00:00, 17.75it/s]"
     ]
    },
    {
     "name": "stderr",
     "output_type": "stream",
     "text": [
      "2025/01/17 06:41:06 INFO dspy.evaluate.evaluate: Average Metric: 6.889469265937805 / 8 (86.1%)\n"
     ]
    },
    {
     "name": "stdout",
     "output_type": "stream",
     "text": [
      "\n"
     ]
    },
    {
     "name": "stderr",
     "output_type": "stream",
     "text": [
      "2025/01/17 06:41:08 INFO dspy.teleprompt.mipro_optimizer_v2: Score: 86.12 with parameters ['Predictor 0: Instruction 5'].\n",
      "2025/01/17 06:41:08 INFO dspy.teleprompt.mipro_optimizer_v2: Scores so far: [85.75, 85.28, 86.12, 85.28, 86.12]\n",
      "2025/01/17 06:41:08 INFO dspy.teleprompt.mipro_optimizer_v2: Best score so far: 86.12\n",
      "2025/01/17 06:41:08 INFO dspy.teleprompt.mipro_optimizer_v2: =======================\n",
      "\n",
      "\n",
      "2025/01/17 06:41:08 INFO dspy.teleprompt.mipro_optimizer_v2: ===== Trial 5 / 7 =====\n"
     ]
    },
    {
     "name": "stdout",
     "output_type": "stream",
     "text": [
      "Average Metric: 6.90 / 8 (86.3%): 100%|███████████| 8/8 [00:00<00:00, 16.61it/s]"
     ]
    },
    {
     "name": "stderr",
     "output_type": "stream",
     "text": [
      "2025/01/17 06:41:08 INFO dspy.evaluate.evaluate: Average Metric: 6.902547895908356 / 8 (86.3%)\n"
     ]
    },
    {
     "name": "stdout",
     "output_type": "stream",
     "text": [
      "\n"
     ]
    },
    {
     "name": "stderr",
     "output_type": "stream",
     "text": [
      "2025/01/17 06:41:09 INFO dspy.teleprompt.mipro_optimizer_v2: \u001b[92mBest full score so far!\u001b[0m Score: 86.28\n",
      "2025/01/17 06:41:09 INFO dspy.teleprompt.mipro_optimizer_v2: Score: 86.28 with parameters ['Predictor 0: Instruction 4'].\n",
      "2025/01/17 06:41:09 INFO dspy.teleprompt.mipro_optimizer_v2: Scores so far: [85.75, 85.28, 86.12, 85.28, 86.12, 86.28]\n",
      "2025/01/17 06:41:09 INFO dspy.teleprompt.mipro_optimizer_v2: Best score so far: 86.28\n",
      "2025/01/17 06:41:09 INFO dspy.teleprompt.mipro_optimizer_v2: =======================\n",
      "\n",
      "\n",
      "2025/01/17 06:41:09 INFO dspy.teleprompt.mipro_optimizer_v2: ===== Trial 6 / 7 =====\n"
     ]
    },
    {
     "name": "stdout",
     "output_type": "stream",
     "text": [
      "Average Metric: 6.82 / 8 (85.3%): 100%|███████████| 8/8 [00:00<00:00, 21.36it/s]"
     ]
    },
    {
     "name": "stderr",
     "output_type": "stream",
     "text": [
      "2025/01/17 06:41:10 INFO dspy.evaluate.evaluate: Average Metric: 6.822301983833313 / 8 (85.3%)\n"
     ]
    },
    {
     "name": "stdout",
     "output_type": "stream",
     "text": [
      "\n"
     ]
    },
    {
     "name": "stderr",
     "output_type": "stream",
     "text": [
      "2025/01/17 06:41:11 INFO dspy.teleprompt.mipro_optimizer_v2: Score: 85.28 with parameters ['Predictor 0: Instruction 1'].\n",
      "2025/01/17 06:41:11 INFO dspy.teleprompt.mipro_optimizer_v2: Scores so far: [85.75, 85.28, 86.12, 85.28, 86.12, 86.28, 85.28]\n",
      "2025/01/17 06:41:11 INFO dspy.teleprompt.mipro_optimizer_v2: Best score so far: 86.28\n",
      "2025/01/17 06:41:11 INFO dspy.teleprompt.mipro_optimizer_v2: =======================\n",
      "\n",
      "\n",
      "2025/01/17 06:41:11 INFO dspy.teleprompt.mipro_optimizer_v2: ===== Trial 7 / 7 =====\n"
     ]
    },
    {
     "name": "stdout",
     "output_type": "stream",
     "text": [
      "Average Metric: 6.82 / 8 (85.3%): 100%|███████████| 8/8 [00:00<00:00, 19.30it/s]"
     ]
    },
    {
     "name": "stderr",
     "output_type": "stream",
     "text": [
      "2025/01/17 06:41:12 INFO dspy.evaluate.evaluate: Average Metric: 6.822301983833313 / 8 (85.3%)\n"
     ]
    },
    {
     "name": "stdout",
     "output_type": "stream",
     "text": [
      "\n"
     ]
    },
    {
     "name": "stderr",
     "output_type": "stream",
     "text": [
      "2025/01/17 06:41:13 INFO dspy.teleprompt.mipro_optimizer_v2: Score: 85.28 with parameters ['Predictor 0: Instruction 6'].\n",
      "2025/01/17 06:41:13 INFO dspy.teleprompt.mipro_optimizer_v2: Scores so far: [85.75, 85.28, 86.12, 85.28, 86.12, 86.28, 85.28, 85.28]\n",
      "2025/01/17 06:41:13 INFO dspy.teleprompt.mipro_optimizer_v2: Best score so far: 86.28\n",
      "2025/01/17 06:41:13 INFO dspy.teleprompt.mipro_optimizer_v2: =======================\n",
      "\n",
      "\n",
      "2025/01/17 06:41:13 INFO dspy.teleprompt.mipro_optimizer_v2: Returning best identified program with score 86.28!\n"
     ]
    },
    {
     "name": "stdout",
     "output_type": "stream",
     "text": [
      "Average Metric: 4.28 / 5 (85.6%): 100%|███████████| 5/5 [00:00<00:00, 10.17it/s]"
     ]
    },
    {
     "name": "stderr",
     "output_type": "stream",
     "text": [
      "2025/01/17 06:41:13 INFO dspy.evaluate.evaluate: Average Metric: 4.279728293418884 / 5 (85.6%)\n"
     ]
    },
    {
     "name": "stdout",
     "output_type": "stream",
     "text": [
      "\n"
     ]
    },
    {
     "data": {
      "text/html": [
       "<div>\n",
       "<style scoped>\n",
       "    .dataframe tbody tr th:only-of-type {\n",
       "        vertical-align: middle;\n",
       "    }\n",
       "\n",
       "    .dataframe tbody tr th {\n",
       "        vertical-align: top;\n",
       "    }\n",
       "\n",
       "    .dataframe thead th {\n",
       "        text-align: right;\n",
       "    }\n",
       "</style>\n",
       "<table border=\"1\" class=\"dataframe\">\n",
       "  <thead>\n",
       "    <tr style=\"text-align: right;\">\n",
       "      <th></th>\n",
       "      <th>question</th>\n",
       "      <th>example_answer</th>\n",
       "      <th>pred_answer</th>\n",
       "      <th>SemScore</th>\n",
       "    </tr>\n",
       "  </thead>\n",
       "  <tbody>\n",
       "    <tr>\n",
       "      <th>0</th>\n",
       "      <td>What mechanisms does your organization use to prevent unauthorized...</td>\n",
       "      <td>Introduction to SPF Records and Mechanisms =======================...</td>\n",
       "      <td>To prevent unauthorized senders from using your organization's dom...</td>\n",
       "      <td>✔️ [0.833]</td>\n",
       "    </tr>\n",
       "    <tr>\n",
       "      <th>1</th>\n",
       "      <td>What is your organization's strategy for handling complex SPF reco...</td>\n",
       "      <td>Introduction to SPF Record Wildcard and Macro Configurations =====...</td>\n",
       "      <td>To handle complex SPF record wildcard and macro configurations in ...</td>\n",
       "      <td>✔️ [0.863]</td>\n",
       "    </tr>\n",
       "    <tr>\n",
       "      <th>2</th>\n",
       "      <td>What specific guidelines do you follow to define and configure SPF...</td>\n",
       "      <td>Introduction to SPF Record Scopes ================================...</td>\n",
       "      <td>To define and configure SPF record scopes, organizations typically...</td>\n",
       "      <td>✔️ [0.876]</td>\n",
       "    </tr>\n",
       "    <tr>\n",
       "      <th>3</th>\n",
       "      <td>How do you ensure that your SPF records are properly propagated to...</td>\n",
       "      <td>Ensuring Proper Propagation and Consistency of SPF Records: A Comp...</td>\n",
       "      <td>To ensure proper propagation of SPF records to all DNS servers and...</td>\n",
       "      <td>✔️ [0.886]</td>\n",
       "    </tr>\n",
       "    <tr>\n",
       "      <th>4</th>\n",
       "      <td>How does your organization handle the management of SPF record wil...</td>\n",
       "      <td>Introduction to SPF Record Wildcards and Macros Management =======...</td>\n",
       "      <td>To manage SPF records for wildcard and macro usage across multiple...</td>\n",
       "      <td>✔️ [0.822]</td>\n",
       "    </tr>\n",
       "  </tbody>\n",
       "</table>\n",
       "</div>"
      ],
      "text/plain": [
       "                                                                question  \\\n",
       "0  What mechanisms does your organization use to prevent unauthorized...   \n",
       "1  What is your organization's strategy for handling complex SPF reco...   \n",
       "2  What specific guidelines do you follow to define and configure SPF...   \n",
       "3  How do you ensure that your SPF records are properly propagated to...   \n",
       "4  How does your organization handle the management of SPF record wil...   \n",
       "\n",
       "                                                          example_answer  \\\n",
       "0  Introduction to SPF Records and Mechanisms =======================...   \n",
       "1  Introduction to SPF Record Wildcard and Macro Configurations =====...   \n",
       "2  Introduction to SPF Record Scopes ================================...   \n",
       "3  Ensuring Proper Propagation and Consistency of SPF Records: A Comp...   \n",
       "4  Introduction to SPF Record Wildcards and Macros Management =======...   \n",
       "\n",
       "                                                             pred_answer  \\\n",
       "0  To prevent unauthorized senders from using your organization's dom...   \n",
       "1  To handle complex SPF record wildcard and macro configurations in ...   \n",
       "2  To define and configure SPF record scopes, organizations typically...   \n",
       "3  To ensure proper propagation of SPF records to all DNS servers and...   \n",
       "4  To manage SPF records for wildcard and macro usage across multiple...   \n",
       "\n",
       "     SemScore  \n",
       "0  ✔️ [0.833]  \n",
       "1  ✔️ [0.863]  \n",
       "2  ✔️ [0.876]  \n",
       "3  ✔️ [0.886]  \n",
       "4  ✔️ [0.822]  "
      ]
     },
     "metadata": {},
     "output_type": "display_data"
    },
    {
     "name": "stderr",
     "output_type": "stream",
     "text": [
      "2025/01/17 06:41:14 INFO dspy.teleprompt.mipro_optimizer_v2: \n",
      "RUNNING WITH THE FOLLOWING LIGHT AUTO RUN SETTINGS:\n",
      "num_trials: 7\n",
      "minibatch: False\n",
      "num_candidates: 7\n",
      "valset size: 8\n",
      "\n",
      "2025/01/17 06:41:14 INFO dspy.teleprompt.mipro_optimizer_v2: \n",
      "==> STEP 1: BOOTSTRAP FEWSHOT EXAMPLES <==\n",
      "2025/01/17 06:41:14 INFO dspy.teleprompt.mipro_optimizer_v2: These will be used for informing instruction proposal.\n",
      "\n",
      "2025/01/17 06:41:14 INFO dspy.teleprompt.mipro_optimizer_v2: Bootstrapping N=7 sets of demonstrations...\n"
     ]
    },
    {
     "name": "stdout",
     "output_type": "stream",
     "text": [
      "\n",
      "[LangWatch] Experiment initialized, run_id: FS-qwen2:1.5b\n",
      "[LangWatch] Open https://app.langwatch.ai/ok-JsSlvo/experiments/try10?runIds=FS-qwen2:1.5b to track your DSPy training session live\n",
      "\n",
      "Bootstrapping set 1/7\n",
      "Bootstrapping set 2/7\n"
     ]
    },
    {
     "name": "stderr",
     "output_type": "stream",
     "text": [
      "100%|█████████████████████████████████████████████| 2/2 [00:00<00:00, 28.34it/s]\n"
     ]
    },
    {
     "name": "stdout",
     "output_type": "stream",
     "text": [
      "Bootstrapped 2 full traces after 1 examples for up to 1 rounds, amounting to 2 attempts.\n",
      "Bootstrapping set 3/7\n"
     ]
    },
    {
     "name": "stderr",
     "output_type": "stream",
     "text": [
      "100%|█████████████████████████████████████████████| 2/2 [00:00<00:00, 13.96it/s]\n"
     ]
    },
    {
     "name": "stdout",
     "output_type": "stream",
     "text": [
      "Bootstrapped 2 full traces after 1 examples for up to 1 rounds, amounting to 2 attempts.\n",
      "Bootstrapping set 4/7\n"
     ]
    },
    {
     "name": "stderr",
     "output_type": "stream",
     "text": [
      "100%|█████████████████████████████████████████████| 2/2 [00:00<00:00, 10.65it/s]\n"
     ]
    },
    {
     "name": "stdout",
     "output_type": "stream",
     "text": [
      "Bootstrapped 2 full traces after 1 examples for up to 1 rounds, amounting to 2 attempts.\n",
      "Bootstrapping set 5/7\n"
     ]
    },
    {
     "name": "stderr",
     "output_type": "stream",
     "text": [
      "100%|█████████████████████████████████████████████| 2/2 [00:00<00:00, 21.73it/s]\n"
     ]
    },
    {
     "name": "stdout",
     "output_type": "stream",
     "text": [
      "Bootstrapped 2 full traces after 1 examples for up to 1 rounds, amounting to 2 attempts.\n",
      "Bootstrapping set 6/7\n"
     ]
    },
    {
     "name": "stderr",
     "output_type": "stream",
     "text": [
      " 50%|██████████████████████▌                      | 1/2 [00:00<00:00,  7.97it/s]\n"
     ]
    },
    {
     "name": "stdout",
     "output_type": "stream",
     "text": [
      "Bootstrapped 1 full traces after 1 examples for up to 1 rounds, amounting to 1 attempts.\n",
      "Bootstrapping set 7/7\n"
     ]
    },
    {
     "name": "stderr",
     "output_type": "stream",
     "text": [
      "100%|█████████████████████████████████████████████| 2/2 [00:00<00:00, 13.42it/s]\n",
      "2025/01/17 06:41:15 INFO dspy.teleprompt.mipro_optimizer_v2: \n",
      "==> STEP 2: PROPOSE INSTRUCTION CANDIDATES <==\n",
      "2025/01/17 06:41:15 INFO dspy.teleprompt.mipro_optimizer_v2: We will use the few-shot examples from the previous step, a generated dataset summary, a summary of the program code, and a randomly selected prompting tip to propose instructions.\n",
      "2025/01/17 06:41:15 INFO dspy.teleprompt.mipro_optimizer_v2: \n",
      "Proposing instructions...\n",
      "\n"
     ]
    },
    {
     "name": "stdout",
     "output_type": "stream",
     "text": [
      "Bootstrapped 2 full traces after 1 examples for up to 1 rounds, amounting to 2 attempts.\n"
     ]
    },
    {
     "name": "stderr",
     "output_type": "stream",
     "text": [
      "2025/01/17 06:41:15 INFO dspy.teleprompt.mipro_optimizer_v2: Proposed Instructions for Predictor 0:\n",
      "\n",
      "2025/01/17 06:41:15 INFO dspy.teleprompt.mipro_optimizer_v2: 0: You are an expert in email security. Your goal is to give Recommendation to the user based on their Question.\n",
      "\n",
      "2025/01/17 06:41:15 INFO dspy.teleprompt.mipro_optimizer_v2: 1: You are an expert in email security. Your goal is to give Recommendation to the user based on their Question.\n",
      "\n",
      "2025/01/17 06:41:15 INFO dspy.teleprompt.mipro_optimizer_v2: 2: You are an expert in email security. Your goal is to give Recommendation to the user based on their Question.\n",
      "\n",
      "2025/01/17 06:41:15 INFO dspy.teleprompt.mipro_optimizer_v2: 3: Identify key players such as IT staff, end users, and external parties involved in the change management process. Set up timelines for implementation to ensure consistency in workflow. Update SPF records to reflect readiness to make changes and compliance with policy.\n",
      "\n",
      "2025/01/17 06:41:15 INFO dspy.teleprompt.mipro_optimizer_v2: 4: Identify key players such as IT staff, end users, and any external parties involved in the process. Set up timelines for implementation to ensure consistency in workflow and reduce implementation risks. Update SPF records reflect a readiness to make changes and ensures compliance with policy.\n",
      "\n",
      "2025/01/17 06:41:15 INFO dspy.teleprompt.mipro_optimizer_v2: 5: To ensure proper alignment of SPF records with an organization's overall email security strategy and posture, it is crucial to follow these steps:\n",
      "\n",
      "1. **Review SPF Records**: Regularly review the SPF records for your domain to ensure they are up-to-date and accurately reflect your organization's email security policies.\n",
      "\n",
      "2. **Implement SPF Policies**: Develop and implement a comprehensive SPF policy that includes guidelines on who can send emails from your domain, including specific rules for trusted vs. untrusted domains.\n",
      "\n",
      "3. **Monitor SPF Records**: Set up monitoring tools to track changes in the SPF records regularly. This helps in identifying any potential issues or deviations from the established policies.\n",
      "\n",
      "4. **Educate Employees**: Educate all employees about the importance of SPF records and how they contribute to email security. Ensure that everyone is aware of the guidelines for sending emails from your domain.\n",
      "\n",
      "5. **Regular Review and Update**: Regularly review and update the SPF policy as necessary, especially after changes in policies or when new technologies are introduced.\n",
      "\n",
      "6. **Compliance with Industry Standards**: Adhere to industry standards and best practices for email security, such as those set by organizations like the Internet Corporation for Assigned Names and Numbers (ICANN) or the National Institute of Standards and Technology (NIST).\n",
      "\n",
      "2025/01/17 06:41:15 INFO dspy.teleprompt.mipro_optimizer_v2: 6: You are an expert in email security. Your goal is to give Recommendation to the user based on their Question.\n",
      "\n",
      "2025/01/17 06:41:15 INFO dspy.teleprompt.mipro_optimizer_v2: \n",
      "\n",
      "2025/01/17 06:41:15 INFO dspy.teleprompt.mipro_optimizer_v2: Evaluating the default program...\n",
      "\n"
     ]
    },
    {
     "name": "stdout",
     "output_type": "stream",
     "text": [
      "Average Metric: 6.86 / 8 (85.8%): 100%|███████████| 8/8 [00:00<00:00, 12.59it/s]\n"
     ]
    },
    {
     "name": "stderr",
     "output_type": "stream",
     "text": [
      "2025/01/17 06:41:16 INFO dspy.evaluate.evaluate: Average Metric: 6.860363483428955 / 8 (85.8%)\n",
      "2025/01/17 06:41:18 INFO dspy.teleprompt.mipro_optimizer_v2: Default program score: 85.75\n",
      "\n",
      "2025/01/17 06:41:18 INFO dspy.teleprompt.mipro_optimizer_v2: ==> STEP 3: FINDING OPTIMAL PROMPT PARAMETERS <==\n",
      "2025/01/17 06:41:18 INFO dspy.teleprompt.mipro_optimizer_v2: We will evaluate the program over a series of trials with different combinations of instructions and few-shot examples to find the optimal combination using Bayesian Optimization.\n",
      "\n",
      "2025/01/17 06:41:18 INFO dspy.teleprompt.mipro_optimizer_v2: ===== Trial 1 / 7 =====\n"
     ]
    },
    {
     "name": "stdout",
     "output_type": "stream",
     "text": [
      "Average Metric: 6.86 / 8 (85.8%): 100%|███████████| 8/8 [00:00<00:00, 18.40it/s]"
     ]
    },
    {
     "name": "stderr",
     "output_type": "stream",
     "text": [
      "2025/01/17 06:41:18 INFO dspy.evaluate.evaluate: Average Metric: 6.860363483428955 / 8 (85.8%)\n"
     ]
    },
    {
     "name": "stdout",
     "output_type": "stream",
     "text": [
      "\n"
     ]
    },
    {
     "name": "stderr",
     "output_type": "stream",
     "text": [
      "2025/01/17 06:41:20 INFO dspy.teleprompt.mipro_optimizer_v2: Score: 85.75 with parameters ['Predictor 0: Instruction 1'].\n",
      "2025/01/17 06:41:20 INFO dspy.teleprompt.mipro_optimizer_v2: Scores so far: [85.75, 85.75]\n",
      "2025/01/17 06:41:20 INFO dspy.teleprompt.mipro_optimizer_v2: Best score so far: 85.75\n",
      "2025/01/17 06:41:20 INFO dspy.teleprompt.mipro_optimizer_v2: =======================\n",
      "\n",
      "\n",
      "2025/01/17 06:41:20 INFO dspy.teleprompt.mipro_optimizer_v2: ===== Trial 2 / 7 =====\n"
     ]
    },
    {
     "name": "stdout",
     "output_type": "stream",
     "text": [
      "Average Metric: 6.82 / 8 (85.3%): 100%|███████████| 8/8 [00:00<00:00, 15.73it/s]"
     ]
    },
    {
     "name": "stderr",
     "output_type": "stream",
     "text": [
      "2025/01/17 06:41:20 INFO dspy.evaluate.evaluate: Average Metric: 6.820349633693695 / 8 (85.3%)\n"
     ]
    },
    {
     "name": "stdout",
     "output_type": "stream",
     "text": [
      "\n"
     ]
    },
    {
     "name": "stderr",
     "output_type": "stream",
     "text": [
      "2025/01/17 06:41:21 INFO dspy.teleprompt.mipro_optimizer_v2: Score: 85.25 with parameters ['Predictor 0: Instruction 5'].\n",
      "2025/01/17 06:41:21 INFO dspy.teleprompt.mipro_optimizer_v2: Scores so far: [85.75, 85.75, 85.25]\n",
      "2025/01/17 06:41:21 INFO dspy.teleprompt.mipro_optimizer_v2: Best score so far: 85.75\n",
      "2025/01/17 06:41:21 INFO dspy.teleprompt.mipro_optimizer_v2: =======================\n",
      "\n",
      "\n",
      "2025/01/17 06:41:21 INFO dspy.teleprompt.mipro_optimizer_v2: ===== Trial 3 / 7 =====\n"
     ]
    },
    {
     "name": "stdout",
     "output_type": "stream",
     "text": [
      "Average Metric: 6.86 / 8 (85.8%): 100%|███████████| 8/8 [00:00<00:00, 20.79it/s]"
     ]
    },
    {
     "name": "stderr",
     "output_type": "stream",
     "text": [
      "2025/01/17 06:41:22 INFO dspy.evaluate.evaluate: Average Metric: 6.860363483428955 / 8 (85.8%)\n"
     ]
    },
    {
     "name": "stdout",
     "output_type": "stream",
     "text": [
      "\n"
     ]
    },
    {
     "name": "stderr",
     "output_type": "stream",
     "text": [
      "2025/01/17 06:41:23 INFO dspy.teleprompt.mipro_optimizer_v2: Score: 85.75 with parameters ['Predictor 0: Instruction 2'].\n",
      "2025/01/17 06:41:23 INFO dspy.teleprompt.mipro_optimizer_v2: Scores so far: [85.75, 85.75, 85.25, 85.75]\n",
      "2025/01/17 06:41:23 INFO dspy.teleprompt.mipro_optimizer_v2: Best score so far: 85.75\n",
      "2025/01/17 06:41:23 INFO dspy.teleprompt.mipro_optimizer_v2: =======================\n",
      "\n",
      "\n",
      "2025/01/17 06:41:23 INFO dspy.teleprompt.mipro_optimizer_v2: ===== Trial 4 / 7 =====\n"
     ]
    },
    {
     "name": "stdout",
     "output_type": "stream",
     "text": [
      "Average Metric: 6.82 / 8 (85.3%): 100%|███████████| 8/8 [00:00<00:00, 19.15it/s]"
     ]
    },
    {
     "name": "stderr",
     "output_type": "stream",
     "text": [
      "2025/01/17 06:41:23 INFO dspy.evaluate.evaluate: Average Metric: 6.820349633693695 / 8 (85.3%)\n"
     ]
    },
    {
     "name": "stdout",
     "output_type": "stream",
     "text": [
      "\n"
     ]
    },
    {
     "name": "stderr",
     "output_type": "stream",
     "text": [
      "2025/01/17 06:41:25 INFO dspy.teleprompt.mipro_optimizer_v2: Score: 85.25 with parameters ['Predictor 0: Instruction 5'].\n",
      "2025/01/17 06:41:25 INFO dspy.teleprompt.mipro_optimizer_v2: Scores so far: [85.75, 85.75, 85.25, 85.75, 85.25]\n",
      "2025/01/17 06:41:25 INFO dspy.teleprompt.mipro_optimizer_v2: Best score so far: 85.75\n",
      "2025/01/17 06:41:25 INFO dspy.teleprompt.mipro_optimizer_v2: =======================\n",
      "\n",
      "\n",
      "2025/01/17 06:41:25 INFO dspy.teleprompt.mipro_optimizer_v2: ===== Trial 5 / 7 =====\n"
     ]
    },
    {
     "name": "stdout",
     "output_type": "stream",
     "text": [
      "Average Metric: 6.75 / 8 (84.3%): 100%|███████████| 8/8 [00:00<00:00, 14.66it/s]\n"
     ]
    },
    {
     "name": "stderr",
     "output_type": "stream",
     "text": [
      "2025/01/17 06:41:25 INFO dspy.evaluate.evaluate: Average Metric: 6.746587753295898 / 8 (84.3%)\n",
      "2025/01/17 06:41:26 INFO dspy.teleprompt.mipro_optimizer_v2: Score: 84.33 with parameters ['Predictor 0: Instruction 4'].\n",
      "2025/01/17 06:41:26 INFO dspy.teleprompt.mipro_optimizer_v2: Scores so far: [85.75, 85.75, 85.25, 85.75, 85.25, 84.33]\n",
      "2025/01/17 06:41:26 INFO dspy.teleprompt.mipro_optimizer_v2: Best score so far: 85.75\n",
      "2025/01/17 06:41:26 INFO dspy.teleprompt.mipro_optimizer_v2: =======================\n",
      "\n",
      "\n",
      "2025/01/17 06:41:26 INFO dspy.teleprompt.mipro_optimizer_v2: ===== Trial 6 / 7 =====\n"
     ]
    },
    {
     "name": "stdout",
     "output_type": "stream",
     "text": [
      "Average Metric: 6.86 / 8 (85.8%): 100%|███████████| 8/8 [00:00<00:00, 19.92it/s]"
     ]
    },
    {
     "name": "stderr",
     "output_type": "stream",
     "text": [
      "2025/01/17 06:41:27 INFO dspy.evaluate.evaluate: Average Metric: 6.860363483428955 / 8 (85.8%)\n"
     ]
    },
    {
     "name": "stdout",
     "output_type": "stream",
     "text": [
      "\n"
     ]
    },
    {
     "name": "stderr",
     "output_type": "stream",
     "text": [
      "2025/01/17 06:41:29 INFO dspy.teleprompt.mipro_optimizer_v2: Score: 85.75 with parameters ['Predictor 0: Instruction 1'].\n",
      "2025/01/17 06:41:29 INFO dspy.teleprompt.mipro_optimizer_v2: Scores so far: [85.75, 85.75, 85.25, 85.75, 85.25, 84.33, 85.75]\n",
      "2025/01/17 06:41:29 INFO dspy.teleprompt.mipro_optimizer_v2: Best score so far: 85.75\n",
      "2025/01/17 06:41:29 INFO dspy.teleprompt.mipro_optimizer_v2: =======================\n",
      "\n",
      "\n",
      "2025/01/17 06:41:29 INFO dspy.teleprompt.mipro_optimizer_v2: ===== Trial 7 / 7 =====\n"
     ]
    },
    {
     "name": "stdout",
     "output_type": "stream",
     "text": [
      "Average Metric: 6.86 / 8 (85.8%): 100%|███████████| 8/8 [00:00<00:00, 18.48it/s]"
     ]
    },
    {
     "name": "stderr",
     "output_type": "stream",
     "text": [
      "2025/01/17 06:41:29 INFO dspy.evaluate.evaluate: Average Metric: 6.860363483428955 / 8 (85.8%)\n"
     ]
    },
    {
     "name": "stdout",
     "output_type": "stream",
     "text": [
      "\n"
     ]
    },
    {
     "name": "stderr",
     "output_type": "stream",
     "text": [
      "2025/01/17 06:41:31 INFO dspy.teleprompt.mipro_optimizer_v2: Score: 85.75 with parameters ['Predictor 0: Instruction 6'].\n",
      "2025/01/17 06:41:31 INFO dspy.teleprompt.mipro_optimizer_v2: Scores so far: [85.75, 85.75, 85.25, 85.75, 85.25, 84.33, 85.75, 85.75]\n",
      "2025/01/17 06:41:31 INFO dspy.teleprompt.mipro_optimizer_v2: Best score so far: 85.75\n",
      "2025/01/17 06:41:31 INFO dspy.teleprompt.mipro_optimizer_v2: =======================\n",
      "\n",
      "\n",
      "2025/01/17 06:41:31 INFO dspy.teleprompt.mipro_optimizer_v2: Returning best identified program with score 85.75!\n"
     ]
    },
    {
     "name": "stdout",
     "output_type": "stream",
     "text": [
      "Average Metric: 4.17 / 5 (83.5%): 100%|███████████| 5/5 [00:00<00:00, 14.55it/s]"
     ]
    },
    {
     "name": "stderr",
     "output_type": "stream",
     "text": [
      "2025/01/17 06:41:31 INFO dspy.evaluate.evaluate: Average Metric: 4.17343944311142 / 5 (83.5%)\n"
     ]
    },
    {
     "name": "stdout",
     "output_type": "stream",
     "text": [
      "\n"
     ]
    },
    {
     "data": {
      "text/html": [
       "<div>\n",
       "<style scoped>\n",
       "    .dataframe tbody tr th:only-of-type {\n",
       "        vertical-align: middle;\n",
       "    }\n",
       "\n",
       "    .dataframe tbody tr th {\n",
       "        vertical-align: top;\n",
       "    }\n",
       "\n",
       "    .dataframe thead th {\n",
       "        text-align: right;\n",
       "    }\n",
       "</style>\n",
       "<table border=\"1\" class=\"dataframe\">\n",
       "  <thead>\n",
       "    <tr style=\"text-align: right;\">\n",
       "      <th></th>\n",
       "      <th>question</th>\n",
       "      <th>example_answer</th>\n",
       "      <th>pred_answer</th>\n",
       "      <th>SemScore</th>\n",
       "    </tr>\n",
       "  </thead>\n",
       "  <tbody>\n",
       "    <tr>\n",
       "      <th>0</th>\n",
       "      <td>What mechanisms does your organization use to prevent unauthorized...</td>\n",
       "      <td>Introduction to SPF Records and Mechanisms =======================...</td>\n",
       "      <td>To prevent unauthorized senders from using your domain in the MAIL...</td>\n",
       "      <td>✔️ [0.724]</td>\n",
       "    </tr>\n",
       "    <tr>\n",
       "      <th>1</th>\n",
       "      <td>What is your organization's strategy for handling complex SPF reco...</td>\n",
       "      <td>Introduction to SPF Record Wildcard and Macro Configurations =====...</td>\n",
       "      <td>Managing complex SPF record wildcard and macro configurations requ...</td>\n",
       "      <td>✔️ [0.878]</td>\n",
       "    </tr>\n",
       "    <tr>\n",
       "      <th>2</th>\n",
       "      <td>What specific guidelines do you follow to define and configure SPF...</td>\n",
       "      <td>Introduction to SPF Record Scopes ================================...</td>\n",
       "      <td>To define and configure SPF (Sender Policy Framework) record scope...</td>\n",
       "      <td>✔️ [0.869]</td>\n",
       "    </tr>\n",
       "    <tr>\n",
       "      <th>3</th>\n",
       "      <td>How do you ensure that your SPF records are properly propagated to...</td>\n",
       "      <td>Ensuring Proper Propagation and Consistency of SPF Records: A Comp...</td>\n",
       "      <td>To ensure proper propagation of SPF records, organizations should ...</td>\n",
       "      <td>✔️ [0.878]</td>\n",
       "    </tr>\n",
       "    <tr>\n",
       "      <th>4</th>\n",
       "      <td>How does your organization handle the management of SPF record wil...</td>\n",
       "      <td>Introduction to SPF Record Wildcards and Macros Management =======...</td>\n",
       "      <td>To manage SPF records, organizations can use a combination of wild...</td>\n",
       "      <td>✔️ [0.825]</td>\n",
       "    </tr>\n",
       "  </tbody>\n",
       "</table>\n",
       "</div>"
      ],
      "text/plain": [
       "                                                                question  \\\n",
       "0  What mechanisms does your organization use to prevent unauthorized...   \n",
       "1  What is your organization's strategy for handling complex SPF reco...   \n",
       "2  What specific guidelines do you follow to define and configure SPF...   \n",
       "3  How do you ensure that your SPF records are properly propagated to...   \n",
       "4  How does your organization handle the management of SPF record wil...   \n",
       "\n",
       "                                                          example_answer  \\\n",
       "0  Introduction to SPF Records and Mechanisms =======================...   \n",
       "1  Introduction to SPF Record Wildcard and Macro Configurations =====...   \n",
       "2  Introduction to SPF Record Scopes ================================...   \n",
       "3  Ensuring Proper Propagation and Consistency of SPF Records: A Comp...   \n",
       "4  Introduction to SPF Record Wildcards and Macros Management =======...   \n",
       "\n",
       "                                                             pred_answer  \\\n",
       "0  To prevent unauthorized senders from using your domain in the MAIL...   \n",
       "1  Managing complex SPF record wildcard and macro configurations requ...   \n",
       "2  To define and configure SPF (Sender Policy Framework) record scope...   \n",
       "3  To ensure proper propagation of SPF records, organizations should ...   \n",
       "4  To manage SPF records, organizations can use a combination of wild...   \n",
       "\n",
       "     SemScore  \n",
       "0  ✔️ [0.724]  \n",
       "1  ✔️ [0.878]  \n",
       "2  ✔️ [0.869]  \n",
       "3  ✔️ [0.878]  \n",
       "4  ✔️ [0.825]  "
      ]
     },
     "metadata": {},
     "output_type": "display_data"
    },
    {
     "name": "stderr",
     "output_type": "stream",
     "text": [
      "2025/01/17 06:41:32 INFO dspy.teleprompt.mipro_optimizer_v2: \n",
      "RUNNING WITH THE FOLLOWING LIGHT AUTO RUN SETTINGS:\n",
      "num_trials: 7\n",
      "minibatch: False\n",
      "num_candidates: 7\n",
      "valset size: 8\n",
      "\n",
      "2025/01/17 06:41:32 INFO dspy.teleprompt.mipro_optimizer_v2: \n",
      "==> STEP 1: BOOTSTRAP FEWSHOT EXAMPLES <==\n",
      "2025/01/17 06:41:32 INFO dspy.teleprompt.mipro_optimizer_v2: These will be used for informing instruction proposal.\n",
      "\n",
      "2025/01/17 06:41:32 INFO dspy.teleprompt.mipro_optimizer_v2: Bootstrapping N=7 sets of demonstrations...\n"
     ]
    },
    {
     "name": "stdout",
     "output_type": "stream",
     "text": [
      "\n",
      "[LangWatch] Experiment initialized, run_id: ZS-COT-qwen2:1.5b\n",
      "[LangWatch] Open https://app.langwatch.ai/ok-JsSlvo/experiments/try10?runIds=ZS-COT-qwen2:1.5b to track your DSPy training session live\n",
      "\n",
      "Bootstrapping set 1/7\n",
      "Bootstrapping set 2/7\n"
     ]
    },
    {
     "name": "stderr",
     "output_type": "stream",
     "text": [
      "100%|█████████████████████████████████████████████| 2/2 [00:00<00:00, 14.55it/s]\n"
     ]
    },
    {
     "name": "stdout",
     "output_type": "stream",
     "text": [
      "Bootstrapped 2 full traces after 1 examples for up to 1 rounds, amounting to 2 attempts.\n",
      "Bootstrapping set 3/7\n"
     ]
    },
    {
     "name": "stderr",
     "output_type": "stream",
     "text": [
      "100%|█████████████████████████████████████████████| 2/2 [00:00<00:00, 12.76it/s]\n"
     ]
    },
    {
     "name": "stdout",
     "output_type": "stream",
     "text": [
      "Bootstrapped 2 full traces after 1 examples for up to 1 rounds, amounting to 2 attempts.\n",
      "Bootstrapping set 4/7\n"
     ]
    },
    {
     "name": "stderr",
     "output_type": "stream",
     "text": [
      "100%|█████████████████████████████████████████████| 2/2 [00:00<00:00, 15.17it/s]\n"
     ]
    },
    {
     "name": "stdout",
     "output_type": "stream",
     "text": [
      "Bootstrapped 2 full traces after 1 examples for up to 1 rounds, amounting to 2 attempts.\n",
      "Bootstrapping set 5/7\n"
     ]
    },
    {
     "name": "stderr",
     "output_type": "stream",
     "text": [
      "100%|█████████████████████████████████████████████| 2/2 [00:00<00:00, 16.53it/s]\n"
     ]
    },
    {
     "name": "stdout",
     "output_type": "stream",
     "text": [
      "Bootstrapped 2 full traces after 1 examples for up to 1 rounds, amounting to 2 attempts.\n",
      "Bootstrapping set 6/7\n"
     ]
    },
    {
     "name": "stderr",
     "output_type": "stream",
     "text": [
      " 50%|██████████████████████▌                      | 1/2 [00:00<00:00, 30.67it/s]\n"
     ]
    },
    {
     "name": "stdout",
     "output_type": "stream",
     "text": [
      "Bootstrapped 1 full traces after 1 examples for up to 1 rounds, amounting to 1 attempts.\n",
      "Bootstrapping set 7/7\n"
     ]
    },
    {
     "name": "stderr",
     "output_type": "stream",
     "text": [
      "100%|█████████████████████████████████████████████| 2/2 [00:00<00:00,  9.13it/s]\n",
      "2025/01/17 06:41:33 INFO dspy.teleprompt.mipro_optimizer_v2: \n",
      "==> STEP 2: PROPOSE INSTRUCTION CANDIDATES <==\n",
      "2025/01/17 06:41:33 INFO dspy.teleprompt.mipro_optimizer_v2: We will use the few-shot examples from the previous step, a generated dataset summary, a summary of the program code, and a randomly selected prompting tip to propose instructions.\n"
     ]
    },
    {
     "name": "stdout",
     "output_type": "stream",
     "text": [
      "Bootstrapped 2 full traces after 1 examples for up to 1 rounds, amounting to 2 attempts.\n"
     ]
    },
    {
     "name": "stderr",
     "output_type": "stream",
     "text": [
      "2025/01/17 06:41:33 INFO dspy.teleprompt.mipro_optimizer_v2: \n",
      "Proposing instructions...\n",
      "\n",
      "2025/01/17 06:41:34 INFO dspy.teleprompt.mipro_optimizer_v2: Proposed Instructions for Predictor 0:\n",
      "\n",
      "2025/01/17 06:41:34 INFO dspy.teleprompt.mipro_optimizer_v2: 0: You are an expert in email security. Your goal is to give Recommendation to the user based on their Question.\n",
      "\n",
      "2025/01/17 06:41:34 INFO dspy.teleprompt.mipro_optimizer_v2: 1: You are a seasoned expert in email security. Your mission is to provide guidance based on your user's inquiry about email security.\n",
      "\n",
      "To achieve this, follow these precise steps:\n",
      "\n",
      "1. **Understand the Question**: Carefully analyze the query provided by the user.\n",
      "2. **Identify Key Components**: Extract key elements from the question that are relevant to email security and SPF records (e.g., specific industries, compliance requirements).\n",
      "3. **Review Existing SPF Records**: Conduct a thorough review of your organization's existing SPF records to ensure they align with current practices and standards in your industry.\n",
      "4. **Develop a Plan for Improvement**: Based on the analysis and review, create an actionable plan that addresses any identified gaps or discrepancies in your SPF records.\n",
      "5. **Implement Changes Effectively**: Implement changes as per the outlined plan, ensuring consistency and compliance with policies and regulations.\n",
      "\n",
      "To conclude this instruction:\n",
      "\n",
      "1. **Review Changes**: Regularly review SPF records to ensure they remain up-to-date and reflect any necessary adjustments based on ongoing security assessments and compliance requirements.\n",
      "2. **Monitor for Compliance**: Continuously monitor SPF records to detect any potential violations or deviations from established standards.\n",
      "3. **Maintain Documentation**: Keep detailed documentation of all changes made to SPF records, including the rationale behind each change and how it aligns with email security best practices.\n",
      "\n",
      "By following these steps and adapting your instruction as necessary based on feedback or additional requirements, you will be able to provide a comprehensive solution for addressing email security concerns and ensuring compliance with SPF records.\n",
      "\n",
      "2025/01/17 06:41:34 INFO dspy.teleprompt.mipro_optimizer_v2: 2: You are a seasoned expert in email security. Your mission is to provide guidance based on your user's inquiry about email security.\n",
      "\n",
      "To achieve this, follow these precise steps:\n",
      "\n",
      "1. **Understand the Question**: Carefully analyze the query provided by the user.\n",
      "2. **Identify Key Components**: Extract key elements from the question that are relevant to email security and SPF records (e.g., specific industries, compliance requirements).\n",
      "3. **Review Existing SPF Records**: Conduct a thorough review of your organization's existing SPF records to ensure they align with current practices and standards in your industry.\n",
      "4. **Develop a Plan for Improvement**: Based on the analysis and review, create an actionable plan that addresses any identified gaps or discrepancies in your SPF records.\n",
      "5. **Implement Changes Effectively**: Implement changes as per the outlined plan, ensuring consistency and compliance with policies and regulations.\n",
      "\n",
      "To conclude this instruction:\n",
      "\n",
      "1. **Review Changes**: Regularly review SPF records to ensure they remain up-to-date and reflect any necessary adjustments based on ongoing security assessments and compliance requirements.\n",
      "2. **Monitor for Compliance**: Continuously monitor SPF records to detect any potential violations or deviations from established standards.\n",
      "3. **Maintain Documentation**: Keep detailed documentation of all changes made to SPF records, including the rationale behind each change and how it aligns with email security best practices.\n",
      "\n",
      "By following these steps and adapting your instruction as necessary based on feedback or additional requirements, you will be able to provide a comprehensive solution for addressing email security concerns and ensuring compliance with SPF records.\n",
      "\n",
      "2025/01/17 06:41:34 INFO dspy.teleprompt.mipro_optimizer_v2: 3: You are an expert in change management processes. Your goal is to provide recommendations for implementing a change management process based on identifying key players such as IT staff, end users, and external parties involved in the process. Additionally, setting up timelines for implementation ensures consistency in workflow and can reduce implementation risks. Lastly, updating SPF records reflects readiness to make changes and compliance with policy.\n",
      "\n",
      "2025/01/17 06:41:34 INFO dspy.teleprompt.mipro_optimizer_v2: 4: You are an expert in email security. Your goal is to provide a clear and concise response based on your expertise in handling changes to an organization's mail infrastructure, as well as ensuring proper alignment of SPF records with an organization's overall email security strategy and posture. Consider the following steps:\n",
      "\n",
      "1. **Documentation**: Create detailed documentation that outlines all changes made to the organization's mail infrastructure, including new servers or IP addresses added.\n",
      "2. **Testing**: Conduct thorough testing before implementing any significant changes to ensure no errors occur during the process.\n",
      "3. **Approval Process**: Review and approve changes by relevant stakeholders within the organization.\n",
      "4. **Implementation**: Make necessary changes in the mail infrastructure once approved.\n",
      "5. **Monitoring**: Regularly monitor new servers or IP addresses for functionality.\n",
      "\n",
      "6. **Update SPF Records**: Update SPF records with any added or removed mail servers and IP addresses to reflect the updated configuration.\n",
      "7. **Compliance Audit**: Conduct an internal compliance audit to ensure SPF records accurately represent changes made to the infrastructure.\n",
      "8. **External Compliance Verification**: Regularly verify SPF records against external services for real-time checks.\n",
      "\n",
      "Based on these steps, your response should be clear, concise, and provide recommendations tailored to the user's question about email security.\n",
      "\n",
      "2025/01/17 06:41:34 INFO dspy.teleprompt.mipro_optimizer_v2: 5: You are an expert in email security. Your goal is to provide a Recommendation to the user based on their Question about email security.\n",
      "\n",
      "2025/01/17 06:41:34 INFO dspy.teleprompt.mipro_optimizer_v2: 6: You are a seasoned expert in email security. Your mission is to provide guidance based on your user's inquiry about email security.\n",
      "\n",
      "To achieve this, follow these precise steps:\n",
      "\n",
      "1. **Understand the Question**: Carefully analyze the query provided by the user.\n",
      "2. **Identify Key Components**: Extract key elements from the question that are relevant to email security and SPF records (e.g., specific industries, compliance requirements).\n",
      "3. **Review Existing SPF Records**: Conduct a thorough review of your organization's existing SPF records to ensure they align with current practices and standards in your industry.\n",
      "4. **Develop a Plan for Improvement**: Based on the analysis and review, create an actionable plan that addresses any identified gaps or discrepancies in your SPF records.\n",
      "5. **Implement Changes Effectively**: Implement changes as per the outlined plan, ensuring consistency and compliance with policies and regulations.\n",
      "\n",
      "To conclude this instruction:\n",
      "\n",
      "1. **Review Changes**: Regularly review SPF records to ensure they remain up-to-date and reflect any necessary adjustments based on ongoing security assessments and compliance requirements.\n",
      "2. **Monitor for Compliance**: Continuously monitor SPF records to detect any potential violations or deviations from established standards.\n",
      "3. **Maintain Documentation**: Keep detailed documentation of all changes made to SPF records, including the rationale behind each change and how it aligns with email security best practices.\n",
      "\n",
      "By following these steps and adapting your instruction as necessary based on feedback or additional requirements, you will be able to provide a comprehensive solution for addressing email security concerns and ensuring compliance with SPF records.\n",
      "\n",
      "2025/01/17 06:41:34 INFO dspy.teleprompt.mipro_optimizer_v2: \n",
      "\n",
      "2025/01/17 06:41:34 INFO dspy.teleprompt.mipro_optimizer_v2: Evaluating the default program...\n",
      "\n"
     ]
    },
    {
     "name": "stdout",
     "output_type": "stream",
     "text": [
      "Average Metric: 6.73 / 8 (84.1%): 100%|███████████| 8/8 [00:00<00:00, 13.97it/s]"
     ]
    },
    {
     "name": "stderr",
     "output_type": "stream",
     "text": [
      "2025/01/17 06:41:34 INFO dspy.evaluate.evaluate: Average Metric: 6.728007137775421 / 8 (84.1%)\n"
     ]
    },
    {
     "name": "stdout",
     "output_type": "stream",
     "text": [
      "\n"
     ]
    },
    {
     "name": "stderr",
     "output_type": "stream",
     "text": [
      "2025/01/17 06:41:37 INFO dspy.teleprompt.mipro_optimizer_v2: Default program score: 84.1\n",
      "\n",
      "2025/01/17 06:41:37 INFO dspy.teleprompt.mipro_optimizer_v2: ==> STEP 3: FINDING OPTIMAL PROMPT PARAMETERS <==\n",
      "2025/01/17 06:41:37 INFO dspy.teleprompt.mipro_optimizer_v2: We will evaluate the program over a series of trials with different combinations of instructions and few-shot examples to find the optimal combination using Bayesian Optimization.\n",
      "\n",
      "2025/01/17 06:41:37 INFO dspy.teleprompt.mipro_optimizer_v2: ===== Trial 1 / 7 =====\n"
     ]
    },
    {
     "name": "stdout",
     "output_type": "stream",
     "text": [
      "Average Metric: 6.47 / 8 (80.9%): 100%|███████████| 8/8 [00:00<00:00, 13.49it/s]\n"
     ]
    },
    {
     "name": "stderr",
     "output_type": "stream",
     "text": [
      "2025/01/17 06:41:37 INFO dspy.evaluate.evaluate: Average Metric: 6.468059957027435 / 8 (80.9%)\n",
      "2025/01/17 06:41:39 INFO dspy.teleprompt.mipro_optimizer_v2: Score: 80.85 with parameters ['Predictor 0: Instruction 1'].\n",
      "2025/01/17 06:41:39 INFO dspy.teleprompt.mipro_optimizer_v2: Scores so far: [84.1, 80.85]\n",
      "2025/01/17 06:41:39 INFO dspy.teleprompt.mipro_optimizer_v2: Best score so far: 84.1\n",
      "2025/01/17 06:41:39 INFO dspy.teleprompt.mipro_optimizer_v2: =======================\n",
      "\n",
      "\n",
      "2025/01/17 06:41:39 INFO dspy.teleprompt.mipro_optimizer_v2: ===== Trial 2 / 7 =====\n"
     ]
    },
    {
     "name": "stdout",
     "output_type": "stream",
     "text": [
      "Average Metric: 6.62 / 8 (82.7%): 100%|███████████| 8/8 [00:00<00:00, 15.92it/s]"
     ]
    },
    {
     "name": "stderr",
     "output_type": "stream",
     "text": [
      "2025/01/17 06:41:39 INFO dspy.evaluate.evaluate: Average Metric: 6.6171914935112 / 8 (82.7%)\n"
     ]
    },
    {
     "name": "stdout",
     "output_type": "stream",
     "text": [
      "\n"
     ]
    },
    {
     "name": "stderr",
     "output_type": "stream",
     "text": [
      "2025/01/17 06:41:41 INFO dspy.teleprompt.mipro_optimizer_v2: Score: 82.71 with parameters ['Predictor 0: Instruction 5'].\n",
      "2025/01/17 06:41:41 INFO dspy.teleprompt.mipro_optimizer_v2: Scores so far: [84.1, 80.85, 82.71]\n",
      "2025/01/17 06:41:41 INFO dspy.teleprompt.mipro_optimizer_v2: Best score so far: 84.1\n",
      "2025/01/17 06:41:41 INFO dspy.teleprompt.mipro_optimizer_v2: =======================\n",
      "\n",
      "\n",
      "2025/01/17 06:41:41 INFO dspy.teleprompt.mipro_optimizer_v2: ===== Trial 3 / 7 =====\n"
     ]
    },
    {
     "name": "stdout",
     "output_type": "stream",
     "text": [
      "Average Metric: 6.47 / 8 (80.9%): 100%|███████████| 8/8 [00:00<00:00, 15.66it/s]"
     ]
    },
    {
     "name": "stderr",
     "output_type": "stream",
     "text": [
      "2025/01/17 06:41:42 INFO dspy.evaluate.evaluate: Average Metric: 6.468059957027435 / 8 (80.9%)\n"
     ]
    },
    {
     "name": "stdout",
     "output_type": "stream",
     "text": [
      "\n"
     ]
    },
    {
     "name": "stderr",
     "output_type": "stream",
     "text": [
      "2025/01/17 06:41:43 INFO dspy.teleprompt.mipro_optimizer_v2: Score: 80.85 with parameters ['Predictor 0: Instruction 2'].\n",
      "2025/01/17 06:41:43 INFO dspy.teleprompt.mipro_optimizer_v2: Scores so far: [84.1, 80.85, 82.71, 80.85]\n",
      "2025/01/17 06:41:43 INFO dspy.teleprompt.mipro_optimizer_v2: Best score so far: 84.1\n",
      "2025/01/17 06:41:43 INFO dspy.teleprompt.mipro_optimizer_v2: =======================\n",
      "\n",
      "\n",
      "2025/01/17 06:41:43 INFO dspy.teleprompt.mipro_optimizer_v2: ===== Trial 4 / 7 =====\n"
     ]
    },
    {
     "name": "stdout",
     "output_type": "stream",
     "text": [
      "Average Metric: 6.62 / 8 (82.7%): 100%|███████████| 8/8 [00:00<00:00, 22.95it/s]"
     ]
    },
    {
     "name": "stderr",
     "output_type": "stream",
     "text": [
      "2025/01/17 06:41:43 INFO dspy.evaluate.evaluate: Average Metric: 6.6171914935112 / 8 (82.7%)\n"
     ]
    },
    {
     "name": "stdout",
     "output_type": "stream",
     "text": [
      "\n"
     ]
    },
    {
     "name": "stderr",
     "output_type": "stream",
     "text": [
      "2025/01/17 06:41:45 INFO dspy.teleprompt.mipro_optimizer_v2: Score: 82.71 with parameters ['Predictor 0: Instruction 5'].\n",
      "2025/01/17 06:41:45 INFO dspy.teleprompt.mipro_optimizer_v2: Scores so far: [84.1, 80.85, 82.71, 80.85, 82.71]\n",
      "2025/01/17 06:41:45 INFO dspy.teleprompt.mipro_optimizer_v2: Best score so far: 84.1\n",
      "2025/01/17 06:41:45 INFO dspy.teleprompt.mipro_optimizer_v2: =======================\n",
      "\n",
      "\n",
      "2025/01/17 06:41:45 INFO dspy.teleprompt.mipro_optimizer_v2: ===== Trial 5 / 7 =====\n"
     ]
    },
    {
     "name": "stdout",
     "output_type": "stream",
     "text": [
      "Average Metric: 6.75 / 8 (84.4%): 100%|███████████| 8/8 [00:00<00:00, 14.11it/s]"
     ]
    },
    {
     "name": "stderr",
     "output_type": "stream",
     "text": [
      "2025/01/17 06:41:45 INFO dspy.evaluate.evaluate: Average Metric: 6.753239572048187 / 8 (84.4%)\n"
     ]
    },
    {
     "name": "stdout",
     "output_type": "stream",
     "text": [
      "\n"
     ]
    },
    {
     "name": "stderr",
     "output_type": "stream",
     "text": [
      "2025/01/17 06:41:47 INFO dspy.teleprompt.mipro_optimizer_v2: \u001b[92mBest full score so far!\u001b[0m Score: 84.42\n",
      "2025/01/17 06:41:47 INFO dspy.teleprompt.mipro_optimizer_v2: Score: 84.42 with parameters ['Predictor 0: Instruction 4'].\n",
      "2025/01/17 06:41:47 INFO dspy.teleprompt.mipro_optimizer_v2: Scores so far: [84.1, 80.85, 82.71, 80.85, 82.71, 84.42]\n",
      "2025/01/17 06:41:47 INFO dspy.teleprompt.mipro_optimizer_v2: Best score so far: 84.42\n",
      "2025/01/17 06:41:47 INFO dspy.teleprompt.mipro_optimizer_v2: =======================\n",
      "\n",
      "\n",
      "2025/01/17 06:41:47 INFO dspy.teleprompt.mipro_optimizer_v2: ===== Trial 6 / 7 =====\n"
     ]
    },
    {
     "name": "stdout",
     "output_type": "stream",
     "text": [
      "Average Metric: 6.47 / 8 (80.9%): 100%|███████████| 8/8 [00:00<00:00, 15.89it/s]"
     ]
    },
    {
     "name": "stderr",
     "output_type": "stream",
     "text": [
      "2025/01/17 06:41:47 INFO dspy.evaluate.evaluate: Average Metric: 6.468059957027435 / 8 (80.9%)\n"
     ]
    },
    {
     "name": "stdout",
     "output_type": "stream",
     "text": [
      "\n"
     ]
    },
    {
     "name": "stderr",
     "output_type": "stream",
     "text": [
      "2025/01/17 06:41:50 INFO dspy.teleprompt.mipro_optimizer_v2: Score: 80.85 with parameters ['Predictor 0: Instruction 1'].\n",
      "2025/01/17 06:41:50 INFO dspy.teleprompt.mipro_optimizer_v2: Scores so far: [84.1, 80.85, 82.71, 80.85, 82.71, 84.42, 80.85]\n",
      "2025/01/17 06:41:50 INFO dspy.teleprompt.mipro_optimizer_v2: Best score so far: 84.42\n",
      "2025/01/17 06:41:50 INFO dspy.teleprompt.mipro_optimizer_v2: =======================\n",
      "\n",
      "\n",
      "2025/01/17 06:41:50 INFO dspy.teleprompt.mipro_optimizer_v2: ===== Trial 7 / 7 =====\n"
     ]
    },
    {
     "name": "stdout",
     "output_type": "stream",
     "text": [
      "Average Metric: 6.47 / 8 (80.9%): 100%|███████████| 8/8 [00:00<00:00, 16.45it/s]"
     ]
    },
    {
     "name": "stderr",
     "output_type": "stream",
     "text": [
      "2025/01/17 06:41:50 INFO dspy.evaluate.evaluate: Average Metric: 6.468059957027435 / 8 (80.9%)\n"
     ]
    },
    {
     "name": "stdout",
     "output_type": "stream",
     "text": [
      "\n"
     ]
    },
    {
     "name": "stderr",
     "output_type": "stream",
     "text": [
      "2025/01/17 06:41:52 INFO dspy.teleprompt.mipro_optimizer_v2: Score: 80.85 with parameters ['Predictor 0: Instruction 6'].\n",
      "2025/01/17 06:41:52 INFO dspy.teleprompt.mipro_optimizer_v2: Scores so far: [84.1, 80.85, 82.71, 80.85, 82.71, 84.42, 80.85, 80.85]\n",
      "2025/01/17 06:41:52 INFO dspy.teleprompt.mipro_optimizer_v2: Best score so far: 84.42\n",
      "2025/01/17 06:41:52 INFO dspy.teleprompt.mipro_optimizer_v2: =======================\n",
      "\n",
      "\n",
      "2025/01/17 06:41:52 INFO dspy.teleprompt.mipro_optimizer_v2: Returning best identified program with score 84.42!\n"
     ]
    },
    {
     "name": "stdout",
     "output_type": "stream",
     "text": [
      "Average Metric: 4.01 / 5 (80.1%): 100%|███████████| 5/5 [00:00<00:00, 11.08it/s]"
     ]
    },
    {
     "name": "stderr",
     "output_type": "stream",
     "text": [
      "2025/01/17 06:41:52 INFO dspy.evaluate.evaluate: Average Metric: 4.006421267986298 / 5 (80.1%)\n"
     ]
    },
    {
     "name": "stdout",
     "output_type": "stream",
     "text": [
      "\n"
     ]
    },
    {
     "data": {
      "text/html": [
       "<div>\n",
       "<style scoped>\n",
       "    .dataframe tbody tr th:only-of-type {\n",
       "        vertical-align: middle;\n",
       "    }\n",
       "\n",
       "    .dataframe tbody tr th {\n",
       "        vertical-align: top;\n",
       "    }\n",
       "\n",
       "    .dataframe thead th {\n",
       "        text-align: right;\n",
       "    }\n",
       "</style>\n",
       "<table border=\"1\" class=\"dataframe\">\n",
       "  <thead>\n",
       "    <tr style=\"text-align: right;\">\n",
       "      <th></th>\n",
       "      <th>question</th>\n",
       "      <th>example_answer</th>\n",
       "      <th>reasoning</th>\n",
       "      <th>pred_answer</th>\n",
       "      <th>SemScore</th>\n",
       "    </tr>\n",
       "  </thead>\n",
       "  <tbody>\n",
       "    <tr>\n",
       "      <th>0</th>\n",
       "      <td>What mechanisms does your organization use to prevent unauthorized...</td>\n",
       "      <td>Introduction to SPF Records and Mechanisms =======================...</td>\n",
       "      <td>To prevent unauthorized senders from using your organization's dom...</td>\n",
       "      <td>To implement these mechanisms, you can follow the following steps:...</td>\n",
       "      <td>✔️ [0.670]</td>\n",
       "    </tr>\n",
       "    <tr>\n",
       "      <th>1</th>\n",
       "      <td>What is your organization's strategy for handling complex SPF reco...</td>\n",
       "      <td>Introduction to SPF Record Wildcard and Macro Configurations =====...</td>\n",
       "      <td>Handling complex SPF record wildcard and macro configurations requ...</td>\n",
       "      <td>To handle complex SPF record wildcard and macro configurations, an...</td>\n",
       "      <td>✔️ [0.856]</td>\n",
       "    </tr>\n",
       "    <tr>\n",
       "      <th>2</th>\n",
       "      <td>What specific guidelines do you follow to define and configure SPF...</td>\n",
       "      <td>Introduction to SPF Record Scopes ================================...</td>\n",
       "      <td>When defining and configuring SPF (Sender Policy Framework) record...</td>\n",
       "      <td>To define and configure SPF record scopes for your organization's ...</td>\n",
       "      <td>✔️ [0.829]</td>\n",
       "    </tr>\n",
       "    <tr>\n",
       "      <th>3</th>\n",
       "      <td>How do you ensure that your SPF records are properly propagated to...</td>\n",
       "      <td>Ensuring Proper Propagation and Consistency of SPF Records: A Comp...</td>\n",
       "      <td>To ensure proper propagation of SPF records across all DNS servers...</td>\n",
       "      <td>To prevent SPF record inconsistencies or conflicts, it is crucial ...</td>\n",
       "      <td>✔️ [0.828]</td>\n",
       "    </tr>\n",
       "    <tr>\n",
       "      <th>4</th>\n",
       "      <td>How does your organization handle the management of SPF record wil...</td>\n",
       "      <td>Introduction to SPF Record Wildcards and Macros Management =======...</td>\n",
       "      <td>Managing SPF records for wildcard and macro usage in email securit...</td>\n",
       "      <td>To handle the management of SPF record wildcards and macros across...</td>\n",
       "      <td>✔️ [0.823]</td>\n",
       "    </tr>\n",
       "  </tbody>\n",
       "</table>\n",
       "</div>"
      ],
      "text/plain": [
       "                                                                question  \\\n",
       "0  What mechanisms does your organization use to prevent unauthorized...   \n",
       "1  What is your organization's strategy for handling complex SPF reco...   \n",
       "2  What specific guidelines do you follow to define and configure SPF...   \n",
       "3  How do you ensure that your SPF records are properly propagated to...   \n",
       "4  How does your organization handle the management of SPF record wil...   \n",
       "\n",
       "                                                          example_answer  \\\n",
       "0  Introduction to SPF Records and Mechanisms =======================...   \n",
       "1  Introduction to SPF Record Wildcard and Macro Configurations =====...   \n",
       "2  Introduction to SPF Record Scopes ================================...   \n",
       "3  Ensuring Proper Propagation and Consistency of SPF Records: A Comp...   \n",
       "4  Introduction to SPF Record Wildcards and Macros Management =======...   \n",
       "\n",
       "                                                               reasoning  \\\n",
       "0  To prevent unauthorized senders from using your organization's dom...   \n",
       "1  Handling complex SPF record wildcard and macro configurations requ...   \n",
       "2  When defining and configuring SPF (Sender Policy Framework) record...   \n",
       "3  To ensure proper propagation of SPF records across all DNS servers...   \n",
       "4  Managing SPF records for wildcard and macro usage in email securit...   \n",
       "\n",
       "                                                             pred_answer  \\\n",
       "0  To implement these mechanisms, you can follow the following steps:...   \n",
       "1  To handle complex SPF record wildcard and macro configurations, an...   \n",
       "2  To define and configure SPF record scopes for your organization's ...   \n",
       "3  To prevent SPF record inconsistencies or conflicts, it is crucial ...   \n",
       "4  To handle the management of SPF record wildcards and macros across...   \n",
       "\n",
       "     SemScore  \n",
       "0  ✔️ [0.670]  \n",
       "1  ✔️ [0.856]  \n",
       "2  ✔️ [0.829]  \n",
       "3  ✔️ [0.828]  \n",
       "4  ✔️ [0.823]  "
      ]
     },
     "metadata": {},
     "output_type": "display_data"
    },
    {
     "name": "stderr",
     "output_type": "stream",
     "text": [
      "2025/01/17 06:41:53 INFO dspy.teleprompt.mipro_optimizer_v2: \n",
      "RUNNING WITH THE FOLLOWING LIGHT AUTO RUN SETTINGS:\n",
      "num_trials: 7\n",
      "minibatch: False\n",
      "num_candidates: 7\n",
      "valset size: 8\n",
      "\n",
      "2025/01/17 06:41:53 INFO dspy.teleprompt.mipro_optimizer_v2: \n",
      "==> STEP 1: BOOTSTRAP FEWSHOT EXAMPLES <==\n",
      "2025/01/17 06:41:53 INFO dspy.teleprompt.mipro_optimizer_v2: These will be used for informing instruction proposal.\n",
      "\n",
      "2025/01/17 06:41:53 INFO dspy.teleprompt.mipro_optimizer_v2: Bootstrapping N=7 sets of demonstrations...\n"
     ]
    },
    {
     "name": "stdout",
     "output_type": "stream",
     "text": [
      "\n",
      "[LangWatch] Experiment initialized, run_id: FS-COT-qwen2:1.5b\n",
      "[LangWatch] Open https://app.langwatch.ai/ok-JsSlvo/experiments/try10?runIds=FS-COT-qwen2:1.5b to track your DSPy training session live\n",
      "\n",
      "Bootstrapping set 1/7\n",
      "Bootstrapping set 2/7\n"
     ]
    },
    {
     "name": "stderr",
     "output_type": "stream",
     "text": [
      "100%|█████████████████████████████████████████████| 2/2 [00:00<00:00, 18.64it/s]\n"
     ]
    },
    {
     "name": "stdout",
     "output_type": "stream",
     "text": [
      "Bootstrapped 2 full traces after 1 examples for up to 1 rounds, amounting to 2 attempts.\n",
      "Bootstrapping set 3/7\n"
     ]
    },
    {
     "name": "stderr",
     "output_type": "stream",
     "text": [
      "100%|█████████████████████████████████████████████| 2/2 [00:00<00:00,  9.92it/s]\n"
     ]
    },
    {
     "name": "stdout",
     "output_type": "stream",
     "text": [
      "Bootstrapped 2 full traces after 1 examples for up to 1 rounds, amounting to 2 attempts.\n",
      "Bootstrapping set 4/7\n"
     ]
    },
    {
     "name": "stderr",
     "output_type": "stream",
     "text": [
      "100%|█████████████████████████████████████████████| 2/2 [00:00<00:00, 10.77it/s]\n"
     ]
    },
    {
     "name": "stdout",
     "output_type": "stream",
     "text": [
      "Bootstrapped 2 full traces after 1 examples for up to 1 rounds, amounting to 2 attempts.\n",
      "Bootstrapping set 5/7\n"
     ]
    },
    {
     "name": "stderr",
     "output_type": "stream",
     "text": [
      "100%|█████████████████████████████████████████████| 2/2 [00:00<00:00, 28.63it/s]\n"
     ]
    },
    {
     "name": "stdout",
     "output_type": "stream",
     "text": [
      "Bootstrapped 2 full traces after 1 examples for up to 1 rounds, amounting to 2 attempts.\n",
      "Bootstrapping set 6/7\n"
     ]
    },
    {
     "name": "stderr",
     "output_type": "stream",
     "text": [
      " 50%|██████████████████████▌                      | 1/2 [00:00<00:00,  7.73it/s]\n"
     ]
    },
    {
     "name": "stdout",
     "output_type": "stream",
     "text": [
      "Bootstrapped 1 full traces after 1 examples for up to 1 rounds, amounting to 1 attempts.\n",
      "Bootstrapping set 7/7\n"
     ]
    },
    {
     "name": "stderr",
     "output_type": "stream",
     "text": [
      "100%|█████████████████████████████████████████████| 2/2 [00:00<00:00, 20.52it/s]\n",
      "2025/01/17 06:41:54 INFO dspy.teleprompt.mipro_optimizer_v2: \n",
      "==> STEP 2: PROPOSE INSTRUCTION CANDIDATES <==\n",
      "2025/01/17 06:41:54 INFO dspy.teleprompt.mipro_optimizer_v2: We will use the few-shot examples from the previous step, a generated dataset summary, a summary of the program code, and a randomly selected prompting tip to propose instructions.\n",
      "2025/01/17 06:41:54 INFO dspy.teleprompt.mipro_optimizer_v2: \n",
      "Proposing instructions...\n",
      "\n"
     ]
    },
    {
     "name": "stdout",
     "output_type": "stream",
     "text": [
      "Bootstrapped 2 full traces after 1 examples for up to 1 rounds, amounting to 2 attempts.\n"
     ]
    },
    {
     "name": "stderr",
     "output_type": "stream",
     "text": [
      "2025/01/17 06:41:54 INFO dspy.teleprompt.mipro_optimizer_v2: Proposed Instructions for Predictor 0:\n",
      "\n",
      "2025/01/17 06:41:54 INFO dspy.teleprompt.mipro_optimizer_v2: 0: You are an expert in email security. Your goal is to give Recommendation to the user based on their Question.\n",
      "\n",
      "2025/01/17 06:41:54 INFO dspy.teleprompt.mipro_optimizer_v2: 1: To ensure proper alignment of SPF records with an organization's overall email security strategy and posture, follow these steps:\n",
      "\n",
      "1. Understand the specific requirements and standards for SPF records in your industry or domain.\n",
      "2. Conduct a thorough review of existing SPF records to ensure they are up-to-date and accurately reflect the current configuration of your organization's email infrastructure.\n",
      "3. Regularly test SPF records against known SPF violations using tools like SPF Check or external services that provide real-time checks for SPF compliance.\n",
      "4. Maintain a robust SPF record management system and keep it up-to-date to ensure all changes are properly reflected in the SPF records without causing any disruptions to email delivery.\n",
      "\n",
      "2025/01/17 06:41:54 INFO dspy.teleprompt.mipro_optimizer_v2: 2: To ensure proper alignment of SPF records with an organization's overall email security strategy and posture, follow these steps:\n",
      "\n",
      "1. Understand the specific requirements and standards for SPF records in your industry or domain.\n",
      "2. Conduct a thorough review of existing SPF records to ensure they are up-to-date and accurately reflect the current configuration of your organization's email infrastructure.\n",
      "3. Regularly test SPF records against known SPF violations using tools like SPF Check or external services that provide real-time checks for SPF compliance.\n",
      "4. Maintain a robust SPF record management system and keep it up-to-date to ensure all changes are properly reflected in the SPF records without causing any disruptions to email delivery.\n",
      "\n",
      "2025/01/17 06:41:54 INFO dspy.teleprompt.mipro_optimizer_v2: 3: You are a seasoned expert in email security. Your task is to provide recommendations based on the user's question about email security.\n",
      "\n",
      "2025/01/17 06:41:54 INFO dspy.teleprompt.mipro_optimizer_v2: 4: You are an expert in email security. Your goal is to provide recommendations based on user's questions about email security. The task involves identifying key players, setting up timelines for implementation, updating SPF records, and ensuring consistency in workflow and reducing risks of implementation.\n",
      "\n",
      "2025/01/17 06:41:54 INFO dspy.teleprompt.mipro_optimizer_v2: 5: To provide a clear recommendation to the user regarding their email security question, consider the following steps:\n",
      "\n",
      "1. Understand the nature of the email security question provided by the user.\n",
      "2. Analyze the context and implications of the question in relation to email security best practices.\n",
      "3. Review relevant industry standards and guidelines for email security.\n",
      "4. Consider any potential risks or vulnerabilities associated with the specific question being asked.\n",
      "5. Generate a tailored recommendation based on the analysis, taking into account the user's role (e.g., IT staff, end users, external parties) and the implications of the change management process they are involved in.\n",
      "\n",
      "2025/01/17 06:41:54 INFO dspy.teleprompt.mipro_optimizer_v2: 6: To ensure proper alignment of SPF records with an organization's overall email security strategy and posture, follow these steps:\n",
      "\n",
      "1. Understand the specific requirements and standards for SPF records in your industry or domain.\n",
      "2. Conduct a thorough review of existing SPF records to ensure they are up-to-date and accurately reflect the current configuration of your organization's email infrastructure.\n",
      "3. Regularly test SPF records against known SPF violations using tools like SPF Check or external services that provide real-time checks for SPF compliance.\n",
      "4. Maintain a robust SPF record management system and keep it up-to-date to ensure all changes are properly reflected in the SPF records without causing any disruptions to email delivery.\n",
      "\n",
      "2025/01/17 06:41:54 INFO dspy.teleprompt.mipro_optimizer_v2: \n",
      "\n",
      "2025/01/17 06:41:54 INFO dspy.teleprompt.mipro_optimizer_v2: Evaluating the default program...\n",
      "\n"
     ]
    },
    {
     "name": "stdout",
     "output_type": "stream",
     "text": [
      "Average Metric: 6.73 / 8 (84.1%): 100%|███████████| 8/8 [00:00<00:00, 15.50it/s]\n"
     ]
    },
    {
     "name": "stderr",
     "output_type": "stream",
     "text": [
      "2025/01/17 06:41:55 INFO dspy.evaluate.evaluate: Average Metric: 6.728007137775421 / 8 (84.1%)\n",
      "2025/01/17 06:41:57 INFO dspy.teleprompt.mipro_optimizer_v2: Default program score: 84.1\n",
      "\n",
      "2025/01/17 06:41:57 INFO dspy.teleprompt.mipro_optimizer_v2: ==> STEP 3: FINDING OPTIMAL PROMPT PARAMETERS <==\n",
      "2025/01/17 06:41:57 INFO dspy.teleprompt.mipro_optimizer_v2: We will evaluate the program over a series of trials with different combinations of instructions and few-shot examples to find the optimal combination using Bayesian Optimization.\n",
      "\n",
      "2025/01/17 06:41:57 INFO dspy.teleprompt.mipro_optimizer_v2: ===== Trial 1 / 7 =====\n"
     ]
    },
    {
     "name": "stdout",
     "output_type": "stream",
     "text": [
      "Average Metric: 6.75 / 8 (84.4%): 100%|███████████| 8/8 [00:00<00:00, 14.00it/s]"
     ]
    },
    {
     "name": "stderr",
     "output_type": "stream",
     "text": [
      "2025/01/17 06:41:57 INFO dspy.evaluate.evaluate: Average Metric: 6.7541292905807495 / 8 (84.4%)\n"
     ]
    },
    {
     "name": "stdout",
     "output_type": "stream",
     "text": [
      "\n"
     ]
    },
    {
     "name": "stderr",
     "output_type": "stream",
     "text": [
      "2025/01/17 06:41:59 INFO dspy.teleprompt.mipro_optimizer_v2: \u001b[92mBest full score so far!\u001b[0m Score: 84.43\n",
      "2025/01/17 06:41:59 INFO dspy.teleprompt.mipro_optimizer_v2: Score: 84.43 with parameters ['Predictor 0: Instruction 1'].\n",
      "2025/01/17 06:41:59 INFO dspy.teleprompt.mipro_optimizer_v2: Scores so far: [84.1, 84.43]\n",
      "2025/01/17 06:41:59 INFO dspy.teleprompt.mipro_optimizer_v2: Best score so far: 84.43\n",
      "2025/01/17 06:41:59 INFO dspy.teleprompt.mipro_optimizer_v2: =======================\n",
      "\n",
      "\n",
      "2025/01/17 06:41:59 INFO dspy.teleprompt.mipro_optimizer_v2: ===== Trial 2 / 7 =====\n"
     ]
    },
    {
     "name": "stdout",
     "output_type": "stream",
     "text": [
      "Average Metric: 6.62 / 8 (82.7%): 100%|███████████| 8/8 [00:00<00:00, 14.02it/s]"
     ]
    },
    {
     "name": "stderr",
     "output_type": "stream",
     "text": [
      "2025/01/17 06:41:59 INFO dspy.evaluate.evaluate: Average Metric: 6.619660973548889 / 8 (82.7%)\n"
     ]
    },
    {
     "name": "stdout",
     "output_type": "stream",
     "text": [
      "\n"
     ]
    },
    {
     "name": "stderr",
     "output_type": "stream",
     "text": [
      "2025/01/17 06:42:00 INFO dspy.teleprompt.mipro_optimizer_v2: Score: 82.75 with parameters ['Predictor 0: Instruction 5'].\n",
      "2025/01/17 06:42:00 INFO dspy.teleprompt.mipro_optimizer_v2: Scores so far: [84.1, 84.43, 82.75]\n",
      "2025/01/17 06:42:00 INFO dspy.teleprompt.mipro_optimizer_v2: Best score so far: 84.43\n",
      "2025/01/17 06:42:00 INFO dspy.teleprompt.mipro_optimizer_v2: =======================\n",
      "\n",
      "\n",
      "2025/01/17 06:42:00 INFO dspy.teleprompt.mipro_optimizer_v2: ===== Trial 3 / 7 =====\n"
     ]
    },
    {
     "name": "stdout",
     "output_type": "stream",
     "text": [
      "Average Metric: 6.75 / 8 (84.4%): 100%|███████████| 8/8 [00:00<00:00, 18.72it/s]"
     ]
    },
    {
     "name": "stderr",
     "output_type": "stream",
     "text": [
      "2025/01/17 06:42:01 INFO dspy.evaluate.evaluate: Average Metric: 6.7541292905807495 / 8 (84.4%)\n"
     ]
    },
    {
     "name": "stdout",
     "output_type": "stream",
     "text": [
      "\n"
     ]
    },
    {
     "name": "stderr",
     "output_type": "stream",
     "text": [
      "2025/01/17 06:42:03 INFO dspy.teleprompt.mipro_optimizer_v2: Score: 84.43 with parameters ['Predictor 0: Instruction 2'].\n",
      "2025/01/17 06:42:03 INFO dspy.teleprompt.mipro_optimizer_v2: Scores so far: [84.1, 84.43, 82.75, 84.43]\n",
      "2025/01/17 06:42:03 INFO dspy.teleprompt.mipro_optimizer_v2: Best score so far: 84.43\n",
      "2025/01/17 06:42:03 INFO dspy.teleprompt.mipro_optimizer_v2: =======================\n",
      "\n",
      "\n",
      "2025/01/17 06:42:03 INFO dspy.teleprompt.mipro_optimizer_v2: ===== Trial 4 / 7 =====\n"
     ]
    },
    {
     "name": "stdout",
     "output_type": "stream",
     "text": [
      "Average Metric: 6.62 / 8 (82.7%): 100%|███████████| 8/8 [00:00<00:00, 16.34it/s]"
     ]
    },
    {
     "name": "stderr",
     "output_type": "stream",
     "text": [
      "2025/01/17 06:42:04 INFO dspy.evaluate.evaluate: Average Metric: 6.619660973548889 / 8 (82.7%)\n"
     ]
    },
    {
     "name": "stdout",
     "output_type": "stream",
     "text": [
      "\n"
     ]
    },
    {
     "name": "stderr",
     "output_type": "stream",
     "text": [
      "2025/01/17 06:42:05 INFO dspy.teleprompt.mipro_optimizer_v2: Score: 82.75 with parameters ['Predictor 0: Instruction 5'].\n",
      "2025/01/17 06:42:05 INFO dspy.teleprompt.mipro_optimizer_v2: Scores so far: [84.1, 84.43, 82.75, 84.43, 82.75]\n",
      "2025/01/17 06:42:05 INFO dspy.teleprompt.mipro_optimizer_v2: Best score so far: 84.43\n",
      "2025/01/17 06:42:05 INFO dspy.teleprompt.mipro_optimizer_v2: =======================\n",
      "\n",
      "\n",
      "2025/01/17 06:42:05 INFO dspy.teleprompt.mipro_optimizer_v2: ===== Trial 5 / 7 =====\n"
     ]
    },
    {
     "name": "stdout",
     "output_type": "stream",
     "text": [
      "Average Metric: 6.13 / 8 (76.6%): 100%|███████████| 8/8 [00:00<00:00, 12.91it/s]\n"
     ]
    },
    {
     "name": "stderr",
     "output_type": "stream",
     "text": [
      "2025/01/17 06:42:06 INFO dspy.evaluate.evaluate: Average Metric: 6.129777729511261 / 8 (76.6%)\n",
      "2025/01/17 06:42:07 INFO dspy.teleprompt.mipro_optimizer_v2: Score: 76.62 with parameters ['Predictor 0: Instruction 4'].\n",
      "2025/01/17 06:42:07 INFO dspy.teleprompt.mipro_optimizer_v2: Scores so far: [84.1, 84.43, 82.75, 84.43, 82.75, 76.62]\n",
      "2025/01/17 06:42:07 INFO dspy.teleprompt.mipro_optimizer_v2: Best score so far: 84.43\n",
      "2025/01/17 06:42:07 INFO dspy.teleprompt.mipro_optimizer_v2: =======================\n",
      "\n",
      "\n",
      "2025/01/17 06:42:07 INFO dspy.teleprompt.mipro_optimizer_v2: ===== Trial 6 / 7 =====\n"
     ]
    },
    {
     "name": "stdout",
     "output_type": "stream",
     "text": [
      "Average Metric: 6.75 / 8 (84.4%): 100%|███████████| 8/8 [00:00<00:00, 17.78it/s]"
     ]
    },
    {
     "name": "stderr",
     "output_type": "stream",
     "text": [
      "2025/01/17 06:42:08 INFO dspy.evaluate.evaluate: Average Metric: 6.7541292905807495 / 8 (84.4%)\n"
     ]
    },
    {
     "name": "stdout",
     "output_type": "stream",
     "text": [
      "\n"
     ]
    },
    {
     "name": "stderr",
     "output_type": "stream",
     "text": [
      "2025/01/17 06:42:10 INFO dspy.teleprompt.mipro_optimizer_v2: Score: 84.43 with parameters ['Predictor 0: Instruction 1'].\n",
      "2025/01/17 06:42:10 INFO dspy.teleprompt.mipro_optimizer_v2: Scores so far: [84.1, 84.43, 82.75, 84.43, 82.75, 76.62, 84.43]\n",
      "2025/01/17 06:42:10 INFO dspy.teleprompt.mipro_optimizer_v2: Best score so far: 84.43\n",
      "2025/01/17 06:42:10 INFO dspy.teleprompt.mipro_optimizer_v2: =======================\n",
      "\n",
      "\n",
      "2025/01/17 06:42:10 INFO dspy.teleprompt.mipro_optimizer_v2: ===== Trial 7 / 7 =====\n"
     ]
    },
    {
     "name": "stdout",
     "output_type": "stream",
     "text": [
      "Average Metric: 6.75 / 8 (84.4%): 100%|███████████| 8/8 [00:00<00:00, 16.58it/s]"
     ]
    },
    {
     "name": "stderr",
     "output_type": "stream",
     "text": [
      "2025/01/17 06:42:11 INFO dspy.evaluate.evaluate: Average Metric: 6.7541292905807495 / 8 (84.4%)\n"
     ]
    },
    {
     "name": "stdout",
     "output_type": "stream",
     "text": [
      "\n"
     ]
    },
    {
     "name": "stderr",
     "output_type": "stream",
     "text": [
      "2025/01/17 06:42:12 INFO dspy.teleprompt.mipro_optimizer_v2: Score: 84.43 with parameters ['Predictor 0: Instruction 6'].\n",
      "2025/01/17 06:42:12 INFO dspy.teleprompt.mipro_optimizer_v2: Scores so far: [84.1, 84.43, 82.75, 84.43, 82.75, 76.62, 84.43, 84.43]\n",
      "2025/01/17 06:42:12 INFO dspy.teleprompt.mipro_optimizer_v2: Best score so far: 84.43\n",
      "2025/01/17 06:42:12 INFO dspy.teleprompt.mipro_optimizer_v2: =======================\n",
      "\n",
      "\n",
      "2025/01/17 06:42:12 INFO dspy.teleprompt.mipro_optimizer_v2: Returning best identified program with score 84.43!\n"
     ]
    },
    {
     "name": "stdout",
     "output_type": "stream",
     "text": [
      "Average Metric: 3.89 / 5 (77.7%): 100%|███████████| 5/5 [00:00<00:00, 12.18it/s]"
     ]
    },
    {
     "name": "stderr",
     "output_type": "stream",
     "text": [
      "2025/01/17 06:42:13 INFO dspy.evaluate.evaluate: Average Metric: 3.8860577940940857 / 5 (77.7%)\n"
     ]
    },
    {
     "name": "stdout",
     "output_type": "stream",
     "text": [
      "\n"
     ]
    },
    {
     "data": {
      "text/html": [
       "<div>\n",
       "<style scoped>\n",
       "    .dataframe tbody tr th:only-of-type {\n",
       "        vertical-align: middle;\n",
       "    }\n",
       "\n",
       "    .dataframe tbody tr th {\n",
       "        vertical-align: top;\n",
       "    }\n",
       "\n",
       "    .dataframe thead th {\n",
       "        text-align: right;\n",
       "    }\n",
       "</style>\n",
       "<table border=\"1\" class=\"dataframe\">\n",
       "  <thead>\n",
       "    <tr style=\"text-align: right;\">\n",
       "      <th></th>\n",
       "      <th>question</th>\n",
       "      <th>example_answer</th>\n",
       "      <th>reasoning</th>\n",
       "      <th>pred_answer</th>\n",
       "      <th>SemScore</th>\n",
       "    </tr>\n",
       "  </thead>\n",
       "  <tbody>\n",
       "    <tr>\n",
       "      <th>0</th>\n",
       "      <td>What mechanisms does your organization use to prevent unauthorized...</td>\n",
       "      <td>Introduction to SPF Records and Mechanisms =======================...</td>\n",
       "      <td>To prevent unauthorized senders from using your organization's dom...</td>\n",
       "      <td>To implement these mechanisms, you can follow these steps: 1. Unde...</td>\n",
       "      <td>✔️ [0.724]</td>\n",
       "    </tr>\n",
       "    <tr>\n",
       "      <th>1</th>\n",
       "      <td>What is your organization's strategy for handling complex SPF reco...</td>\n",
       "      <td>Introduction to SPF Record Wildcard and Macro Configurations =====...</td>\n",
       "      <td>Handling complex SPF record wildcard and macro configurations requ...</td>\n",
       "      <td>To handle complex SPF record wildcard and macro configurations eff...</td>\n",
       "      <td>✔️ [0.843]</td>\n",
       "    </tr>\n",
       "    <tr>\n",
       "      <th>2</th>\n",
       "      <td>What specific guidelines do you follow to define and configure SPF...</td>\n",
       "      <td>Introduction to SPF Record Scopes ================================...</td>\n",
       "      <td>To define and configure SPF record scopes, organizations typically...</td>\n",
       "      <td>For example, an organization might define SPF record scopes based ...</td>\n",
       "      <td>✔️ [0.685]</td>\n",
       "    </tr>\n",
       "    <tr>\n",
       "      <th>3</th>\n",
       "      <td>How do you ensure that your SPF records are properly propagated to...</td>\n",
       "      <td>Ensuring Proper Propagation and Consistency of SPF Records: A Comp...</td>\n",
       "      <td>To ensure proper propagation of SPF records to all DNS servers and...</td>\n",
       "      <td>To prevent inconsistencies or conflicts in SPF records, the follow...</td>\n",
       "      <td>✔️ [0.813]</td>\n",
       "    </tr>\n",
       "    <tr>\n",
       "      <th>4</th>\n",
       "      <td>How does your organization handle the management of SPF record wil...</td>\n",
       "      <td>Introduction to SPF Record Wildcards and Macros Management =======...</td>\n",
       "      <td>Managing SPF records for wildcard and macro usage in email securit...</td>\n",
       "      <td>To handle the management of SPF record wildcards and macros across...</td>\n",
       "      <td>✔️ [0.821]</td>\n",
       "    </tr>\n",
       "  </tbody>\n",
       "</table>\n",
       "</div>"
      ],
      "text/plain": [
       "                                                                question  \\\n",
       "0  What mechanisms does your organization use to prevent unauthorized...   \n",
       "1  What is your organization's strategy for handling complex SPF reco...   \n",
       "2  What specific guidelines do you follow to define and configure SPF...   \n",
       "3  How do you ensure that your SPF records are properly propagated to...   \n",
       "4  How does your organization handle the management of SPF record wil...   \n",
       "\n",
       "                                                          example_answer  \\\n",
       "0  Introduction to SPF Records and Mechanisms =======================...   \n",
       "1  Introduction to SPF Record Wildcard and Macro Configurations =====...   \n",
       "2  Introduction to SPF Record Scopes ================================...   \n",
       "3  Ensuring Proper Propagation and Consistency of SPF Records: A Comp...   \n",
       "4  Introduction to SPF Record Wildcards and Macros Management =======...   \n",
       "\n",
       "                                                               reasoning  \\\n",
       "0  To prevent unauthorized senders from using your organization's dom...   \n",
       "1  Handling complex SPF record wildcard and macro configurations requ...   \n",
       "2  To define and configure SPF record scopes, organizations typically...   \n",
       "3  To ensure proper propagation of SPF records to all DNS servers and...   \n",
       "4  Managing SPF records for wildcard and macro usage in email securit...   \n",
       "\n",
       "                                                             pred_answer  \\\n",
       "0  To implement these mechanisms, you can follow these steps: 1. Unde...   \n",
       "1  To handle complex SPF record wildcard and macro configurations eff...   \n",
       "2  For example, an organization might define SPF record scopes based ...   \n",
       "3  To prevent inconsistencies or conflicts in SPF records, the follow...   \n",
       "4  To handle the management of SPF record wildcards and macros across...   \n",
       "\n",
       "     SemScore  \n",
       "0  ✔️ [0.724]  \n",
       "1  ✔️ [0.843]  \n",
       "2  ✔️ [0.685]  \n",
       "3  ✔️ [0.813]  \n",
       "4  ✔️ [0.821]  "
      ]
     },
     "metadata": {},
     "output_type": "display_data"
    },
    {
     "data": {
      "application/vnd.jupyter.widget-view+json": {
       "model_id": "d9afca6718b145a7869fd04915fec659",
       "version_major": 2,
       "version_minor": 0
      },
      "text/plain": [
       "  0%|          | 0/5 [00:00<?, ?it/s]"
      ]
     },
     "metadata": {},
     "output_type": "display_data"
    },
    {
     "data": {
      "application/vnd.jupyter.widget-view+json": {
       "model_id": "55162d68039143999c0a7487aa2a82b9",
       "version_major": 2,
       "version_minor": 0
      },
      "text/plain": [
       "  0%|          | 0/5 [00:00<?, ?it/s]"
      ]
     },
     "metadata": {},
     "output_type": "display_data"
    },
    {
     "data": {
      "application/vnd.jupyter.widget-view+json": {
       "model_id": "98dbfcb43d0c4504a137e9cbe178ed40",
       "version_major": 2,
       "version_minor": 0
      },
      "text/plain": [
       "  0%|          | 0/5 [00:00<?, ?it/s]"
      ]
     },
     "metadata": {},
     "output_type": "display_data"
    },
    {
     "data": {
      "application/vnd.jupyter.widget-view+json": {
       "model_id": "62384d1a48f241f3a3b14ecbce0787b5",
       "version_major": 2,
       "version_minor": 0
      },
      "text/plain": [
       "  0%|          | 0/5 [00:00<?, ?it/s]"
      ]
     },
     "metadata": {},
     "output_type": "display_data"
    }
   ],
   "source": [
    "# Add models to be considered\n",
    "models = ['llama3.2','qwen2:1.5b']\n",
    "\n",
    "LLMModels = [dspy.LM(f'ollama_chat/{mdle}', api_base='http://localhost:11434', api_key='') for mdle in models]\n",
    "\n",
    "# model1 = dspy.LM('ollama_chat/llama3.2', api_base='http://localhost:11434', api_key='')\n",
    "# model2 = dspy.LM('ollama_chat/qwen2:1.5b', api_base='http://localhost:11434', api_key='')\n",
    "\n",
    "\n",
    "judge_model = LLMModels[0].copy()\n",
    "\n",
    "DSPyInstrumentor().instrument(tracer_provider=tracer_provider,skip_dep_check=True)\n",
    "LiteLLMInstrumentor().instrument(tracer_provider=tracer_provider,skip_dep_check=True)\n",
    "\n",
    "for model in LLMModels:\n",
    "    dspy.configure(lm=model)\n",
    "\n",
    "    # https://dspy.ai/deep-dive/optimizers/miprov2#optimizing-instructions-only-with-miprov2-0-shot\n",
    "    # DSPyInstrumentor().instrument(tracer_provider=tracer_provider,skip_dep_check=True)\n",
    "    # LiteLLMInstrumentor().instrument(tracer_provider=tracer_provider,skip_dep_check=True)\n",
    "    print('ModelName:******',dspy.settings.lm.model,'********')\n",
    "\n",
    "    temp_semscore = []\n",
    "    temp_outputs = []\n",
    "    for func,name in zip([ZS_PredictModel(),FewShot_PredictModel(few_shot_examples),ZS_CotModel(),FewShot_CotModel()],['ZS','FS','ZS-COT','FS-COT']):\n",
    "    \n",
    "        with dspy.context(lm = model):    \n",
    "            teleprompter = MIPROv2(\n",
    "                metric=SemScore,\n",
    "                prompt_model=model,\n",
    "                task_model=model,\n",
    "                auto=\"light\", # Can choose between light, medium, and heavy optimization runs\n",
    "            )\n",
    "        \n",
    "            langwatch.dspy.init(experiment=\"try10\", optimizer=teleprompter,run_id=f\"{name}-{model.model.split('/')[-1]}\")\n",
    "            optimized_program = teleprompter.compile(\n",
    "                func.deepcopy(),\n",
    "                # FewShot_PredictModel(few_shot_examples).deepcopy(),\n",
    "                trainset=trainset,\n",
    "                max_bootstrapped_demos=0, # ZERO FEW-SHOT EXAMPLES\n",
    "                max_labeled_demos=0, # ZERO FEW-SHOT EXAMPLES\n",
    "                requires_permission_to_run=False,\n",
    "            )\n",
    "            eval_predict,outputs = evaluate_program(optimized_program)\n",
    "            \n",
    "            temp_semscore.append(eval_predict)\n",
    "            temp_outputs.append(outputs)\n",
    "            \n",
    "    results_semscore.append({\n",
    "                        'Model': model.model,\n",
    "                        'Zero Shot -Direct': temp_semscore[0],\n",
    "                        'Few Shot -Direct': temp_semscore[1],\n",
    "                        'Zero Shot -COT': temp_semscore[2],\n",
    "                        'Few Shot -COT': temp_semscore[3]\n",
    "                        })\n",
    "\n",
    "    with dspy.context(lm = judge_model):\n",
    "        results_llmjudge.append({\n",
    "            'Model': model.model,\n",
    "            'Zero Shot -Direct': llmscore(temp_outputs[0]),\n",
    "            'Few Shot -Direct': llmscore(temp_outputs[1]),\n",
    "            'Zero Shot -COT': llmscore(temp_outputs[2]),\n",
    "            'Few Shot -COT': llmscore(temp_outputs[3])\n",
    "            })"
   ]
  },
  {
   "cell_type": "markdown",
   "id": "ff02369d-96fe-4846-9c9e-27755e52c089",
   "metadata": {},
   "source": [
    "<div style=\"background-color: pink; padding: 10px; border-radius: 5px; font-size: 18px; font-weight: bold;\">\n",
    "    Graphs\n",
    "</div>"
   ]
  },
  {
   "cell_type": "code",
   "execution_count": 23,
   "id": "8413f77f-1138-406a-9ab8-9575198f0e15",
   "metadata": {},
   "outputs": [
    {
     "data": {
      "image/png": "[encoded data removed]",
      "text/plain": [
       "<Figure size 720x432 with 1 Axes>"
      ]
     },
     "metadata": {
      "needs_background": "light"
     },
     "output_type": "display_data"
    }
   ],
   "source": [
    "import matplotlib.pyplot as plt\n",
    "df = pd.DataFrame(results_semscore)\n",
    "\n",
    "# Plot with scores centered on bars\n",
    "fig, ax = plt.subplots(figsize=(10, 6))\n",
    "x = range(len(df['Model']))\n",
    "\n",
    "# Bar widths and positions\n",
    "width = 0.1\n",
    "\n",
    "# Plot each metric\n",
    "bars1 = ax.bar(x, df['Zero Shot -Direct'], width=width, label='Zero Shot -Direct', align='center')\n",
    "bars2 = ax.bar([i + width for i in x], df['Few Shot -Direct'], width=width, label='Few Shot -Direct', align='center')\n",
    "bars3 = ax.bar([i + 2 * width for i in x], df['Zero Shot -COT'], width=width, label='Zero Shot -COT', align='center')\n",
    "bars4 = ax.bar([i + 3 * width for i in x], df['Few Shot -COT'], width=width, label='Few Shot -COT', align='center')\n",
    "\n",
    "# Add individual scores at the center of bars\n",
    "for bars in [bars1, bars2, bars3, bars4]:\n",
    "    for bar in bars:\n",
    "        height = bar.get_height()\n",
    "        ax.text(bar.get_x() + bar.get_width() / 2, height / 2, f'{height:.2f}',\n",
    "                ha='center', va='center', fontsize=9, color='white')\n",
    "\n",
    "# Customize plot\n",
    "ax.set_xticks([i + 1.5 * width for i in x])\n",
    "ax.set_xticklabels(df['Model'])\n",
    "ax.set_ylabel('Scores')\n",
    "ax.set_title('Performance Comparison of Models with semscore Scores')\n",
    "ax.legend()\n",
    "\n",
    "# Show plot\n",
    "plt.tight_layout()\n",
    "plt.show()"
   ]
  },
  {
   "cell_type": "code",
   "execution_count": 24,
   "id": "00aa7801-0755-4c88-bfb1-e1a5bff19fdb",
   "metadata": {},
   "outputs": [
    {
     "data": {
      "image/png": "[encoded data removed]",
      "text/plain": [
       "<Figure size 720x432 with 1 Axes>"
      ]
     },
     "metadata": {
      "needs_background": "light"
     },
     "output_type": "display_data"
    }
   ],
   "source": [
    "df = pd.DataFrame(results_llmjudge)\n",
    "\n",
    "# Plot with scores centered on bars\n",
    "fig, ax = plt.subplots(figsize=(10, 6))\n",
    "x = range(len(df['Model']))\n",
    "\n",
    "# Bar widths and positions\n",
    "width = 0.1\n",
    "\n",
    "# Plot each metric\n",
    "bars1 = ax.bar(x, df['Zero Shot -Direct'], width=width, label='Zero Shot -Direct', align='center')\n",
    "bars2 = ax.bar([i + width for i in x], df['Few Shot -Direct'], width=width, label='Few Shot -Direct', align='center')\n",
    "bars3 = ax.bar([i + 2 * width for i in x], df['Zero Shot -COT'], width=width, label='Zero Shot -COT', align='center')\n",
    "bars4 = ax.bar([i + 3 * width for i in x], df['Few Shot -COT'], width=width, label='Few Shot -COT', align='center')\n",
    "\n",
    "# Add individual scores at the center of bars\n",
    "for bars in [bars1, bars2, bars3, bars4]:\n",
    "    for bar in bars:\n",
    "        height = bar.get_height()\n",
    "        ax.text(bar.get_x() + bar.get_width() / 2, height / 2, f'{height:.2f}',\n",
    "                ha='center', va='center', fontsize=9, color='white')\n",
    "\n",
    "# Customize plot\n",
    "ax.set_xticks([i + 1.5 * width for i in x])\n",
    "ax.set_xticklabels(df['Model'])\n",
    "ax.set_ylabel('Scores')\n",
    "ax.set_title('Performance Comparison of Models with llmjudge Scores')\n",
    "ax.legend()\n",
    "\n",
    "# Show plot\n",
    "plt.tight_layout()\n",
    "plt.show()"
   ]
  }
 ],
 "metadata": {
  "kernelspec": {
   "display_name": "Python 3 (ipykernel)",
   "language": "python",
   "name": "python3"
  },
  "language_info": {
   "codemirror_mode": {
    "name": "ipython",
    "version": 3
   },
   "file_extension": ".py",
   "mimetype": "text/x-python",
   "name": "python",
   "nbconvert_exporter": "python",
   "pygments_lexer": "ipython3",
   "version": "3.10.12"
  }
 },
 "nbformat": 4,
 "nbformat_minor": 5
}
