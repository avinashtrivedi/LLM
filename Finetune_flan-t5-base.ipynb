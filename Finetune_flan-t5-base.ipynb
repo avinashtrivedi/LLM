{
 "cells": [
  {
   "cell_type": "code",
   "execution_count": 1,
   "id": "910470a9-768a-47fc-8e78-62a1af4856b6",
   "metadata": {},
   "outputs": [],
   "source": [
    "import pandas as pd\n",
    "from sklearn.model_selection import train_test_split\n",
    "df = pd.read_excel('Raw Data.xlsx')"
   ]
  },
  {
   "cell_type": "code",
   "execution_count": 2,
   "id": "aa30d073-5043-440c-803b-39ba74275a69",
   "metadata": {},
   "outputs": [
    {
     "data": {
      "text/plain": [
       "(350, 6)"
      ]
     },
     "execution_count": 2,
     "metadata": {},
     "output_type": "execute_result"
    }
   ],
   "source": [
    "df.shape"
   ]
  },
  {
   "cell_type": "code",
   "execution_count": 3,
   "id": "358d5f8f-8541-4c93-be69-97dff54454d7",
   "metadata": {},
   "outputs": [],
   "source": [
    "df.dropna(inplace=True)"
   ]
  },
  {
   "cell_type": "code",
   "execution_count": 4,
   "id": "5400f154-52e7-4453-bc6c-b86c4ee5bd70",
   "metadata": {},
   "outputs": [
    {
     "data": {
      "text/plain": [
       "(349, 6)"
      ]
     },
     "execution_count": 4,
     "metadata": {},
     "output_type": "execute_result"
    }
   ],
   "source": [
    "df.shape"
   ]
  },
  {
   "cell_type": "code",
   "execution_count": 5,
   "id": "f7219a2b-a2f3-4b97-b6c3-01b4c6a99938",
   "metadata": {},
   "outputs": [],
   "source": [
    "df = df[['Heavy Chain Sequences','Light Chain Sequences','Payload SMILES','Linker SMILES']]"
   ]
  },
  {
   "cell_type": "code",
   "execution_count": 6,
   "id": "4fbb7428-9549-4006-80a6-86ececbfbb00",
   "metadata": {},
   "outputs": [],
   "source": [
    "df.columns = ['heavy_chain','light_chain','payload_smiles','linker_smiles']"
   ]
  },
  {
   "cell_type": "code",
   "execution_count": 7,
   "id": "378662de-e6bd-4411-8890-f6574fbab57d",
   "metadata": {},
   "outputs": [],
   "source": [
    "df_train,df_val = train_test_split(df,test_size=0.20, random_state=42)"
   ]
  },
  {
   "cell_type": "code",
   "execution_count": 8,
   "id": "e913de80-633b-4691-9a0a-e0a440bf3e46",
   "metadata": {},
   "outputs": [
    {
     "data": {
      "text/plain": [
       "(279, 4)"
      ]
     },
     "execution_count": 8,
     "metadata": {},
     "output_type": "execute_result"
    }
   ],
   "source": [
    "df_train.shape"
   ]
  },
  {
   "cell_type": "markdown",
   "id": "00d07730-8e96-45bd-ba04-181600a48598",
   "metadata": {},
   "source": [
    "df_val.shape"
   ]
  },
  {
   "cell_type": "markdown",
   "id": "0dd50a2c-b432-4008-b497-28f541d11fe5",
   "metadata": {},
   "source": [
    "# Finetune Seq2seq model"
   ]
  },
  {
   "cell_type": "code",
   "execution_count": 9,
   "id": "065cc3cf-28c1-4e7f-8e3e-6a74dd77bbd7",
   "metadata": {},
   "outputs": [
    {
     "name": "stderr",
     "output_type": "stream",
     "text": [
      "2024-10-12 06:15:39.808769: I tensorflow/core/util/util.cc:169] oneDNN custom operations are on. You may see slightly different numerical results due to floating-point round-off errors from different computation orders. To turn them off, set the environment variable `TF_ENABLE_ONEDNN_OPTS=0`.\n"
     ]
    },
    {
     "name": "stdout",
     "output_type": "stream",
     "text": [
      "Running on cuda\n"
     ]
    },
    {
     "name": "stderr",
     "output_type": "stream",
     "text": [
      "/home/sarang/.local/lib/python3.10/site-packages/transformers/tokenization_utils_base.py:1617: FutureWarning: `clean_up_tokenization_spaces` was not set. It will be set to `True` by default. This behavior will be deprecated in transformers v4.45, and will be then set to `False` by default. For more details check this issue: https://github.com/huggingface/transformers/issues/31884\n",
      "  warnings.warn(\n"
     ]
    },
    {
     "data": {
      "application/vnd.jupyter.widget-view+json": {
       "model_id": "e0fb22c9986e4a23829ca20376f24f8a",
       "version_major": 2,
       "version_minor": 0
      },
      "text/plain": [
       "Map:   0%|          | 0/279 [00:00<?, ? examples/s]"
      ]
     },
     "metadata": {},
     "output_type": "display_data"
    },
    {
     "name": "stderr",
     "output_type": "stream",
     "text": [
      "/home/sarang/.local/lib/python3.10/site-packages/transformers/tokenization_utils_base.py:4117: UserWarning: `as_target_tokenizer` is deprecated and will be removed in v5 of Transformers. You can tokenize your labels by using the argument `text_target` of the regular `__call__` method (either in the same call as your input texts if you use the same keyword arguments, or in a separate call.\n",
      "  warnings.warn(\n"
     ]
    },
    {
     "data": {
      "application/vnd.jupyter.widget-view+json": {
       "model_id": "e00701f021ec4dd38850d4d3eeb53564",
       "version_major": 2,
       "version_minor": 0
      },
      "text/plain": [
       "Map:   0%|          | 0/70 [00:00<?, ? examples/s]"
      ]
     },
     "metadata": {},
     "output_type": "display_data"
    },
    {
     "name": "stderr",
     "output_type": "stream",
     "text": [
      "/home/sarang/.local/lib/python3.10/site-packages/transformers/training_args.py:1545: FutureWarning: `evaluation_strategy` is deprecated and will be removed in version 4.46 of 🤗 Transformers. Use `eval_strategy` instead\n",
      "  warnings.warn(\n"
     ]
    },
    {
     "data": {
      "text/html": [
       "\n",
       "    <div>\n",
       "      \n",
       "      <progress value='465' max='465' style='width:300px; height:20px; vertical-align: middle;'></progress>\n",
       "      [465/465 03:04, Epoch 5/5]\n",
       "    </div>\n",
       "    <table border=\"1\" class=\"dataframe\">\n",
       "  <thead>\n",
       " <tr style=\"text-align: left;\">\n",
       "      <th>Epoch</th>\n",
       "      <th>Training Loss</th>\n",
       "      <th>Validation Loss</th>\n",
       "    </tr>\n",
       "  </thead>\n",
       "  <tbody>\n",
       "    <tr>\n",
       "      <td>1</td>\n",
       "      <td>0.320600</td>\n",
       "      <td>0.252251</td>\n",
       "    </tr>\n",
       "    <tr>\n",
       "      <td>2</td>\n",
       "      <td>0.154100</td>\n",
       "      <td>0.128242</td>\n",
       "    </tr>\n",
       "    <tr>\n",
       "      <td>3</td>\n",
       "      <td>0.090800</td>\n",
       "      <td>0.100043</td>\n",
       "    </tr>\n",
       "    <tr>\n",
       "      <td>4</td>\n",
       "      <td>0.168600</td>\n",
       "      <td>0.091100</td>\n",
       "    </tr>\n",
       "    <tr>\n",
       "      <td>5</td>\n",
       "      <td>0.185200</td>\n",
       "      <td>0.087313</td>\n",
       "    </tr>\n",
       "  </tbody>\n",
       "</table><p>"
      ],
      "text/plain": [
       "<IPython.core.display.HTML object>"
      ]
     },
     "metadata": {},
     "output_type": "display_data"
    },
    {
     "name": "stderr",
     "output_type": "stream",
     "text": [
      "There were missing keys in the checkpoint model loaded: ['encoder.embed_tokens.weight', 'decoder.embed_tokens.weight'].\n"
     ]
    },
    {
     "data": {
      "text/plain": [
       "TrainOutput(global_step=465, training_loss=1.454674028100506, metrics={'train_runtime': 185.2474, 'train_samples_per_second': 7.53, 'train_steps_per_second': 2.51, 'total_flos': 955236506664960.0, 'train_loss': 1.454674028100506, 'epoch': 5.0})"
      ]
     },
     "execution_count": 9,
     "metadata": {},
     "output_type": "execute_result"
    }
   ],
   "source": [
    "from transformers import AutoTokenizer, AutoModelForSeq2SeqLM, Seq2SeqTrainer, Seq2SeqTrainingArguments\n",
    "from datasets import load_dataset, Dataset\n",
    "from transformers import EarlyStoppingCallback\n",
    "import torch\n",
    "device = torch.device(\"cuda\" if torch.cuda.is_available() else \"cpu\")\n",
    "print(f'Running on {device}')\n",
    "# Load a pre-trained Seq2Seq model like T5 or BART\n",
    "model_name = 'google/flan-t5-base'#\"t5-small\"  # You can choose \"facebook/bart-large\" or any other Seq2Seq model\n",
    "tokenizer = AutoTokenizer.from_pretrained(model_name)\n",
    "model = AutoModelForSeq2SeqLM.from_pretrained(model_name)\n",
    "\n",
    "model.to(device)\n",
    "\n",
    "def preprocess_function(examples):\n",
    "    inputs = []\n",
    "    \n",
    "    for heavy_chain, light_chain, payload_smiles in zip(examples['heavy_chain'], examples['light_chain'], examples['payload_smiles']):\n",
    "        input_str = heavy_chain + \" \" + light_chain + \" \" + payload_smiles\n",
    "        inputs.append(input_str)\n",
    "    \n",
    "    model_inputs = tokenizer(inputs, max_length=512, truncation=True, padding=\"max_length\")\n",
    "\n",
    "    with tokenizer.as_target_tokenizer():\n",
    "        labels = tokenizer(examples['linker_smiles'], max_length=512, truncation=True, padding=\"max_length\")\n",
    "\n",
    "    model_inputs['labels'] = labels['input_ids']\n",
    "    return model_inputs\n",
    "\n",
    "train_dataset = Dataset.from_dict(df_train)\n",
    "val_dataset = Dataset.from_dict(df_val)\n",
    "\n",
    "tokenized_dataset_train = train_dataset.map(preprocess_function, batched=True)\n",
    "tokenized_dataset_val = val_dataset.map(preprocess_function, batched=True)\n",
    "\n",
    "from transformers import Seq2SeqTrainingArguments, Seq2SeqTrainer, EarlyStoppingCallback\n",
    "\n",
    "training_args = Seq2SeqTrainingArguments(\n",
    "    output_dir=\"./results\",\n",
    "    evaluation_strategy=\"epoch\",  \n",
    "    save_strategy=\"epoch\",\n",
    "    learning_rate=5e-5,\n",
    "    per_device_train_batch_size=3, # reduce if getting out of memory error\n",
    "    per_device_eval_batch_size=3, # reduce if getting out of memory error\n",
    "    weight_decay=0.01,\n",
    "    save_total_limit=3,\n",
    "    num_train_epochs=5, # epochs\n",
    "    logging_steps=1,\n",
    "    predict_with_generate=True,\n",
    "    load_best_model_at_end=True, \n",
    "    metric_for_best_model=\"eval_loss\", \n",
    "    greater_is_better=False  \n",
    ")\n",
    "\n",
    "trainer = Seq2SeqTrainer(\n",
    "    model=model,\n",
    "    args=training_args,\n",
    "    train_dataset=tokenized_dataset_train,\n",
    "    eval_dataset=tokenized_dataset_val,\n",
    "    tokenizer=tokenizer,\n",
    "    callbacks=[EarlyStoppingCallback(early_stopping_patience=10)] \n",
    ")\n",
    "\n",
    "\n",
    "trainer.train()"
   ]
  },
  {
   "cell_type": "code",
   "execution_count": 10,
   "id": "3c045240-c768-4930-ae94-7bf25fae8a1d",
   "metadata": {},
   "outputs": [],
   "source": [
    "row_num = 12\n",
    "heavy = df['heavy_chain'][row_num]\n",
    "light = df['light_chain'][row_num]\n",
    "payload = df['payload_smiles'][row_num]"
   ]
  },
  {
   "cell_type": "code",
   "execution_count": 12,
   "id": "3e3fd600-72d7-47af-986c-daf752444479",
   "metadata": {},
   "outputs": [
    {
     "name": "stdout",
     "output_type": "stream",
     "text": [
      "Predicted Linker SMILES: C1CC(=O)N(C1=O)NC(=O)CCCCCN2C(=O)C=CC2=O\n"
     ]
    }
   ],
   "source": [
    "#Generate predictions (Linker SMILES) using the fine-tuned model\n",
    "test_inputs = f\"{heavy} {light} {payload}\"\n",
    "\n",
    "# Tokenize the input\n",
    "test_inputs_tokenized = tokenizer(test_inputs, return_tensors=\"pt\", max_length=512, truncation=True)\n",
    "\n",
    "input_tensor = test_inputs_tokenized.to(device)  # Move inputs to the correct device\n",
    "\n",
    "# Generate the Linker SMILES\n",
    "outputs = model.generate(test_inputs_tokenized['input_ids'], max_length=50)\n",
    "\n",
    "# Decode the result\n",
    "predicted_smiles = tokenizer.decode(outputs[0], skip_special_tokens=True)\n",
    "\n",
    "print(f\"Predicted Linker SMILES: {predicted_smiles}\")"
   ]
  }
 ],
 "metadata": {
  "kernelspec": {
   "display_name": "Python 3 (ipykernel)",
   "language": "python",
   "name": "python3"
  },
  "language_info": {
   "codemirror_mode": {
    "name": "ipython",
    "version": 3
   },
   "file_extension": ".py",
   "mimetype": "text/x-python",
   "name": "python",
   "nbconvert_exporter": "python",
   "pygments_lexer": "ipython3",
   "version": "3.10.12"
  }
 },
 "nbformat": 4,
 "nbformat_minor": 5
}
