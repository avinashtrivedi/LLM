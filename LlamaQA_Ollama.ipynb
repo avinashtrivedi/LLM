{
 "cells": [
  {
   "cell_type": "code",
   "execution_count": 3,
   "id": "d2ad312f-8aa2-4d16-934b-5d94448fb16d",
   "metadata": {},
   "outputs": [],
   "source": [
    "import requests\n",
    "import json\n",
    "import torch\n",
    "import os\n",
    "from tqdm import tqdm"
   ]
  },
  {
   "cell_type": "markdown",
   "id": "71c32dac-75ee-4757-b2f0-ae7ac72f0f1d",
   "metadata": {},
   "source": [
    "# Load SQuAD Data"
   ]
  },
  {
   "cell_type": "code",
   "execution_count": 4,
   "id": "821249c9-7b50-4a3b-b589-80de2a9fb2c5",
   "metadata": {},
   "outputs": [
    {
     "name": "stdout",
     "output_type": "stream",
     "text": [
      "File ‘train-v2.0.json’ already there; not retrieving.\n",
      "\n",
      "File ‘dev-v2.0.json’ already there; not retrieving.\n",
      "\n"
     ]
    }
   ],
   "source": [
    "!wget -nc https://rajpurkar.github.io/SQuAD-explorer/dataset/train-v2.0.json\n",
    "!wget -nc https://rajpurkar.github.io/SQuAD-explorer/dataset/dev-v2.0.json"
   ]
  },
  {
   "cell_type": "code",
   "execution_count": 5,
   "id": "6ce665f7-797f-4fc7-909c-b037be57b8cc",
   "metadata": {},
   "outputs": [],
   "source": [
    "# Load the training dataset and take a look at it\n",
    "with open('train-v2.0.json', 'rb') as f:\n",
    "  squad = json.load(f)"
   ]
  },
  {
   "cell_type": "code",
   "execution_count": 6,
   "id": "f5db3fef-1e2b-402f-a5be-329084ce596f",
   "metadata": {},
   "outputs": [],
   "source": [
    "def read_data(path):\n",
    "  # load the json file\n",
    "  with open(path, 'rb') as f:\n",
    "    squad = json.load(f)\n",
    "\n",
    "  contexts = []\n",
    "  questions = []\n",
    "  answers = []\n",
    "\n",
    "  for group in squad['data']:\n",
    "    for passage in group['paragraphs']:\n",
    "      context = passage['context']\n",
    "      for qa in passage['qas']:\n",
    "        question = qa['question']\n",
    "        for answer in qa['answers']:\n",
    "          contexts.append(context)\n",
    "          questions.append(question)\n",
    "          answers.append(answer)\n",
    "\n",
    "  return contexts, questions, answers"
   ]
  },
  {
   "cell_type": "code",
   "execution_count": 7,
   "id": "ded5dd7c-89a9-4f29-b57c-b797678713d4",
   "metadata": {},
   "outputs": [],
   "source": [
    "train_contexts, train_questions, train_answers = read_data('train-v2.0.json')\n",
    "valid_contexts, valid_questions, valid_answers = read_data('dev-v2.0.json')"
   ]
  },
  {
   "cell_type": "code",
   "execution_count": 9,
   "id": "f5fa619c-7679-46b8-ae3b-e0af102b444d",
   "metadata": {},
   "outputs": [
    {
     "data": {
      "text/plain": [
       "'Beyoncé Giselle Knowles-Carter (/biːˈjɒnseɪ/ bee-YON-say) (born September 4, 1981) is an American singer, songwriter, record producer and actress. Born and raised in Houston, Texas, she performed in various singing and dancing competitions as a child, and rose to fame in the late 1990s as lead singer of R&B girl-group Destiny\\'s Child. Managed by her father, Mathew Knowles, the group became one of the world\\'s best-selling girl groups of all time. Their hiatus saw the release of Beyoncé\\'s debut album, Dangerously in Love (2003), which established her as a solo artist worldwide, earned five Grammy Awards and featured the Billboard Hot 100 number-one singles \"Crazy in Love\" and \"Baby Boy\".'"
      ]
     },
     "execution_count": 9,
     "metadata": {},
     "output_type": "execute_result"
    }
   ],
   "source": [
    "train_contexts[0]"
   ]
  },
  {
   "cell_type": "code",
   "execution_count": 12,
   "id": "5ffbeb0a-d081-405c-84ec-2b9b612f22d3",
   "metadata": {},
   "outputs": [
    {
     "data": {
      "text/plain": [
       "{'text': 'in the late 1990s', 'answer_start': 269}"
      ]
     },
     "execution_count": 12,
     "metadata": {},
     "output_type": "execute_result"
    }
   ],
   "source": [
    "train_answers[0]"
   ]
  },
  {
   "cell_type": "code",
   "execution_count": 13,
   "id": "5bf43597-a782-46f8-9afa-ed16e049bb98",
   "metadata": {},
   "outputs": [
    {
     "data": {
      "text/plain": [
       "'When did Beyonce start becoming popular?'"
      ]
     },
     "execution_count": 13,
     "metadata": {},
     "output_type": "execute_result"
    }
   ],
   "source": [
    "train_questions[0]"
   ]
  },
  {
   "cell_type": "code",
   "execution_count": 19,
   "id": "fd469c79-ee2f-4215-b5f3-e128db20f99a",
   "metadata": {},
   "outputs": [],
   "source": [
    "import openai\n",
    "client = openai.OpenAI(\n",
    "    base_url=\"http://localhost:11434/v1\", # ollama endpoint\n",
    "    api_key='NO_KEY'\n",
    "    )"
   ]
  },
  {
   "cell_type": "markdown",
   "id": "9c5da6ca-c228-4bc2-bb65-f9005cac4a41",
   "metadata": {},
   "source": [
    "# Few shot inference using llama3.2:1b"
   ]
  },
  {
   "cell_type": "code",
   "execution_count": 22,
   "id": "28b3dcce-b33f-4ada-a6ac-225ef81ff6cc",
   "metadata": {},
   "outputs": [],
   "source": [
    "def get_predicted_answer(cntxt,qstn):\n",
    "    completion = client.chat.completions.create(\n",
    "\n",
    "        model= 'llama3.2:1b',\n",
    "        messages=[\n",
    "            {\"role\": \"system\", \"content\": \"\"\"\n",
    "            You are an AI assistant in Question Answering. Your task is to generate Answer based on a given context.\n",
    "            \n",
    "            Here are some examples:\n",
    "            \n",
    "            Context: The Great Wall of China is a series of fortifications that were built across the historical northern borders of ancient Chinese states and Imperial China. The wall was built to protect against invasions and raids. \n",
    "            Question: What was the purpose of the Great Wall of China?\n",
    "            Answer: To protect against invasions and raids.\n",
    "            \n",
    "            Context: The Eiffel Tower is a wrought-iron lattice tower on the Champ de Mars in Paris, France. It is named after the engineer Gustave Eiffel, whose company designed and built the tower. \n",
    "            Question: Who designed the Eiffel Tower?\n",
    "            Answer: Gustave Eiffel.\n",
    "            \n",
    "            Context: The Mona Lisa is a portrait painting by Leonardo da Vinci, considered an archetypal masterpiece of the Italian Renaissance. It is housed in the Louvre Museum in Paris.\n",
    "            Question: Who painted the Mona Lisa?\n",
    "            Answer: Leonardo da Vinci.\n",
    "            \n",
    "            # Now, the actual context and question for inference, respond with only the Answer and nothing else\n",
    "            \"\"\"},\n",
    "            {\"role\": \"user\", \"content\": f\"\"\"\n",
    "            Context: {cntxt}\n",
    "            Question: {qstn}\n",
    "            \"\"\"}\n",
    "        ]\n",
    "    )\n",
    "    return completion.choices[0].message.content"
   ]
  },
  {
   "cell_type": "code",
   "execution_count": 25,
   "id": "a4bd1d27-df9a-42ca-9154-a212598667bb",
   "metadata": {},
   "outputs": [
    {
     "name": "stdout",
     "output_type": "stream",
     "text": [
      "****************************************************************************************************\n",
      "Question Beyoncé Giselle Knowles-Carter (/biːˈjɒnseɪ/ bee-YON-say) (born September 4, 1981) is an American singer, songwriter, record producer and actress. Born and raised in Houston, Texas, she performed in various singing and dancing competitions as a child, and rose to fame in the late 1990s as lead singer of R&B girl-group Destiny's Child. Managed by her father, Mathew Knowles, the group became one of the world's best-selling girl groups of all time. Their hiatus saw the release of Beyoncé's debut album, Dangerously in Love (2003), which established her as a solo artist worldwide, earned five Grammy Awards and featured the Billboard Hot 100 number-one singles \"Crazy in Love\" and \"Baby Boy\".\n",
      "****************************************************************************************************\n",
      "Original Answer: {'text': 'Dangerously in Love', 'answer_start': 505}\n",
      "****************************************************************************************************\n",
      "Model Answer: Dangerously in Love\n"
     ]
    }
   ],
   "source": [
    "i = 10\n",
    "question = train_questions[i]\n",
    "context = train_contexts[i]\n",
    "answer = train_answers[i]\n",
    "ans = get_predicted_answer(context,question)\n",
    "\n",
    "print('*'*100)\n",
    "print('Question',context)\n",
    "print('*'*100)\n",
    "print('Original Answer:',answer)\n",
    "print('*'*100)\n",
    "print('Model Answer:',ans)"
   ]
  },
  {
   "cell_type": "code",
   "execution_count": 26,
   "id": "3e0cb6dc-22da-4bd0-8a62-82fda90cfe69",
   "metadata": {},
   "outputs": [
    {
     "name": "stdout",
     "output_type": "stream",
     "text": [
      "****************************************************************************************************\n",
      "Question Following the disbandment of Destiny's Child in June 2005, she released her second solo album, B'Day (2006), which contained hits \"Déjà Vu\", \"Irreplaceable\", and \"Beautiful Liar\". Beyoncé also ventured into acting, with a Golden Globe-nominated performance in Dreamgirls (2006), and starring roles in The Pink Panther (2006) and Obsessed (2009). Her marriage to rapper Jay Z and portrayal of Etta James in Cadillac Records (2008) influenced her third album, I Am... Sasha Fierce (2008), which saw the birth of her alter-ego Sasha Fierce and earned a record-setting six Grammy Awards in 2010, including Song of the Year for \"Single Ladies (Put a Ring on It)\". Beyoncé took a hiatus from music in 2010 and took over management of her career; her fourth album 4 (2011) was subsequently mellower in tone, exploring 1970s funk, 1980s pop, and 1990s soul. Her critically acclaimed fifth studio album, Beyoncé (2013), was distinguished from previous releases by its experimental production and exploration of darker themes.\n",
      "****************************************************************************************************\n",
      "Original Answer: {'text': 'Cadillac Records', 'answer_start': 406}\n",
      "****************************************************************************************************\n",
      "Model Answer: Etta James in Cadillac Records.\n"
     ]
    }
   ],
   "source": [
    "i = 21\n",
    "question = train_questions[i]\n",
    "context = train_contexts[i]\n",
    "answer = train_answers[i]\n",
    "ans = get_predicted_answer(context,question)\n",
    "\n",
    "print('*'*100)\n",
    "print('Question',context)\n",
    "print('*'*100)\n",
    "print('Original Answer:',answer)\n",
    "print('*'*100)\n",
    "print('Model Answer:',ans)"
   ]
  },
  {
   "cell_type": "code",
   "execution_count": 27,
   "id": "0a3e53f0-74e6-4313-9c4e-e4048dd5bacd",
   "metadata": {},
   "outputs": [
    {
     "name": "stdout",
     "output_type": "stream",
     "text": [
      "****************************************************************************************************\n",
      "Question Following the disbandment of Destiny's Child in June 2005, she released her second solo album, B'Day (2006), which contained hits \"Déjà Vu\", \"Irreplaceable\", and \"Beautiful Liar\". Beyoncé also ventured into acting, with a Golden Globe-nominated performance in Dreamgirls (2006), and starring roles in The Pink Panther (2006) and Obsessed (2009). Her marriage to rapper Jay Z and portrayal of Etta James in Cadillac Records (2008) influenced her third album, I Am... Sasha Fierce (2008), which saw the birth of her alter-ego Sasha Fierce and earned a record-setting six Grammy Awards in 2010, including Song of the Year for \"Single Ladies (Put a Ring on It)\". Beyoncé took a hiatus from music in 2010 and took over management of her career; her fourth album 4 (2011) was subsequently mellower in tone, exploring 1970s funk, 1980s pop, and 1990s soul. Her critically acclaimed fifth studio album, Beyoncé (2013), was distinguished from previous releases by its experimental production and exploration of darker themes.\n",
      "****************************************************************************************************\n",
      "Original Answer: {'text': 'Jay Z', 'answer_start': 369}\n",
      "****************************************************************************************************\n",
      "Model Answer: Jay Z\n"
     ]
    }
   ],
   "source": [
    "i = 25\n",
    "question = train_questions[i]\n",
    "context = train_contexts[i]\n",
    "answer = train_answers[i]\n",
    "ans = get_predicted_answer(context,question)\n",
    "\n",
    "print('*'*100)\n",
    "print('Question',context)\n",
    "print('*'*100)\n",
    "print('Original Answer:',answer)\n",
    "print('*'*100)\n",
    "print('Model Answer:',ans)"
   ]
  },
  {
   "cell_type": "code",
   "execution_count": null,
   "id": "8d7ec559-c4ae-48dd-99b9-258c05379424",
   "metadata": {},
   "outputs": [],
   "source": []
  }
 ],
 "metadata": {
  "kernelspec": {
   "display_name": "Python 3 (ipykernel)",
   "language": "python",
   "name": "python3"
  },
  "language_info": {
   "codemirror_mode": {
    "name": "ipython",
    "version": 3
   },
   "file_extension": ".py",
   "mimetype": "text/x-python",
   "name": "python",
   "nbconvert_exporter": "python",
   "pygments_lexer": "ipython3",
   "version": "3.10.12"
  }
 },
 "nbformat": 4,
 "nbformat_minor": 5
}
